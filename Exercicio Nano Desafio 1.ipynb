{
 "cells": [
  {
   "cell_type": "markdown",
   "source": "<div>\n    <p style=\"float: right;\"><img src=\"https://media.swipepages.com/2021/2/sirius-logo-principal-tag-1-300.png\" height=\"80px\"border=\"1px\"></p>\n    \n</div>\n<h1>Nano Desafio 1 </h1>\n<h2> Exercícios iniciais em python </h2>\n\nAluno: Giovana Carmazio \n\nData: 11/10/2021\n\n\n",
   "metadata": {
    "tags": [],
    "cell_id": "00001-9059c58a-7002-4ff3-b2cc-c2ee2f4cdd95",
    "deepnote_cell_type": "markdown"
   }
  },
  {
   "cell_type": "markdown",
   "source": "<h3> Primeiro desafio </h3>\n\nRepare que estamos usando notebooks para escrever códigos. Ele apresenta ligeiras diferenças em relação a IDE IDLE que você instalou na sua máquina.\nNa próxima aula iremos nos aprofundar mais sobre essas diferenças.\n\nPor agora, vamos precisar que você *duplique* esse notebook e salve na sua pasta privada, para que então possa resolver os exercícios!",
   "metadata": {
    "tags": [],
    "cell_id": "00001-3484bef7-70cf-44b1-8e45-48ba8ff5a84e",
    "deepnote_cell_type": "markdown"
   }
  },
  {
   "cell_type": "markdown",
   "source": "## Exercício 1\nImprima o seu nome usando a função padrão do python - print()\n",
   "metadata": {
    "tags": [],
    "cell_id": "00002-81b8b9f9-efcd-47bb-a0e7-2386e20f6603",
    "deepnote_cell_type": "markdown"
   }
  },
  {
   "cell_type": "code",
   "metadata": {
    "tags": [],
    "cell_id": "00003-c695b388-8f52-453c-b7f5-e27efb237f32",
    "deepnote_to_be_reexecuted": false,
    "source_hash": "e16b21b",
    "execution_start": 1634126133899,
    "execution_millis": 191033,
    "deepnote_cell_type": "code"
   },
   "source": "print(\"Giovana\")",
   "outputs": [
    {
     "name": "stdout",
     "text": "Giovana\n",
     "output_type": "stream"
    }
   ],
   "execution_count": null
  },
  {
   "cell_type": "markdown",
   "source": "## Exercício 2\nImprima o seu nome e sobrenome usando a função padrão do python mas em linhas diferentes",
   "metadata": {
    "tags": [],
    "cell_id": "00003-bcf5a961-9eed-41a3-8a9a-1f2537f8a1ec",
    "deepnote_cell_type": "markdown"
   }
  },
  {
   "cell_type": "code",
   "metadata": {
    "tags": [],
    "cell_id": "00005-612314c2-68df-44ee-a946-5d7dfad80c2b",
    "deepnote_to_be_reexecuted": false,
    "source_hash": "115f293",
    "execution_start": 1634126133938,
    "execution_millis": 191047,
    "deepnote_cell_type": "code"
   },
   "source": "print(\"Giovana\")\nprint(\"Carmazio\")",
   "outputs": [
    {
     "name": "stdout",
     "text": "Giovana\nCarmazio\n",
     "output_type": "stream"
    }
   ],
   "execution_count": null
  },
  {
   "cell_type": "markdown",
   "source": "## Exercício 3\nVocê consegue repetir o exercício 2 mas agora apenas uma vez o comando \"print\" ?",
   "metadata": {
    "tags": [],
    "cell_id": "00004-20839cdd-e6f4-4118-9b12-44e1f536ac51",
    "deepnote_cell_type": "markdown"
   }
  },
  {
   "cell_type": "code",
   "metadata": {
    "tags": [],
    "cell_id": "00007-f124f3fc-4b9a-49aa-9017-e4f994041443",
    "deepnote_to_be_reexecuted": false,
    "source_hash": "1dc1f24f",
    "execution_start": 1634126133940,
    "execution_millis": 191065,
    "deepnote_cell_type": "code"
   },
   "source": "print(\"Giovana\\nCarmazio\")",
   "outputs": [
    {
     "name": "stdout",
     "text": "Giovana\nCarmazio\n",
     "output_type": "stream"
    }
   ],
   "execution_count": null
  },
  {
   "cell_type": "markdown",
   "source": "## Exercício 4\nNão podemos deixar de fazer o exercício mais clássico de quem está aprendendo a programar. Diga oi para o mundo!",
   "metadata": {
    "tags": [],
    "cell_id": "00005-5cff4d10-02a1-4ae7-a49f-53da9ea1172e",
    "deepnote_cell_type": "markdown"
   }
  },
  {
   "cell_type": "code",
   "metadata": {
    "tags": [],
    "cell_id": "00009-dcb456d0-305c-458a-be7d-0ba6bbfba0ca",
    "deepnote_to_be_reexecuted": false,
    "source_hash": "ffc57508",
    "execution_start": 1634126133957,
    "execution_millis": 191051,
    "deepnote_cell_type": "code"
   },
   "source": "print(\"Hello, Mundo!\\n\")",
   "outputs": [
    {
     "name": "stdout",
     "text": "Hello, Mundo!\n\n",
     "output_type": "stream"
    }
   ],
   "execution_count": null
  },
  {
   "cell_type": "markdown",
   "source": "## Exercício 5\nImprima a soma de 2 números a sua escolha",
   "metadata": {
    "tags": [],
    "cell_id": "00006-6c152d9f-43ce-41a1-9ed1-737f2b07f7f7",
    "deepnote_cell_type": "markdown"
   }
  },
  {
   "cell_type": "code",
   "metadata": {
    "tags": [],
    "cell_id": "00011-542cd7fe-3e27-4825-ac14-33324719bb70",
    "deepnote_to_be_reexecuted": false,
    "source_hash": "84898461",
    "execution_start": 1634126133957,
    "execution_millis": 191052,
    "deepnote_cell_type": "code"
   },
   "source": "print(155+156)",
   "outputs": [
    {
     "name": "stdout",
     "text": "311\n",
     "output_type": "stream"
    }
   ],
   "execution_count": null
  },
  {
   "cell_type": "markdown",
   "source": "## Exercício 6\nVocê se lembra que falamos da função help() ? O que ela faz?",
   "metadata": {
    "tags": [],
    "cell_id": "00007-0835fb45-dad9-48b4-b456-e785013d9e90",
    "deepnote_cell_type": "markdown"
   }
  },
  {
   "cell_type": "code",
   "metadata": {
    "tags": [],
    "cell_id": "00013-5477f689-37b0-492d-8d67-f0486ffcaf7c",
    "deepnote_to_be_reexecuted": false,
    "source_hash": "f5b0eca2",
    "execution_start": 1634126133958,
    "execution_millis": 5591,
    "deepnote_cell_type": "code"
   },
   "source": "#É uma breve explicação de como o método funciona e informa qual a utilidade dele.\n\nhelp()",
   "outputs": [
    {
     "name": "stdout",
     "text": "\nWelcome to Python 3.7's help utility!\n\nIf this is your first time using Python, you should definitely check out\nthe tutorial on the Internet at https://docs.python.org/3.7/tutorial/.\n\nEnter the name of any module, keyword, or topic to get help on writing\nPython programs and using Python modules.  To quit this help utility and\nreturn to the interpreter, just type \"quit\".\n\nTo get a list of available modules, keywords, symbols, or topics, type\n\"modules\", \"keywords\", \"symbols\", or \"topics\".  Each module also comes\nwith a one-line summary of what it does; to list the modules whose name\nor summary contain a given string such as \"spam\", type \"modules spam\".\n\n\nYou are now leaving help and returning to the Python interpreter.\nIf you want to ask for help on a particular object directly from the\ninterpreter, you can type \"help(object)\".  Executing \"help('string')\"\nhas the same effect as typing a particular string at the help> prompt.\n",
     "output_type": "stream"
    }
   ],
   "execution_count": null
  },
  {
   "cell_type": "markdown",
   "source": "## Exercício 7\nE se você usar a função help() para saber mais sobre a função print()?",
   "metadata": {
    "tags": [],
    "cell_id": "00008-b610cffe-c267-400d-975d-660028fcbe9a",
    "deepnote_cell_type": "markdown"
   }
  },
  {
   "cell_type": "code",
   "metadata": {
    "tags": [],
    "cell_id": "00015-72280371-6397-4d00-bf10-015a56684fd7",
    "deepnote_to_be_reexecuted": false,
    "source_hash": "f8c58ce4",
    "execution_start": 1634126139542,
    "execution_millis": 12,
    "deepnote_cell_type": "code"
   },
   "source": "help(print)",
   "outputs": [
    {
     "name": "stdout",
     "text": "Help on built-in function print in module builtins:\n\nprint(...)\n    print(value, ..., sep=' ', end='\\n', file=sys.stdout, flush=False)\n    \n    Prints the values to a stream, or to sys.stdout by default.\n    Optional keyword arguments:\n    file:  a file-like object (stream); defaults to the current sys.stdout.\n    sep:   string inserted between values, default a space.\n    end:   string appended after the last value, default a newline.\n    flush: whether to forcibly flush the stream.\n\n",
     "output_type": "stream"
    }
   ],
   "execution_count": null
  },
  {
   "cell_type": "markdown",
   "source": "## Exercício 8\nQue tal agora descobrimos qual versão do python você está usando? ",
   "metadata": {
    "tags": [],
    "cell_id": "00009-a151ae17-2d6b-44d8-97ea-5ddc9bc0db51",
    "deepnote_cell_type": "markdown"
   }
  },
  {
   "cell_type": "code",
   "metadata": {
    "tags": [],
    "cell_id": "00017-f9096158-ed77-4c16-82c3-7945f783c266",
    "deepnote_to_be_reexecuted": false,
    "source_hash": "bf4115a0",
    "execution_start": 1634126139542,
    "execution_millis": 0,
    "deepnote_cell_type": "code"
   },
   "source": "import sys\nprint(sys.version)",
   "outputs": [
    {
     "name": "stdout",
     "text": "3.7.12 (default, Sep 28 2021, 20:11:10) \n[GCC 8.3.0]\n",
     "output_type": "stream"
    }
   ],
   "execution_count": null
  },
  {
   "cell_type": "markdown",
   "source": "## Exercício 9\nCrie duas variáveis com valores inteiros <br>\nImprima a soma dessas duas variáveis <br>",
   "metadata": {
    "tags": [],
    "cell_id": "00010-9aa226a4-1322-4ff5-afca-97327ec31617",
    "deepnote_cell_type": "markdown"
   }
  },
  {
   "cell_type": "code",
   "metadata": {
    "tags": [],
    "cell_id": "00019-b9146c39-51e7-417f-a4d9-09d87f7dee53",
    "deepnote_to_be_reexecuted": false,
    "source_hash": "ec4d8762",
    "execution_start": 1634126139543,
    "execution_millis": 6,
    "deepnote_cell_type": "code"
   },
   "source": "x = 40\ny = 80\nprint(x + y)",
   "outputs": [
    {
     "name": "stdout",
     "text": "120\n",
     "output_type": "stream"
    }
   ],
   "execution_count": null
  },
  {
   "cell_type": "markdown",
   "source": "## Exercício 10\nCrie duas variáveis que irá receber os valores do usuário <br>\nImprima a soma dessas duas variáveis <br>",
   "metadata": {
    "tags": [],
    "cell_id": "00011-87b91a4e-677e-4645-af3a-bc27d107b009",
    "deepnote_cell_type": "markdown"
   }
  },
  {
   "cell_type": "code",
   "metadata": {
    "tags": [],
    "cell_id": "00021-3dd24c74-e9d2-4291-9ccc-b07d635ec322",
    "deepnote_to_be_reexecuted": false,
    "source_hash": "1ae34ba3",
    "execution_start": 1634126139554,
    "execution_millis": 7955,
    "deepnote_cell_type": "code"
   },
   "source": "x = int(input())\ny = int(input())\nprint(x + y)",
   "outputs": [
    {
     "name": "stdout",
     "text": "22\n",
     "output_type": "stream"
    }
   ],
   "execution_count": null
  },
  {
   "cell_type": "markdown",
   "source": "## Exercício 11\nQue tal voltamos para os nomes? Agora imprima o nome que o usuário digitou",
   "metadata": {
    "tags": [],
    "cell_id": "00012-04d6af7e-4b24-45fd-b5b4-2357dec40669",
    "deepnote_cell_type": "markdown"
   }
  },
  {
   "cell_type": "code",
   "metadata": {
    "tags": [],
    "cell_id": "00023-d4817598-91cc-4ef6-a789-b6217b5d4347",
    "deepnote_to_be_reexecuted": false,
    "source_hash": "4e0e4f91",
    "execution_start": 1634126147505,
    "execution_millis": 4902,
    "deepnote_cell_type": "code"
   },
   "source": "name = str(input())\nprint(name)",
   "outputs": [
    {
     "name": "stdout",
     "text": "giovana\n",
     "output_type": "stream"
    }
   ],
   "execution_count": null
  },
  {
   "cell_type": "markdown",
   "source": "## Exercício 12\nPodemos ser um pouco mais educados, não é mesmo? <br>\nPergunte o nome do usuário antes, atribua esse valor a uma variável e então imprima o nome com uma saudação!",
   "metadata": {
    "tags": [],
    "cell_id": "00013-fcca80d7-7979-4aa5-aba2-e72369c2fb69",
    "deepnote_cell_type": "markdown"
   }
  },
  {
   "cell_type": "code",
   "metadata": {
    "tags": [],
    "cell_id": "00025-2c4745bd-1c69-4a99-bd9d-1dd5eafad614",
    "deepnote_to_be_reexecuted": false,
    "source_hash": "8f3ceadd",
    "execution_start": 1634126152403,
    "execution_millis": 4067,
    "deepnote_cell_type": "code"
   },
   "source": "print('Wats your name?')\nnome = input()\nprint(\"Hello, \"+ nome + \"!\")",
   "outputs": [
    {
     "name": "stdout",
     "text": "Wats your name?\nHello, Giovana!\n",
     "output_type": "stream"
    }
   ],
   "execution_count": null
  },
  {
   "cell_type": "markdown",
   "source": "## Exercício 13\nVamos começar a construir alguns algoritmos que podem nos ajudar mais no dia a dia! <br>\nFaça um algoritmo que, dada a entrada do usuário em metros, transforme para milímetros",
   "metadata": {
    "tags": [],
    "cell_id": "00014-33346b94-ae79-42e1-a53a-4403c15fc59d",
    "deepnote_cell_type": "markdown"
   }
  },
  {
   "cell_type": "code",
   "metadata": {
    "tags": [],
    "cell_id": "00027-20acb2af-0cc5-4e8f-b3de-c8b49228bc06",
    "deepnote_to_be_reexecuted": false,
    "source_hash": "a63ce8e4",
    "execution_start": 1634126156472,
    "execution_millis": 7039,
    "deepnote_cell_type": "code"
   },
   "source": "metros = float(input('$ em Metros: '))\nmili = metros*1000\nprint('O valor em é : %.2f milimetros '%mili)",
   "outputs": [
    {
     "name": "stdout",
     "text": "O valor em é : 2000.00 milimetros \n",
     "output_type": "stream"
    }
   ],
   "execution_count": null
  },
  {
   "cell_type": "markdown",
   "source": "## Exercício 14\nDado o número de dias, horas e minutos, transforme tudo para segundos!",
   "metadata": {
    "tags": [],
    "cell_id": "00015-b23a0380-40f6-4c72-9e3d-c4454e1204c4",
    "deepnote_cell_type": "markdown"
   }
  },
  {
   "cell_type": "code",
   "metadata": {
    "tags": [],
    "cell_id": "00029-cdb6ac46-0045-4098-892b-1b38dc3888ec",
    "deepnote_to_be_reexecuted": false,
    "source_hash": "38990fd8",
    "execution_start": 1634126163508,
    "execution_millis": 10382,
    "deepnote_cell_type": "code"
   },
   "source": "dias=int(input('Quantidade de Dias: '))\nhoras=int(input('Quantidade de Horas: '))\nminutos=int(input('Quantidade de minutos: '))\n\nsegundos=(dias*86400)+(horas*3600)+(minutos*60)\nprint(segundos)",
   "outputs": [
    {
     "name": "stdout",
     "text": "1368180\n",
     "output_type": "stream"
    }
   ],
   "execution_count": null
  },
  {
   "cell_type": "markdown",
   "source": "## Exercício 15\nQuantos segundos você já viveu? <br>\nDado a idade em anos de uma pessoa, informe quantos segundos ela já viveu!",
   "metadata": {
    "tags": [],
    "cell_id": "00016-6d412b56-38d6-4d0e-9a88-b039d5eec743",
    "deepnote_cell_type": "markdown"
   }
  },
  {
   "cell_type": "code",
   "metadata": {
    "tags": [],
    "cell_id": "00031-7936ccbb-3287-45fd-a876-488325b1d557",
    "deepnote_to_be_reexecuted": false,
    "source_hash": "4952b5a6",
    "execution_start": 1634126173887,
    "execution_millis": 3281,
    "deepnote_cell_type": "code"
   },
   "source": "anosvida=int(input(\"Quantos anos você tem? \"))\ndias = anosvida * 365 \nhoras = dias * 24\nminutos = horas * 60\nsegundos = minutos * 60\nprint(\"Você já viveu %.0f segundos \"%segundos)",
   "outputs": [
    {
     "name": "stdout",
     "text": "Você já viveu 819936000 segundos \n",
     "output_type": "stream"
    }
   ],
   "execution_count": null
  },
  {
   "cell_type": "markdown",
   "source": "## Exercício 16\nAumento salarial! <br>\nA partir do salário informado pelo usuário e o percentual desejado de aumento do mesmo, calcule o novo valor do salário",
   "metadata": {
    "tags": [],
    "cell_id": "00017-f796480d-8c3f-42a9-ad70-3fc6b00506a8",
    "deepnote_cell_type": "markdown"
   }
  },
  {
   "cell_type": "code",
   "metadata": {
    "tags": [],
    "cell_id": "00033-348d26c9-f1cf-4ab4-b9e4-f2ed044ab9e1",
    "deepnote_to_be_reexecuted": false,
    "source_hash": "8f556d2d",
    "execution_start": 1634126177161,
    "execution_millis": 10751,
    "deepnote_cell_type": "code"
   },
   "source": "salarioatual = float(input('Insira o seu Salário atual: '))\naumentosalarial = float(input('Insira o percentual de Aumento desejado: '))\n\nnovosalario = salarioatual+(salarioatual*(aumentosalarial/100))\nprint('O Salário Reajustado é R$ %.2f'%novosalario)",
   "outputs": [
    {
     "name": "stdout",
     "text": "O Salário Reajustado é R$ 1100.00\n",
     "output_type": "stream"
    }
   ],
   "execution_count": null
  },
  {
   "cell_type": "markdown",
   "source": "## Exercício 17\nQuanto tempo levaremos para chegar? Dado a distância da viagem e a velocidade média esperada, informe o tempo que a viagem irá durar",
   "metadata": {
    "tags": [],
    "cell_id": "00018-36d850b4-72c0-4593-b5c2-cef7edfb2a80",
    "deepnote_cell_type": "markdown"
   }
  },
  {
   "cell_type": "code",
   "metadata": {
    "tags": [],
    "cell_id": "00035-0873bede-0fe0-4a2b-82f9-9cd59003394e",
    "deepnote_to_be_reexecuted": false,
    "source_hash": "e2423c29",
    "execution_start": 1634126187906,
    "execution_millis": 8814,
    "deepnote_cell_type": "code"
   },
   "source": "distancia = float(input('Qual foi a distancia percorrida (KM)?: '))\nvelocidade = float(input('Qual foi a velocidade que você percorreu?: '))\n\ntempo = distancia / velocidade\nmin = (round(tempo % 1, 2))\nmin = (min * 60)\n\nprint('O tempo esperado da viagem é de {:.0f} horas e {:.0f} minutos'.format(tempo,min))",
   "outputs": [
    {
     "name": "stdout",
     "text": "O tempo esperado da viagem é de 2 horas e 30 minutos\n",
     "output_type": "stream"
    }
   ],
   "execution_count": null
  },
  {
   "cell_type": "markdown",
   "source": "## Exercício 18\nTa frio ou ta quente? Dado uma temperatura em Fahrenheit transforme-a para Celsius <br>\nDica: F = 9*C/5 + 32.8",
   "metadata": {
    "tags": [],
    "cell_id": "00019-34389055-61e8-4abe-84d3-bac4c10aba73",
    "deepnote_cell_type": "markdown"
   }
  },
  {
   "cell_type": "code",
   "metadata": {
    "tags": [],
    "cell_id": "00037-e3e04263-cf79-45b6-accb-6a4cc16a0c1a",
    "deepnote_to_be_reexecuted": false,
    "source_hash": "df9eee39",
    "execution_start": 1634126196716,
    "execution_millis": 5671,
    "deepnote_cell_type": "code"
   },
   "source": "f = float(input('Qual a Temperatura em Fahrenheit? '))\nc = ((f-32)/1.8)\n\nprint('A temperatura em grau Celsius é de : {:.2f}'.format(c))",
   "outputs": [
    {
     "name": "stdout",
     "text": "A temperatura em grau Celsius é de : 26.67\n",
     "output_type": "stream"
    }
   ],
   "execution_count": null
  },
  {
   "cell_type": "markdown",
   "source": "## Exercício 19\nE ao contrário, como ficaria? Dado uma temperatura em Celsius transforme-a para Fahrenheit <br>\nDica: F = 9*C/5 + 32.8",
   "metadata": {
    "tags": [],
    "cell_id": "00020-862b7b58-ef67-487f-9a3a-05ff168f4f3a",
    "deepnote_cell_type": "markdown"
   }
  },
  {
   "cell_type": "code",
   "metadata": {
    "tags": [],
    "cell_id": "00039-840ac656-a1a2-41aa-9562-5d3926323e49",
    "deepnote_to_be_reexecuted": false,
    "source_hash": "c15284eb",
    "execution_start": 1634126202390,
    "execution_millis": 5289,
    "deepnote_cell_type": "code"
   },
   "source": "c = float(input('Qual a Temperatura em grau Celsius? '))\nf = (9*(c/5)+32)\n\nprint('A tempereatura em Fahrenheit é de : {:.2f}'.format(f))",
   "outputs": [
    {
     "name": "stdout",
     "text": "A tempereatura em Fahrenheit é de : 98.60\n",
     "output_type": "stream"
    }
   ],
   "execution_count": null
  },
  {
   "cell_type": "markdown",
   "source": "## Exercício 20\nE por fim, mas não menos importante, troque o valor das variáveis!\nPeça para o usuário informar um número qualquer e armaneze na variável x. <br>\nPeça para o usuário informar outro número e armazene na variável y <br>\nAgora inverta os valores. O valor que estava em x deve ir para y e o valor que estava em y deve ir para x",
   "metadata": {
    "tags": [],
    "cell_id": "00021-d2025b5d-24c3-4bf3-aec9-796148e24553",
    "deepnote_cell_type": "markdown"
   }
  },
  {
   "cell_type": "code",
   "metadata": {
    "tags": [],
    "cell_id": "00041-b7bd113d-c7b2-469a-94c7-6d669e36cd90",
    "deepnote_to_be_reexecuted": false,
    "source_hash": "245c61fb",
    "execution_start": 1634126207676,
    "execution_millis": 13252,
    "deepnote_cell_type": "code"
   },
   "source": "x = float(input(\"Informe um número para X: \"))\ny = float(input(\"Informe outro número para Y: \"))\n\ntemp = x\nx = y\ny = temp\n\nprint(\"Os valores antigos de X e Y eram de {:.2f} e {:.2f}\".format(y,x))\nprint(\"Os valores novos de X e Y são de: {:.2f} e {:.2f}\".format(x,y))",
   "outputs": [
    {
     "name": "stdout",
     "text": "Os valores antigos de X e Y eram de 8.00 e 7.00\nOs valores novos de X e Y são de: 7.00 e 8.00\n",
     "output_type": "stream"
    }
   ],
   "execution_count": null
  },
  {
   "cell_type": "markdown",
   "source": "## Exercício 21\nDado um número, informar ser o número é primo ou não",
   "metadata": {
    "tags": [],
    "cell_id": "00022-2ea46d70-8018-4d95-b69e-4f76df1e494b",
    "deepnote_cell_type": "markdown"
   }
  },
  {
   "cell_type": "code",
   "metadata": {
    "tags": [],
    "cell_id": "00043-329020de-dc46-4c42-8161-7af4dc27c35e",
    "deepnote_to_be_reexecuted": false,
    "source_hash": "924e47e5",
    "execution_start": 1634126220924,
    "execution_millis": 6881,
    "deepnote_cell_type": "code"
   },
   "source": "num = int(input(\"Digite um número: \"))\ncontador = 0\n\nfor i in range(1, num + 1):\n    if num % i == 0:\n        contador += 1\n\nprint(\"O número {} foi divisível {} vezes!\".format(num, contador))\n\nif contador == 2:\n    print(\"O número é primo\")\nelse:\n    print(\"O número não é primo\")",
   "outputs": [
    {
     "name": "stdout",
     "text": "O número 3 foi divisível 2 vezes!\nO número é primo\n",
     "output_type": "stream"
    }
   ],
   "execution_count": null
  },
  {
   "cell_type": "markdown",
   "source": "## Exercício 22\n\n",
   "metadata": {
    "tags": [],
    "cell_id": "00023-470f2509-76dc-4adf-816e-5e245e938b8b",
    "deepnote_cell_type": "markdown"
   }
  },
  {
   "cell_type": "markdown",
   "source": "",
   "metadata": {
    "tags": [],
    "cell_id": "00021-ca4e6b01-bb13-4684-bdd3-d08328baebb9",
    "deepnote_cell_type": "markdown"
   }
  },
  {
   "cell_type": "markdown",
   "source": "## Bônus\n1- Você consegue repetir todos esses exercícios na IDE IDLE?\n",
   "metadata": {
    "tags": [],
    "cell_id": "00006-2d589f6f-e584-4d33-9241-6337cd28f35d",
    "deepnote_cell_type": "markdown"
   }
  },
  {
   "cell_type": "markdown",
   "source": "<a style='text-decoration:none;line-height:16px;display:flex;color:#5B5B62;padding:10px;justify-content:end;' href='https://deepnote.com?utm_source=created-in-deepnote-cell&projectId=02bfa759-d6c5-44d8-8a80-f4ceb4f45082' target=\"_blank\">\n<img alt='Created in deepnote.com' style='display:inline;max-height:16px;margin:0px;margin-right:7.5px;' src='data:image/svg+xml;base64,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' > </img>\nCreated in <span style='font-weight:600;margin-left:4px;'>Deepnote</span></a>",
   "metadata": {
    "tags": [],
    "created_in_deepnote_cell": true,
    "deepnote_cell_type": "markdown"
   }
  }
 ],
 "nbformat": 4,
 "nbformat_minor": 2,
 "metadata": {
  "orig_nbformat": 2,
  "deepnote": {
   "is_reactive": false
  },
  "deepnote_notebook_id": "20baba61-9256-48a1-8eac-728e83a54b3b",
  "deepnote_execution_queue": []
 }
}
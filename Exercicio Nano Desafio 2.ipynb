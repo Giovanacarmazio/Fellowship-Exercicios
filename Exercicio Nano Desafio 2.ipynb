{
 "cells": [
  {
   "cell_type": "markdown",
   "source": "<div>\n    <p style=\"float: right;\"><img src=\"https://media.swipepages.com/2021/2/sirius-logo-principal-tag-1-300.png\" height=\"80px\"border=\"1px\"></p>\n    \n</div>\n<h1>Nano Desafio 5</h1>\n<h2>Exercício de listas, filas, pilhas e dicionários em python</h2>\n\nAluno: Giovana Isabel Souza Carmazio\n\nData: 25/10/2021\n\n\n",
   "metadata": {
    "id": "4jwfBVgDk0Mq",
    "cell_id": "00000-0c912e7b-1fd1-4d3b-b83d-43bda1368aaf",
    "deepnote_cell_type": "markdown"
   }
  },
  {
   "cell_type": "markdown",
   "source": "Em oposição às tuplas, as listas têm tamanhos variáveis e seu conteúdo pode ser modificado in-place. Podemos defini-las usando colchetes [] ou com a função do tipo list:",
   "metadata": {
    "id": "NnLKT9jKrxgD",
    "cell_id": "00002-6928b7b4-f0ab-4f1e-bdb1-3e4554085f77",
    "deepnote_cell_type": "markdown"
   }
  },
  {
   "cell_type": "code",
   "metadata": {
    "id": "TlWxdfecr9TV",
    "colab": {
     "base_uri": "https://localhost:8080/"
    },
    "outputId": "0393e24b-0e8c-4a67-8093-b6b95f3da022",
    "cell_id": "00003-2d8cfd77-874a-439a-a81c-c0159575643e",
    "deepnote_to_be_reexecuted": false,
    "source_hash": "5bf94688",
    "execution_start": 1632353025495,
    "execution_millis": 44,
    "deepnote_cell_type": "code"
   },
   "source": "lista = [1, 2, 3, 4]\ntype(lista)",
   "execution_count": null,
   "outputs": [
    {
     "output_type": "execute_result",
     "execution_count": 1,
     "data": {
      "text/plain": "list"
     },
     "metadata": {}
    }
   ]
  },
  {
   "cell_type": "markdown",
   "source": "Podemos também converter uma tupla em uma lista, através da função <b>list</b>",
   "metadata": {
    "id": "shNtY0J9sI_G",
    "cell_id": "00004-4b89ace0-8a7d-4986-9ba7-1f48f7d0853e",
    "deepnote_cell_type": "markdown"
   }
  },
  {
   "cell_type": "code",
   "metadata": {
    "id": "09IbsgFosLav",
    "colab": {
     "base_uri": "https://localhost:8080/"
    },
    "outputId": "b4a902e7-5f39-4f8e-cbab-da5c6a361497",
    "cell_id": "00005-7de7cbd0-cb9f-4423-a788-8e930e162d38",
    "deepnote_cell_type": "code"
   },
   "source": "type(list((9,10,11)))",
   "execution_count": null,
   "outputs": [
    {
     "output_type": "execute_result",
     "data": {
      "text/plain": "list"
     },
     "metadata": {},
     "execution_count": 6
    }
   ]
  },
  {
   "cell_type": "markdown",
   "source": "Como mencionado, podemos também alterar uma lista in-place",
   "metadata": {
    "id": "-Bs8bi49sdf6",
    "cell_id": "00006-422028d6-16d3-4400-883c-0a1edb015d06",
    "deepnote_cell_type": "markdown"
   }
  },
  {
   "cell_type": "code",
   "metadata": {
    "id": "bYikbW2ksZqR",
    "cell_id": "00007-6617d418-2e8c-4f85-823a-ddd8d8a8df1b",
    "deepnote_cell_type": "code"
   },
   "source": "lista[0] = 45",
   "execution_count": null,
   "outputs": []
  },
  {
   "cell_type": "code",
   "metadata": {
    "colab": {
     "base_uri": "https://localhost:8080/"
    },
    "id": "X0ySVmRVqD-1",
    "outputId": "d4337b9b-3ecc-4c7d-da3b-848880e0fdc8",
    "cell_id": "00008-a87a0fe4-9fb3-4929-b99e-84180b9231c3",
    "deepnote_cell_type": "code"
   },
   "source": "lista",
   "execution_count": null,
   "outputs": [
    {
     "output_type": "execute_result",
     "data": {
      "text/plain": "[45, 2, 3, 4]"
     },
     "metadata": {},
     "execution_count": 8
    }
   ]
  },
  {
   "cell_type": "markdown",
   "source": "### **Adicionando e removendo elementos**",
   "metadata": {
    "id": "tL9mq-1qs8pj",
    "cell_id": "00009-024d7dc0-73c8-4ec8-97a6-6006ab4c7640",
    "deepnote_cell_type": "markdown"
   }
  },
  {
   "cell_type": "markdown",
   "source": "Através do método <b>append</b>, podemos adicionar um valor no final de uma lista",
   "metadata": {
    "id": "yaaApQuWtHvL",
    "cell_id": "00010-4bd81fa2-23df-4c6b-b431-f89825eaf484",
    "deepnote_cell_type": "markdown"
   }
  },
  {
   "cell_type": "code",
   "metadata": {
    "id": "SPmABtOvtAcX",
    "cell_id": "00011-ffe0a14e-4af3-4ce9-b57d-a04bd6f31355",
    "deepnote_cell_type": "code"
   },
   "source": "lista.append(50)",
   "execution_count": null,
   "outputs": []
  },
  {
   "cell_type": "code",
   "metadata": {
    "colab": {
     "base_uri": "https://localhost:8080/"
    },
    "id": "lUFyNaaQuHH1",
    "outputId": "72b30e60-6efa-4878-c53d-f2287dbb1971",
    "cell_id": "00012-412c12f3-c62e-4b0f-9d18-c8bc443b53e5",
    "deepnote_cell_type": "code"
   },
   "source": "lista",
   "execution_count": null,
   "outputs": [
    {
     "output_type": "execute_result",
     "data": {
      "text/plain": "[45, 2, 3, 4, 50]"
     },
     "metadata": {},
     "execution_count": 10
    }
   ]
  },
  {
   "cell_type": "markdown",
   "source": "Através do método <b>insert</b> conseguimos inserir um valor em um local específico",
   "metadata": {
    "id": "mkONYWwqtQxh",
    "cell_id": "00013-02e6045e-add2-4f07-8e67-4094b337c918",
    "deepnote_cell_type": "markdown"
   }
  },
  {
   "cell_type": "code",
   "metadata": {
    "id": "JotpTSvXtVY_",
    "colab": {
     "base_uri": "https://localhost:8080/"
    },
    "outputId": "a5261ded-ed4b-45a7-dd9f-9ca0e7a25736",
    "cell_id": "00014-ad1b2225-934e-48ca-88e7-3ee4265f3fe0",
    "deepnote_cell_type": "code"
   },
   "source": "lista.insert(1, 99)\nlista",
   "execution_count": null,
   "outputs": [
    {
     "output_type": "execute_result",
     "data": {
      "text/plain": "[45, 99, 2, 3, 4, 50]"
     },
     "metadata": {},
     "execution_count": 11
    }
   ]
  },
  {
   "cell_type": "markdown",
   "source": "A operação inversa ao insert é o <b>pop</b> que remove o valor de acordo com o índice informado e o apresenta",
   "metadata": {
    "id": "DiyetImfthDF",
    "cell_id": "00015-9eb7da95-cef6-45fe-9a77-23f517e5bb7a",
    "deepnote_cell_type": "markdown"
   }
  },
  {
   "cell_type": "code",
   "metadata": {
    "id": "fpV7C2VZtvzH",
    "colab": {
     "base_uri": "https://localhost:8080/"
    },
    "outputId": "af351b1e-d4dc-453e-e2a4-8021ee078712",
    "cell_id": "00016-382a7139-1517-4e3c-8fa6-9b462572fa8e",
    "deepnote_cell_type": "code"
   },
   "source": "lista.pop(2)",
   "execution_count": null,
   "outputs": [
    {
     "output_type": "execute_result",
     "data": {
      "text/plain": "2"
     },
     "metadata": {},
     "execution_count": 12
    }
   ]
  },
  {
   "cell_type": "code",
   "metadata": {
    "colab": {
     "base_uri": "https://localhost:8080/"
    },
    "id": "si-oq3Gaq4Sm",
    "outputId": "8a051763-d3a6-424e-ed6c-2395574532a4",
    "cell_id": "00017-19ec173a-b298-475f-b98f-2911fa1cec16",
    "deepnote_cell_type": "code"
   },
   "source": "lista",
   "execution_count": null,
   "outputs": [
    {
     "output_type": "execute_result",
     "data": {
      "text/plain": "[45, 99, 3, 4, 50]"
     },
     "metadata": {},
     "execution_count": 13
    }
   ]
  },
  {
   "cell_type": "markdown",
   "source": "Você pode utilizar o <b>remove</b> que localiza e retira o primeiro valor encontrado na lista",
   "metadata": {
    "id": "Wm3hF0qit9aJ",
    "cell_id": "00018-de321637-eba8-4b45-9086-c3f13c3269fa",
    "deepnote_cell_type": "markdown"
   }
  },
  {
   "cell_type": "code",
   "metadata": {
    "id": "YMPQQmNYuISU",
    "colab": {
     "base_uri": "https://localhost:8080/"
    },
    "outputId": "405bbe53-d8fa-459b-9152-acdf73a43b95",
    "cell_id": "00019-3580ed27-a565-4891-aecb-b2b4754ec0e7",
    "deepnote_cell_type": "code"
   },
   "source": "lista.remove(50)\nlista",
   "execution_count": null,
   "outputs": [
    {
     "output_type": "execute_result",
     "data": {
      "text/plain": "[45, 99, 3, 4]"
     },
     "metadata": {},
     "execution_count": 14
    }
   ]
  },
  {
   "cell_type": "markdown",
   "source": "Podemos verificar através do comparador <b>in</b> se um valor é existente em uma lista",
   "metadata": {
    "id": "qucDDHsPucEc",
    "cell_id": "00020-e92f7f8d-d840-46ce-acd1-8bd333f87ced",
    "deepnote_cell_type": "markdown"
   }
  },
  {
   "cell_type": "code",
   "metadata": {
    "id": "ZCWVt1-eufcj",
    "colab": {
     "base_uri": "https://localhost:8080/"
    },
    "outputId": "6449e67f-f3b6-433c-8baa-75a8b2ed7ddd",
    "cell_id": "00021-5de01c50-cb3f-41aa-961b-616c4972a1b3",
    "deepnote_cell_type": "code"
   },
   "source": "990 in lista",
   "execution_count": null,
   "outputs": [
    {
     "output_type": "execute_result",
     "data": {
      "text/plain": "False"
     },
     "metadata": {},
     "execution_count": 16
    }
   ]
  },
  {
   "cell_type": "markdown",
   "source": "### **Concatenando e combinando listas**",
   "metadata": {
    "id": "Y9eWB_cwvBNr",
    "cell_id": "00022-895ba746-1f3b-469e-9c59-59c9814a226b",
    "deepnote_cell_type": "markdown"
   }
  },
  {
   "cell_type": "markdown",
   "source": "Para lista novas podemos utilizar o sinal de <b>(+)</b> semelhante as tuplas",
   "metadata": {
    "id": "MIhY2no6vHTz",
    "cell_id": "00023-8f64860e-61d5-4442-90a1-8d4b41e3ba62",
    "deepnote_cell_type": "markdown"
   }
  },
  {
   "cell_type": "code",
   "metadata": {
    "id": "B5403qM0vQWN",
    "colab": {
     "base_uri": "https://localhost:8080/"
    },
    "outputId": "8bf76d33-75ba-42ab-9d73-0de26ff58a04",
    "cell_id": "00024-fcef24dd-18aa-4d5e-8064-f726f879d5ec",
    "deepnote_cell_type": "code"
   },
   "source": "lista1 = [0,1,2,3]\nlista2 = [4,5,6,7]\nlista3 = lista1 + lista2\nlista3",
   "execution_count": null,
   "outputs": [
    {
     "output_type": "execute_result",
     "data": {
      "text/plain": "[0, 1, 2, 3, 4, 5, 6, 7]"
     },
     "metadata": {},
     "execution_count": 17
    }
   ]
  },
  {
   "cell_type": "markdown",
   "source": "Para listas já existentes é recomendado utilizar a função <b>extend</b>",
   "metadata": {
    "id": "_N5tBKGevlQA",
    "cell_id": "00025-592441e1-99a2-4ddf-86fd-c1be7d2bd267",
    "deepnote_cell_type": "markdown"
   }
  },
  {
   "cell_type": "code",
   "metadata": {
    "id": "pxwdFO-yvqPv",
    "colab": {
     "base_uri": "https://localhost:8080/"
    },
    "outputId": "c5c7a198-d522-4033-b979-29e4f8d28e00",
    "cell_id": "00026-9b10a97b-f410-4e65-a708-b03d91365676",
    "allow_embed": "code_output",
    "deepnote_cell_type": "code"
   },
   "source": "lista_nova = [8,9,10]\nlista3.extend(lista_nova)\nlista3",
   "execution_count": null,
   "outputs": [
    {
     "output_type": "execute_result",
     "data": {
      "text/plain": "[0, 1, 2, 3, 4, 5, 6, 7, 8, 9, 10]"
     },
     "metadata": {},
     "execution_count": 18
    }
   ]
  },
  {
   "cell_type": "markdown",
   "source": "### **Ordenação**",
   "metadata": {
    "id": "OOcjGrk-v668",
    "cell_id": "00027-dd07d719-f08d-4076-bc8e-f5e984ae0044",
    "deepnote_cell_type": "markdown"
   }
  },
  {
   "cell_type": "markdown",
   "source": "Você pode ordenar uma lista in-place (sem criar um novo objeto), chamando a sua função <b>sort</b>:",
   "metadata": {
    "id": "k7iovQ5Uv9ny",
    "cell_id": "00028-db4c2cdc-785c-4d02-9657-11803f5f8843",
    "deepnote_cell_type": "markdown"
   }
  },
  {
   "cell_type": "code",
   "metadata": {
    "id": "KkbhMJGywGIQ",
    "colab": {
     "base_uri": "https://localhost:8080/"
    },
    "outputId": "309c956d-3f04-40ab-e188-017978d27a93",
    "cell_id": "00029-73bf56b1-e119-4e3a-82ab-27c55c7f3840",
    "deepnote_cell_type": "code"
   },
   "source": "lista_nova.sort(reverse=True)\nlista_nova",
   "execution_count": null,
   "outputs": [
    {
     "output_type": "execute_result",
     "data": {
      "text/plain": "[10, 9, 8]"
     },
     "metadata": {},
     "execution_count": 21
    }
   ]
  },
  {
   "cell_type": "markdown",
   "source": "### **Fatiamento**",
   "metadata": {
    "id": "h8qNWdpzxrTt",
    "cell_id": "00030-de44ce4f-55d7-415f-bcf4-be471b300591",
    "deepnote_cell_type": "markdown"
   }
  },
  {
   "cell_type": "markdown",
   "source": "Podemos selecionar seções da maioria dos tipos de sequência usando a notação de fatias (slices), que, em seu formato básico, é constituída de <b>start:stop</b> passando ao operador de indexação []:",
   "metadata": {
    "id": "4ns3a-27xtMx",
    "cell_id": "00031-c7f45048-c798-4112-8c8c-70f77e891173",
    "deepnote_cell_type": "markdown"
   }
  },
  {
   "cell_type": "code",
   "metadata": {
    "id": "tMB2jrTrxqju",
    "colab": {
     "base_uri": "https://localhost:8080/"
    },
    "outputId": "816bdc12-d635-4348-a150-24bc758e3b52",
    "cell_id": "00032-d89aa4e8-0b0f-4003-87cd-36a4a055fb5a",
    "deepnote_cell_type": "code"
   },
   "source": "lista3[3:6]",
   "execution_count": null,
   "outputs": [
    {
     "output_type": "execute_result",
     "data": {
      "text/plain": "[3, 4, 5]"
     },
     "metadata": {},
     "execution_count": 24
    }
   ]
  },
  {
   "cell_type": "markdown",
   "source": "Podemos omitir o start ou stop da nossa busca de sequências",
   "metadata": {
    "id": "_pnJmNrRyhIi",
    "cell_id": "00033-23d7ced7-51b9-401f-a141-8010df97ad97",
    "deepnote_cell_type": "markdown"
   }
  },
  {
   "cell_type": "code",
   "metadata": {
    "id": "hgnQpyriyq4J",
    "colab": {
     "base_uri": "https://localhost:8080/"
    },
    "outputId": "00a8062a-055e-474b-d2b5-ea88e8275630",
    "cell_id": "00034-56a987ee-80b0-49b5-b4c3-0afc29efacfc",
    "deepnote_cell_type": "code"
   },
   "source": "lista3[3:]",
   "execution_count": null,
   "outputs": [
    {
     "output_type": "execute_result",
     "data": {
      "text/plain": "[3, 4, 5, 6, 7, 8, 9, 10]"
     },
     "metadata": {},
     "execution_count": 26
    }
   ]
  },
  {
   "cell_type": "markdown",
   "source": "## Referências\n\nEsses exercicios abordam conhecimentos de listas e dicionarios, caso precise de um reforço ou deseja se aprofundar no tema segue fontes uteis para seus estudos:\n\n* [Python: Trabalhando com dicionários](https://www.alura.com.br/artigos/trabalhando-com-o-dicionario-no-python) - Alura\n\n* [Python para Zumbis - Arquivos e Dicionários](https://www.youtube.com/watch?v=EEnmjT4GVJM&list=PLUukMN0DTKCtbzhbYe2jdF4cr8MOWClXc&index=40) - Youtube (apartir do minuto 8:45)\n\n* [Trabalhando com listas Python](https://www.youtube-nocookie.com/embed/k-7qS-XTpCo?start=17) - Youtube\n\n<iframe width=\"560\" height=\"315\" src=\"https://www.youtube-nocookie.com/embed/k-7qS-XTpCo?start=17\" title=\"YouTube video player\" frameborder=\"0\" allow=\"accelerometer; autoplay; clipboard-write; encrypted-media; gyroscope; picture-in-picture\" allowfullscreen></iframe>",
   "metadata": {
    "tags": [],
    "cell_id": "00034-f2e23fc6-31e7-4175-9c45-39620a091ef3",
    "deepnote_cell_type": "markdown"
   }
  },
  {
   "cell_type": "markdown",
   "source": "## Exercícios\n\nUma escola contratou voce para fazer algumas automatizacoes no sistema de notas dos alunos.\n\nPara facilitar seu trabalho, os professores preenchem um documento que chega ate voce em um formato `json`. Ele segue o seguinte padrão:\n\n```json\n{\n    \"DISCIPLINA\": [\n        {\"nome\": \"Alex\", \"notas\": [7, 8, 5, 6]}\n    ]\n}\n```\n\nOnde, a chave `DISCIPLINA` podera ser Matemática, Português, Biologia e História.\n\nCada disciplina podera ter uma ou mais provas. considere que todos os alunos fizeram todas as provas necessarias (ou seja, estamos no fechamento do ano).\n\nVocê podera acessar o arquivo através do seguitne comando: \n\n```python\nimport json\n\narq_notas = json.load(open(\"/work/files/notas.json\"))\n```\n\narq_notas sera um objeto python que usaremos por todos os próximos exercicios",
   "metadata": {
    "tags": [],
    "cell_id": "00034-6634f4b4-c8c1-41cb-849e-41059eb0302a",
    "deepnote_cell_type": "markdown"
   }
  },
  {
   "cell_type": "markdown",
   "source": "## Exercício 1\n\nCarregue o arquivo `notas.json` como é mostrado no enunciado.\n\nUse o comando `print` para apresentar o conteudo do objeto na tela, tambem imprima na tela o tipo da variavel `arq_notas`",
   "metadata": {
    "tags": [],
    "cell_id": "00035-b203f65d-5ce9-43f5-b3af-7313a69eb8ad",
    "deepnote_cell_type": "markdown"
   }
  },
  {
   "cell_type": "code",
   "metadata": {
    "tags": [],
    "cell_id": "00037-3ba79958-97f8-47f2-9cd2-c38f06ff9c54",
    "deepnote_to_be_reexecuted": false,
    "source_hash": "996eca30",
    "execution_start": 1635208934838,
    "execution_millis": 163,
    "deepnote_cell_type": "code"
   },
   "source": "import json\n\narq_notas = json.load(open(\"/work/files/notas.json\"))\n\nprint(arq_notas)\nprint(type(arq_notas))",
   "execution_count": null,
   "outputs": [
    {
     "name": "stdout",
     "text": "{'Matematica': [{'nome': 'Alex', 'notas': [6, 4, 2]}, {'nome': 'Jones', 'notas': [5, 4, 4]}, {'nome': 'Adauto', 'notas': [9, 2, 2]}, {'nome': 'Gabriel', 'notas': [10, 9, 8]}, {'nome': 'Ana', 'notas': [2, 2, 3]}, {'nome': 'Danilo', 'notas': [7, 6, 2]}, {'nome': 'Mikaela', 'notas': [9, 5, 2]}], 'Biologia': [{'nome': 'Alex', 'notas': [8, 8, 3]}, {'nome': 'Jones', 'notas': [2, 3, 8]}, {'nome': 'Adauto', 'notas': [2, 7, 9]}, {'nome': 'Gabriel', 'notas': [9, 4, 2]}, {'nome': 'Jussara', 'notas': [4, 5, 7]}, {'nome': 'Ana', 'notas': [7, 5, 8]}, {'nome': 'Maria', 'notas': [2, 9, 7]}, {'nome': 'Danilo', 'notas': [2, 2, 9]}, {'nome': 'Mikaela', 'notas': [5, 4, 3]}], 'Português': [{'nome': 'Alex', 'notas': [8, 5, 9]}, {'nome': 'Jussara', 'notas': [3, 3, 3]}, {'nome': 'Ana', 'notas': [3, 2, 2]}, {'nome': 'Maria', 'notas': [2, 6, 2]}, {'nome': 'Danilo', 'notas': [10, 9, 3]}, {'nome': 'Mikaela', 'notas': [4, 7, 4]}], 'História': [{'nome': 'Jones', 'notas': [4, 8, 6]}, {'nome': 'Adauto', 'notas': [6, 5, 3]}, {'nome': 'Gabriel', 'notas': [3, 5, 5]}, {'nome': 'Jussara', 'notas': [8, 2, 2]}, {'nome': 'Ana', 'notas': [3, 8, 3]}, {'nome': 'Maria', 'notas': [6, 6, 2]}, {'nome': 'Danilo', 'notas': [4, 5, 7]}, {'nome': 'Mikaela', 'notas': [8, 2, 9]}]}\n<class 'dict'>\n",
     "output_type": "stream"
    }
   ]
  },
  {
   "cell_type": "markdown",
   "source": "## Exercício 2\n\nApresente na tela todas as disciplinas contidas no arquivo `notas.json`.",
   "metadata": {
    "tags": [],
    "cell_id": "00036-a1aade56-b5a5-4f64-bf77-850a820affcd",
    "deepnote_cell_type": "markdown"
   }
  },
  {
   "cell_type": "code",
   "metadata": {
    "tags": [],
    "cell_id": "00039-519bde99-9c76-4d16-987a-929fc76b8e7d",
    "deepnote_to_be_reexecuted": false,
    "source_hash": "4c2c71c2",
    "execution_start": 1635204083002,
    "execution_millis": 181,
    "deepnote_cell_type": "code"
   },
   "source": "import pandas as pd\nimport json\n\narq_notas = json.load(open(\"/work/files/notas.json\"))\n\nprint(arq_notas.keys())\n\n\n",
   "execution_count": null,
   "outputs": [
    {
     "name": "stdout",
     "text": "dict_keys(['Matematica', 'Biologia', 'Português', 'História'])\n",
     "output_type": "stream"
    }
   ]
  },
  {
   "cell_type": "markdown",
   "source": "## Exercício 3\n\nPara cada disciplina, imprima o numero de alunos cadastrados.",
   "metadata": {
    "tags": [],
    "cell_id": "00037-4bf40882-356c-4af6-b78a-c957be8b09d3",
    "deepnote_cell_type": "markdown"
   }
  },
  {
   "cell_type": "code",
   "metadata": {
    "tags": [],
    "cell_id": "00041-e9390acf-48c3-4918-817e-bca7d3d442ac",
    "deepnote_to_be_reexecuted": false,
    "source_hash": "eaaab04a",
    "execution_start": 1635208998137,
    "execution_millis": 17,
    "deepnote_cell_type": "code"
   },
   "source": "import json\n\narq_notas = json.load(open(\"/work/files/notas.json\"))\n\n\nfor disciplina, alunos in arq_notas.items():\n    print(disciplina,\":\",len(alunos))",
   "execution_count": null,
   "outputs": [
    {
     "name": "stdout",
     "text": "Matematica : 7\nBiologia : 9\nPortuguês : 6\nHistória : 8\n",
     "output_type": "stream"
    }
   ]
  },
  {
   "cell_type": "markdown",
   "source": "## Exercício 4\n\nPara cada aluno na disciplina de biologia, apresente o seu nome e a suas notas",
   "metadata": {
    "tags": [],
    "cell_id": "00038-5b342888-f3ff-4013-9b5d-49133fd5da46",
    "deepnote_cell_type": "markdown"
   }
  },
  {
   "cell_type": "code",
   "metadata": {
    "tags": [],
    "cell_id": "00043-703a9b6e-3462-452b-8ac3-fa0437f677d2",
    "deepnote_to_be_reexecuted": false,
    "source_hash": "35767525",
    "execution_start": 1635209094051,
    "execution_millis": 11,
    "deepnote_cell_type": "code"
   },
   "source": "alunosbiologia = arq_notas[\"Biologia\"]\n\nprint('Biologia:')\n\n\nfor aluno in alunosbiologia:\n    print(aluno[\"nome\"], aluno[\"notas\"])",
   "execution_count": null,
   "outputs": [
    {
     "name": "stdout",
     "text": "Biologia:\nAlex [8, 8, 3]\nJones [2, 3, 8]\nAdauto [2, 7, 9]\nGabriel [9, 4, 2]\nJussara [4, 5, 7]\nAna [7, 5, 8]\nMaria [2, 9, 7]\nDanilo [2, 2, 9]\nMikaela [5, 4, 3]\n",
     "output_type": "stream"
    }
   ]
  },
  {
   "cell_type": "markdown",
   "source": "## Exercício 5\n\nPara cada aluno na disciplina de português, apresente o seu nome e a soma de suas notas",
   "metadata": {
    "tags": [],
    "cell_id": "00040-da57906a-34c4-42d5-ad75-44344a9265e9",
    "deepnote_cell_type": "markdown"
   }
  },
  {
   "cell_type": "code",
   "metadata": {
    "tags": [],
    "cell_id": "00045-123c5ed1-41dc-4d74-94bf-ebe0b69c7cd3",
    "deepnote_to_be_reexecuted": false,
    "source_hash": "645ac36d",
    "execution_start": 1635207223709,
    "execution_millis": 6,
    "deepnote_cell_type": "code"
   },
   "source": "import json\n\narq_notas = json.load(open(\"/work/files/notas.json\"))\n\nfor disciplina in arq_notas['Português']:\n    a = disciplina['notas']\n    soma = sum(a)\n    print(disciplina['nome'],'\\nNotas:',a, '\\nA soma das notas:',soma)\n",
   "execution_count": null,
   "outputs": [
    {
     "name": "stdout",
     "text": "Alex \nNotas: [8, 5, 9] \nA soma das notas: 22\nJussara \nNotas: [3, 3, 3] \nA soma das notas: 9\nAna \nNotas: [3, 2, 2] \nA soma das notas: 7\nMaria \nNotas: [2, 6, 2] \nA soma das notas: 10\nDanilo \nNotas: [10, 9, 3] \nA soma das notas: 22\nMikaela \nNotas: [4, 7, 4] \nA soma das notas: 15\n",
     "output_type": "stream"
    }
   ]
  },
  {
   "cell_type": "markdown",
   "source": "## Exercício 6\n\nPara cada aluno na disciplina de biologia, apresente o seu nome e a sua maior nota",
   "metadata": {
    "tags": [],
    "cell_id": "00040-2ad11a4b-b01e-45d9-9fc6-8392da9eb762",
    "deepnote_cell_type": "markdown"
   }
  },
  {
   "cell_type": "code",
   "metadata": {
    "tags": [],
    "cell_id": "00047-5029a66e-bb9c-4014-93af-c59a3ed75e00",
    "deepnote_to_be_reexecuted": false,
    "source_hash": "4c3dfd5d",
    "execution_start": 1635209395346,
    "execution_millis": 2,
    "deepnote_cell_type": "code"
   },
   "source": "import json\n\narq_notas = json.load(open(\"/work/files/notas.json\"))\n\nprint('Biologia')\nfor disciplina in arq_notas['Biologia']:\n    a = max(disciplina['notas'])\n    print(disciplina['nome'],'\\nNota:',a,'\\n ')",
   "execution_count": null,
   "outputs": [
    {
     "name": "stdout",
     "text": "Biologia\nAlex \n Nota: 8 \n \nJones \n Nota: 8 \n \nAdauto \n Nota: 9 \n \nGabriel \n Nota: 9 \n \nJussara \n Nota: 7 \n \nAna \n Nota: 8 \n \nMaria \n Nota: 9 \n \nDanilo \n Nota: 9 \n \nMikaela \n Nota: 5 \n \n",
     "output_type": "stream"
    }
   ]
  },
  {
   "cell_type": "markdown",
   "source": "## Exercício 7\n\nPara cada aluno na disciplina de matematica, apresente o seu nome e a média final (`soma das notas`/`quantidade de notas`)",
   "metadata": {
    "tags": [],
    "cell_id": "00041-c4515aec-135a-4ce6-b104-c7442dd4d343",
    "deepnote_cell_type": "markdown"
   }
  },
  {
   "cell_type": "code",
   "metadata": {
    "tags": [],
    "cell_id": "00049-11f3b84c-9099-4d75-b2e8-d8ff422b44e6",
    "deepnote_to_be_reexecuted": false,
    "source_hash": "c788ac0e",
    "execution_start": 1635250737755,
    "execution_millis": 62,
    "deepnote_cell_type": "code"
   },
   "source": "alunos_bio = arq_notas[\"Matematica\"]\n\nfor aluno in alunos_bio:\n    print(aluno[\"nome\"], \": \", sum(aluno[\"notas\"])/len(aluno[\"notas\"]))",
   "outputs": [
    {
     "name": "stdout",
     "text": "Alex :  4.0\nJones :  4.333333333333333\nAdauto :  4.333333333333333\nGabriel :  9.0\nAna :  2.3333333333333335\nDanilo :  5.0\nMikaela :  5.333333333333333\n",
     "output_type": "stream"
    }
   ],
   "execution_count": null
  },
  {
   "cell_type": "markdown",
   "source": "## Exercício 8\n\nNessa escola, a média minima para ser aprovado é 5. apresente na tela os alunos reprovados na disciplina de biologia",
   "metadata": {
    "tags": [],
    "cell_id": "00042-6336ef00-ff57-4a4f-a2aa-6418d3a44e31",
    "deepnote_cell_type": "markdown"
   }
  },
  {
   "cell_type": "code",
   "metadata": {
    "tags": [],
    "cell_id": "00051-bd699595-f032-4cab-8388-9542c26fee97",
    "deepnote_to_be_reexecuted": false,
    "source_hash": "522e33d4",
    "execution_start": 1635209194140,
    "execution_millis": 11,
    "deepnote_cell_type": "code"
   },
   "source": "alunosbiologia = arq_notas[\"Biologia\"]\nprint(\"Alunos reprovados:\")\nfor aluno in alunosbiologia:\n    media = sum(aluno[\"notas\"])/len(aluno[\"notas\"])\n    if media < 5:\n        print(aluno[\"nome\"])",
   "execution_count": null,
   "outputs": [
    {
     "name": "stdout",
     "text": "Alunos reprovados:\nJones\nDanilo\nMikaela\n",
     "output_type": "stream"
    }
   ]
  },
  {
   "cell_type": "markdown",
   "source": "## Exercício 9 (bônus)\n\nFaça um código que mostre o nome do aluno com maior nota para cada disciplina",
   "metadata": {
    "tags": [],
    "cell_id": "00043-af486a8e-d832-48c6-9894-a05604e978b6",
    "deepnote_cell_type": "markdown"
   }
  },
  {
   "cell_type": "code",
   "source": "for disc, alunos in arq_notas.items():\n    melhor_aluno = None\n    melhor_nota = -1\n    for aluno in alunos:\n        media = sum(aluno[\"notas\"])/len(aluno[\"notas\"])\n        if melhor_nota < media:\n            melhor_aluno = aluno[\"nome\"]\n            melhor_nota = media\n    \n    print(\"disciplina {}: melhor aluno(a) {} com nota {}\".format(disc, melhor_aluno, melhor_nota))",
   "metadata": {
    "tags": [],
    "cell_id": "00053-65286fce-30ab-468c-a4be-942ad274dec7",
    "deepnote_to_be_reexecuted": false,
    "source_hash": "8ea65727",
    "execution_start": 1635250806932,
    "execution_millis": 4,
    "deepnote_cell_type": "code"
   },
   "outputs": [
    {
     "name": "stdout",
     "text": "disciplina Matematica: melhor aluno(a) Gabriel com nota 9.0\ndisciplina Biologia: melhor aluno(a) Ana com nota 6.666666666666667\ndisciplina Português: melhor aluno(a) Alex com nota 7.333333333333333\ndisciplina História: melhor aluno(a) Mikaela com nota 6.333333333333333\n",
     "output_type": "stream"
    }
   ],
   "execution_count": null
  },
  {
   "cell_type": "markdown",
   "source": "## Exercício 10 (bônus)\n\nVocê conseguiria desenvolver um código para apresentar qual é a disciplina mais dificil dessa escola? ou seja, a que os alunos mais reprovam? ainda considere a nota minima 5 para aprovação",
   "metadata": {
    "tags": [],
    "cell_id": "00044-3784ccfb-3f02-4257-98c3-c80b9a9bcd23",
    "deepnote_cell_type": "markdown"
   }
  },
  {
   "cell_type": "code",
   "source": "num_reprovados = {}\n\nfor disc, alunos in arq_notas.items():\n    contador_reprovados = 0\n    for aluno in alunos:\n        media = sum(aluno[\"notas\"])/len(aluno[\"notas\"])\n        if media < 5:\n            contador_reprovados +=1\n    \n    num_reprovados[disc] = contador_reprovados\n\nmais_dificil = None\nmais_reprovados = -1\nfor disc, reprovados in num_reprovados.items():\n    if reprovados > mais_reprovados:\n        mais_dificil = disc\n        mais_reprovados = reprovados\n\nprint(\"A disciplina mais dificil é {} com {} reprovados\".format(mais_dificil, mais_reprovados))",
   "metadata": {
    "tags": [],
    "cell_id": "00055-0f7710a4-970a-4dcf-8f51-f4f1044d9429",
    "deepnote_to_be_reexecuted": false,
    "source_hash": "6d89e7f",
    "execution_start": 1635250830446,
    "execution_millis": 3,
    "deepnote_cell_type": "code"
   },
   "outputs": [
    {
     "name": "stdout",
     "text": "A disciplina mais dificil é História com 5 reprovados\n",
     "output_type": "stream"
    }
   ],
   "execution_count": null
  },
  {
   "cell_type": "markdown",
   "source": "<a style='text-decoration:none;line-height:16px;display:flex;color:#5B5B62;padding:10px;justify-content:end;' href='https://deepnote.com?utm_source=created-in-deepnote-cell&projectId=d42dabbd-fc5a-47f2-be37-8e2841e8432a' target=\"_blank\">\n<img alt='Created in deepnote.com' style='display:inline;max-height:16px;margin:0px;margin-right:7.5px;' src='data:image/svg+xml;base64,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' > </img>\nCreated in <span style='font-weight:600;margin-left:4px;'>Deepnote</span></a>",
   "metadata": {
    "tags": [],
    "created_in_deepnote_cell": true,
    "deepnote_cell_type": "markdown"
   }
  }
 ],
 "nbformat": 4,
 "nbformat_minor": 0,
 "metadata": {
  "colab": {
   "name": "Estrutura de dados embutidas - Listas - Inicio da Aula - Final da Aula.ipynb",
   "provenance": [],
   "toc_visible": true
  },
  "kernelspec": {
   "name": "python3",
   "display_name": "Python 3"
  },
  "deepnote_notebook_id": "0eb28b48-60c0-4f4b-bedc-ed47371e5c51",
  "deepnote": {},
  "deepnote_execution_queue": []
 }
}
{
 "cells": [
  {
   "cell_type": "markdown",
   "source": "<div>\n    <p style=\"float: right;\"><img src=\"https://media.swipepages.com/2021/2/sirius-logo-principal-tag-1-300.png\" height=\"80px\"border=\"1px\"></p>\n    \n</div>\n<h1>Nano Desafio 2 </h1>\n<h2> Exercícios básicos em Python </h2>\n\nAluno: Giovana Carmazio \n\nData: 13/10/2021\n",
   "metadata": {
    "tags": [],
    "cell_id": "00000-fb15d4b7-b791-4cd5-9ccd-26dae8f59ae2",
    "deepnote_cell_type": "markdown"
   }
  },
  {
   "cell_type": "markdown",
   "source": "<h1>\nO básico do Python para Ciência de dados\n</h1>\n<b>Artigo original e completo disponível em inglês: </b> <a href=\"https://towardsdatascience.com/python-basics-for-data-science-6a6c987f2755\">towardsdatascience.com</a><br/><br/>\n\n<img src=\"https://miro.medium.com/max/1400/1*7EUX9QIjq2x1JyFKcjhXsA.png\"/>\n\n<h1 id=\"7464\">\nTipos de dados em Python\n</h1>\n<p id=\"1c30\">\nEm Python, nos temos muitos tipos de dados. O mais comuns são float (floating point), int (integer), str (string), bool (Boolean), list, and dict (dicionário).\n</p>\n<ul>\n<li id=\"2c2e\">\nfloat - usado para números Reais.\n</li>\n<li id=\"a366\">\nint - usado para números inteiros.\n</li>\n<li id=\"1a7f\">\nstr - usado para textos. Nós podemos usar com aspas simples \n<code>\n'value'\n</code>\n, aspas duplas\n<code>\n\"value\"\n</code>\n, ou aspas triplas\n<code>\n\"\"\"value\"\"\"\n</code>\n. As aspas triplas pode ser usada em múltiplas linhas, a quebra de linha será incluída no valor da variável. Também são comumente usadas para escrever a documentação de uma função.\n</li>\n<li id=\"9187\">\nbool - usada para valores verdadeiro ou falso. Muito usado para operações em que se quer filtrar um dado.\n</li>\n<li id=\"56a0\">\nlist - usada para uma coleção de valores.\n</li>\n<li id=\"0107\">\ndict - usada para armazenar pares de chave-valor.\n</li>\n</ul>\n<p id=\"57ee\">\nNós podemos usar a função \n<code>\ntype(variable_name)\n</code>\npara verificar o tipo específico de determinada variável. Isso é importante pois a depender do tipo da variável as funções podem se comportar de maneiras diferentes bem como terem métodos específicos para trabalhar com determinados tipos.\n</p>\n<p id=\"d207\">\nVamos ver alguns exemplos criando valores de ponto flutuante (float), inteiros (int), textos (str) e boleanos (bool) em python.\n</p>",
   "metadata": {
    "tags": [],
    "cell_id": "00000-0db8a925-0173-4fd0-8dfd-d84a6ba006a3",
    "deepnote_cell_type": "markdown"
   }
  },
  {
   "cell_type": "markdown",
   "source": "## Exercício 1\nPara as 4 variáveis abaixo, qual o tipo de cada uma delas? <br>\nano_nascimento = 1994 <br>\naltura_cm = 170.50 <br>\nassunto = \"Fellowship de Ciência de Dados da Sirius Education\" <br>\nverdadeiro = True <br>",
   "metadata": {
    "tags": [],
    "cell_id": "00002-016edc3a-2daa-479a-809c-0440792b592b",
    "deepnote_cell_type": "markdown"
   }
  },
  {
   "cell_type": "code",
   "source": "ano_nascimento = 1994 \naltura_cm = 170.50\nassunto = \"Fellowship de Ciência de Dados da Sirius Education\"\nverdadeiro = True\n\n\nprint(type(ano_nascimento), type(altura_cm), type(assunto), type(verdadeiro))",
   "metadata": {
    "tags": [],
    "cell_id": "00003-38a32fc8-58cb-4cfd-9c3c-6cd78a3e9511",
    "deepnote_to_be_reexecuted": false,
    "source_hash": "d4d0c9fd",
    "execution_start": 1634165259781,
    "execution_millis": 14,
    "deepnote_cell_type": "code"
   },
   "outputs": [
    {
     "name": "stdout",
     "text": "<class 'int'> <class 'float'> <class 'str'> <class 'bool'>\n",
     "output_type": "stream"
    }
   ],
   "execution_count": null
  },
  {
   "cell_type": "markdown",
   "source": "## Exercício 2\nPara as 4 variáveis abaixo, qual o tipo de cada uma delas? <br>\ntitulo = \"Alice no País das Maravilhas\" <br>\nintro = \"\"\" <br>\nAs Aventuras de Alice no País das Maravilhas, frequentemente abreviado para Alice no País das Maravilhas (Alice in Wonderland) é a obra infantil mais conhecida de Charles Lutwidge Dodgson, publicada a 4 de julho de 1865 sob o pseudônimo de Lewis Carroll. É uma das obras mais célebres do gênero literário nonsense. \n<br>\"\"\" <br>\nano = 1865 <br>\nautor = \"Charles Lutwidge Dodgson \" <br>",
   "metadata": {
    "tags": [],
    "cell_id": "00003-c607f18b-5e53-46e3-b709-80bb91052786",
    "deepnote_cell_type": "markdown"
   }
  },
  {
   "cell_type": "code",
   "source": "titulo = \"Alice no País das Maravilhas\"\nintro = \"\"\"\nAs Aventuras de Alice no País das Maravilhas, frequentemente abreviado para Alice no País das Maravilhas (Alice in Wonderland) é a obra infantil mais conhecida de Charles Lutwidge Dodgson, publicada a 4 de julho de 1865 sob o pseudônimo de Lewis Carroll. É uma das obras mais célebres do gênero literário nonsense. \n\"\"\"\nano = 1865\nautor = \"Charles Lutwidge Dodgson \"\n\nprint(type(titulo), type(intro), type(ano), type(autor))",
   "metadata": {
    "tags": [],
    "cell_id": "00005-0dd04290-f6eb-4508-8f35-a80badad20c2",
    "deepnote_to_be_reexecuted": false,
    "source_hash": "b45f35ef",
    "execution_start": 1634165259809,
    "execution_millis": 0,
    "deepnote_cell_type": "code"
   },
   "outputs": [
    {
     "name": "stdout",
     "text": "<class 'str'> <class 'str'> <class 'int'> <class 'str'>\n",
     "output_type": "stream"
    }
   ],
   "execution_count": null
  },
  {
   "cell_type": "markdown",
   "source": "## Exercicio 3\nCrie uma variável com o nome `idade` e atribua sua idade nela.\n\nApresente a sua idade da tela com o comando `print`.\n\nApresente tambem com o comando `print` o tipo dessa variável.\n",
   "metadata": {
    "tags": [],
    "cell_id": "00003-897a9dde-900f-4d08-add0-304f9e2a2ba1",
    "deepnote_cell_type": "markdown"
   }
  },
  {
   "cell_type": "code",
   "source": "idade = 26\nprint(idade)\nprint(type(idade))",
   "metadata": {
    "tags": [],
    "cell_id": "00007-f8404095-12c6-41aa-b4d0-c2e179599aac",
    "deepnote_to_be_reexecuted": false,
    "source_hash": "ae013564",
    "execution_start": 1634165259810,
    "execution_millis": 17,
    "deepnote_cell_type": "code"
   },
   "outputs": [
    {
     "name": "stdout",
     "text": "26\n<class 'int'>\n",
     "output_type": "stream"
    }
   ],
   "execution_count": null
  },
  {
   "cell_type": "markdown",
   "source": "## Exercicio 4\nCrie uma variável com o nome `pi` e insira o valor de pi (`3.14`).\n\nApresente a sua idade da tela com o comando `print`.\n\nApresente tambem com o comando `print` o tipo dessa variável.",
   "metadata": {
    "tags": [],
    "cell_id": "00003-5a74211e-5fb2-4cfa-81ab-cc23b6279efa",
    "deepnote_cell_type": "markdown"
   }
  },
  {
   "cell_type": "code",
   "source": "pi = 3.14\n\nprint(pi)\nprint(type(pi))",
   "metadata": {
    "tags": [],
    "cell_id": "00009-e2b23b5c-c3a8-429f-9ce0-9bdacb81187a",
    "deepnote_to_be_reexecuted": false,
    "source_hash": "ec5c5782",
    "execution_start": 1634165259814,
    "execution_millis": 0,
    "deepnote_cell_type": "code"
   },
   "outputs": [
    {
     "name": "stdout",
     "text": "3.14\n<class 'float'>\n",
     "output_type": "stream"
    }
   ],
   "execution_count": null
  },
  {
   "cell_type": "markdown",
   "source": "## Exercicio 5\n\ncrie 7 variáveis, para cada uma atribua a elas as seguintes operações:\n\n* 1 - 15\n* 35656222554887711 * 2\n* 3 + 5\n* 2.5 + 0.5\n* 1 + 0.5\n* 2 * 2.5\n* 2.0 / 5\n\npara cada variável criada, apresente o tipo dela e seu resultado.",
   "metadata": {
    "tags": [],
    "cell_id": "00005-a5a43b51-bb74-47b7-855e-90d895cd7b01",
    "deepnote_cell_type": "markdown"
   }
  },
  {
   "cell_type": "code",
   "source": "var1 =1-15\nvar2 =35656222554887711 * 2\nvar3 =3+5\nvar4 =2.5+0.5\nvar5 =1+0.5\nvar6 =2*2.5\nvar7 =2.0/5\n\nprint(var1)\nprint(var2)\nprint(var3)\nprint(var4)\nprint(var5)\nprint(var6)\nprint(var7)\n\nprint(type(var1))\nprint(type(var2))\nprint(type(var3))\nprint(type(var4))\nprint(type(var5))\nprint(type(var6))\nprint(type(var7))\n\n",
   "metadata": {
    "tags": [],
    "cell_id": "00011-a0bd0fdd-f498-4f61-8ebb-aa428c7c981f",
    "deepnote_to_be_reexecuted": false,
    "source_hash": "758fc386",
    "execution_start": 1634165273510,
    "execution_millis": 45,
    "deepnote_cell_type": "code"
   },
   "outputs": [
    {
     "name": "stdout",
     "text": "-14\n71312445109775422\n8\n3.0\n1.5\n5.0\n0.4\n<class 'int'>\n<class 'int'>\n<class 'int'>\n<class 'float'>\n<class 'float'>\n<class 'float'>\n<class 'float'>\n",
     "output_type": "stream"
    }
   ],
   "execution_count": null
  },
  {
   "cell_type": "markdown",
   "source": "## Exercicio 6\n\nCrie 5 variáveis, para cada variavel atribua a ela as seguintes operações:\n\n* 3 < 5\n* 1 == 1\n* 4 > 5\n* 'abelha' == 'abelha'\n* 'abelha' != 'coelho'\n\n\n\npara cada variável criada, apresente o tipo dela e seu resultado.",
   "metadata": {
    "tags": [],
    "cell_id": "00006-0cc20801-02f3-4b07-99b7-15cc62cf8e91",
    "deepnote_cell_type": "markdown"
   }
  },
  {
   "cell_type": "code",
   "source": "var1 = 3 < 5\nvar2 = 1 == 1\nvar3 = 4 > 5\nvar4 = 'abelha' == 'abelha'\nvar5 = 'abelha' != 'coelho'\n\nprint(type(var1))\nprint(type(var2))\nprint(type(var3))\nprint(type(var4))\nprint(type(var5))\n",
   "metadata": {
    "tags": [],
    "cell_id": "00013-c8adc5c6-0e51-42b4-93d2-057e430e6202",
    "deepnote_to_be_reexecuted": false,
    "source_hash": "a3951308",
    "execution_start": 1634165471172,
    "execution_millis": 6,
    "deepnote_cell_type": "code"
   },
   "outputs": [
    {
     "name": "stdout",
     "text": "<class 'bool'>\n<class 'bool'>\n<class 'bool'>\n<class 'bool'>\n<class 'bool'>\n",
     "output_type": "stream"
    }
   ],
   "execution_count": null
  },
  {
   "cell_type": "markdown",
   "source": "## Exercicio 7\n\nCrie uma variável chamada `dia_da_semana` e use o comando `input()` para inseri-la pelo teclado. Coloque algum dia da semana.\n\nEm seguida use o comando `print` para mostrar o valor da variável e o tipo dela.",
   "metadata": {
    "tags": [],
    "cell_id": "00006-b92b77dd-e6d7-4741-8f19-1597a9762265",
    "deepnote_cell_type": "markdown"
   }
  },
  {
   "cell_type": "code",
   "source": "dia_da_semana = input('Digite um dia da semana: ')\nprint(type(dia_da_semana))",
   "metadata": {
    "tags": [],
    "cell_id": "00015-889a067b-8ac0-422b-ba6d-71113b27d51c",
    "deepnote_to_be_reexecuted": false,
    "source_hash": "eb3e80f1",
    "execution_start": 1634165761867,
    "execution_millis": 4147,
    "deepnote_cell_type": "code"
   },
   "outputs": [
    {
     "name": "stdout",
     "text": "<class 'str'>\n",
     "output_type": "stream"
    }
   ],
   "execution_count": null
  },
  {
   "cell_type": "markdown",
   "source": "## Exercicio 8\n\nCrie uma variável chamada `idade` e use o comando `input()` para inseri-la pelo teclado. Coloque a sua idade.\n\nEm seguida use o comando `print` para mostrar o valor da variável e o tipo dela.\n\nUse o comando `idade_2 = int(idade)` e em seguida apresente o valor e o tipo da variável `idade_2`.\n\n**lembre-se**: Ao encontrar comandos do python que você não conhece tente usar `help()`.",
   "metadata": {
    "tags": [],
    "cell_id": "00007-f8916e30-1dd1-4e29-bf10-b43869558e4f",
    "deepnote_cell_type": "markdown"
   }
  },
  {
   "cell_type": "code",
   "source": "idade = input(\"Coloque sua idade aqui: \")\nprint(type(idade))\nprint(type(idade))\n\nidade_2 = int(idade)\nprint(idade_2)\nprint(type(idade_2))\n",
   "metadata": {
    "tags": [],
    "cell_id": "00017-bb25dc06-a6d5-4c4f-bd41-f816e5e8208d",
    "deepnote_to_be_reexecuted": false,
    "source_hash": "dceeef9d",
    "execution_start": 1634166120491,
    "execution_millis": 3813,
    "deepnote_cell_type": "code"
   },
   "outputs": [
    {
     "name": "stdout",
     "text": "<class 'str'>\n<class 'str'>\n25\n<class 'int'>\n",
     "output_type": "stream"
    }
   ],
   "execution_count": null
  },
  {
   "cell_type": "markdown",
   "source": "## Exercicio 9\n\nPodemos usar [notação científica](https://pt.wikipedia.org/wiki/Nota%C3%A7%C3%A3o_cient%C3%ADfica) em python tambem!\n\n```python\nnot_cient_1 = 2e10\nnot_cient_2 = 3.2e3\n```\n<br>\nQue numeros sao esses? apresente seus valores e seus tipos.",
   "metadata": {
    "tags": [],
    "cell_id": "00009-64958e7c-f92d-4218-a388-a07a97ac2164",
    "deepnote_cell_type": "markdown"
   }
  },
  {
   "cell_type": "code",
   "source": "not_cient_1 = 2e10\nnot_cient_2 = 3.2e3\n\nprint(not_cient_1)\nprint(not_cient_2)\n\nprint(type(not_cient_1))\nprint(type(not_cient_2))",
   "metadata": {
    "tags": [],
    "cell_id": "00019-d6c542da-6c0e-40d4-9323-13c8d76c5e8e",
    "deepnote_to_be_reexecuted": false,
    "source_hash": "f6211e04",
    "execution_start": 1634166176344,
    "execution_millis": 8,
    "deepnote_cell_type": "code"
   },
   "outputs": [
    {
     "name": "stdout",
     "text": "20000000000.0\n3200.0\n<class 'float'>\n<class 'float'>\n",
     "output_type": "stream"
    }
   ],
   "execution_count": null
  },
  {
   "cell_type": "markdown",
   "source": "## Exercicio 10\n\nImagine que voce esta cuidando de uma aplicação de controle de gastos de uma empresa.\n\nPara um dado mês voce ira precisar registrar os lucros dessa empresa. E a situacao desse mês foi:\n\n* 5 itens vendidos, de valor R$ 99.91 cada\n* 3 equipamentos comprados, de valor R$ 110.10 cada\n\n**a.** Escreva um código python que apresente os ganhos e despesas desse mês.\n\n**b.** Faça essa mesma operação em uma calculadora, qual o resultado?\n\n**nota**: Exemplo tirado [deste artigo da Alura](https://www.alura.com.br/artigos/precisao-numeros-decimais-python), vale conferir para entender o que esta acontecendo :)",
   "metadata": {
    "tags": [],
    "cell_id": "00009-75c779c6-8ccd-42b2-85dd-bb6df8dbeca2",
    "deepnote_cell_type": "markdown"
   }
  },
  {
   "cell_type": "code",
   "source": "entrada = 5 * 99.91\nsaida = 3 * 110.10\n\nprint(entrada)\nprint(saida)\n\nlucro = entrada - saida",
   "metadata": {
    "tags": [],
    "cell_id": "00021-c0212e6b-d697-4c13-a3eb-9335a19ad3a7",
    "deepnote_to_be_reexecuted": false,
    "source_hash": "27b2849d",
    "execution_start": 1634166254136,
    "execution_millis": 6,
    "deepnote_cell_type": "code"
   },
   "outputs": [
    {
     "name": "stdout",
     "text": "499.54999999999995\n330.29999999999995\n",
     "output_type": "stream"
    }
   ],
   "execution_count": null
  },
  {
   "cell_type": "markdown",
   "source": "## Exercício 11\nCorriga o código abaixo para que ele funcione\nO resultado esperado é o valor número da soma\n",
   "metadata": {
    "tags": [],
    "cell_id": "00012-21bc2414-3bef-495d-af3c-fd6140d20218",
    "deepnote_cell_type": "markdown"
   }
  },
  {
   "cell_type": "code",
   "metadata": {
    "tags": [],
    "cell_id": "00013-360b548a-cc61-4b69-8753-7b9c50968ca4",
    "deepnote_to_be_reexecuted": false,
    "source_hash": "c874b967",
    "execution_start": 1634166344752,
    "execution_millis": 164,
    "deepnote_cell_type": "code"
   },
   "source": "a = 10\nb = 20\nsoma = a + b\nprint(soma)",
   "outputs": [
    {
     "name": "stdout",
     "text": "30\n",
     "output_type": "stream"
    }
   ],
   "execution_count": null
  },
  {
   "cell_type": "markdown",
   "source": "## Exercício 12\nCorriga o código abaixo para que ele funcione O resultado esperado é o valor número da soma",
   "metadata": {
    "tags": [],
    "cell_id": "00014-877f277f-a617-43ef-813c-80c029daab13",
    "deepnote_cell_type": "markdown"
   }
  },
  {
   "cell_type": "code",
   "metadata": {
    "tags": [],
    "cell_id": "00015-d5650037-0e22-40b5-adee-8f94a5b7f9bf",
    "deepnote_to_be_reexecuted": false,
    "source_hash": "c1a094f8",
    "execution_start": 1634166362203,
    "execution_millis": 1,
    "deepnote_cell_type": "code"
   },
   "source": "var1 = 10\nvar2 = 20\nprint(var1+var2)",
   "outputs": [
    {
     "name": "stdout",
     "text": "30\n",
     "output_type": "stream"
    }
   ],
   "execution_count": null
  },
  {
   "cell_type": "markdown",
   "source": "## Exercício 13\nCorriga o código abaixo para que ele funcione. O resultado esperado é que o programa retorne a soma dos números informados pelo usuário.",
   "metadata": {
    "tags": [],
    "cell_id": "00016-da1bdb62-a178-46ca-ae6c-cbf860f356c7",
    "deepnote_cell_type": "markdown"
   }
  },
  {
   "cell_type": "code",
   "metadata": {
    "tags": [],
    "cell_id": "00017-2d40ae23-68b1-481b-91c8-eab42cc1c8bc",
    "deepnote_to_be_reexecuted": false,
    "source_hash": "12d462a7",
    "execution_start": 1634166421392,
    "execution_millis": 4598,
    "deepnote_cell_type": "code"
   },
   "source": "a = int(input(\"\"))\nb = int(input(\"\"))\nprint(a + b)",
   "outputs": [
    {
     "name": "stdout",
     "text": "20\n",
     "output_type": "stream"
    }
   ],
   "execution_count": null
  },
  {
   "cell_type": "markdown",
   "source": "## Exercício 14\nCorriga o código abaixo para que ele funcione. O resultado esperado é que o programa retorne o novo salario com o aumento desejado.",
   "metadata": {
    "tags": [],
    "cell_id": "00018-3a6c2a9d-fa07-4f49-affa-c3780d2fb33e",
    "deepnote_cell_type": "markdown"
   }
  },
  {
   "cell_type": "code",
   "metadata": {
    "tags": [],
    "cell_id": "00019-02d92503-6c8d-4f17-b09c-703130be82f0",
    "deepnote_to_be_reexecuted": false,
    "source_hash": "3b65f269",
    "execution_start": 1634166478678,
    "execution_millis": 5737,
    "deepnote_cell_type": "code"
   },
   "source": "salario_atual=float(input('Insira o seu Salário atual: '))\naumento_salarial=float(input('Insira o percentual de Aumento desejado: '))\n\nnovo_salario=salario_atual+(salario_atual*(aumento_salarial/100))\nprint('O Salário Reajustado é R$ %.2f'%novo_salario)",
   "outputs": [
    {
     "name": "stdout",
     "text": "O Salário Reajustado é R$ 2200.00\n",
     "output_type": "stream"
    }
   ],
   "execution_count": null
  },
  {
   "cell_type": "markdown",
   "source": "## Bônus\n\nAlguns desses exercicios foram baseados em conteudo externos muito bons. Caso queira se aprofundar a leitura e altamente recomendada:\n\n* [Introdução ao Python/Tipos e operadores](https://pt.wikiversity.org/wiki/Introdu%C3%A7%C3%A3o_ao_Python/Tipos_e_operadores) - Wikiversidade\n\n* [Python para Zumbis - Declarando nossas primeiras variáveis](https://www.youtube.com/watch?v=qHx8SRYqW2E&list=PLUukMN0DTKCtbzhbYe2jdF4cr8MOWClXc&index=4) - Youtube\n\n* [Python: Trabalhando com precisão em números decimais](https://www.alura.com.br/artigos/precisao-numeros-decimais-python) - Alura\n\n* [Python Variables](https://www.w3schools.com/python/python_variables.asp) - W3 Schools (em inglês)\n",
   "metadata": {
    "tags": [],
    "cell_id": "00011-f2f143f3-336e-42f9-9e94-a48e17839a40",
    "deepnote_cell_type": "markdown"
   }
  },
  {
   "cell_type": "markdown",
   "source": "<a style='text-decoration:none;line-height:16px;display:flex;color:#5B5B62;padding:10px;justify-content:end;' href='https://deepnote.com?utm_source=created-in-deepnote-cell&projectId=40c6e745-3055-4f3b-a5a3-72fb252cd544' target=\"_blank\">\n<img alt='Created in deepnote.com' style='display:inline;max-height:16px;margin:0px;margin-right:7.5px;' src='data:image/svg+xml;base64,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' > </img>\nCreated in <span style='font-weight:600;margin-left:4px;'>Deepnote</span></a>",
   "metadata": {
    "tags": [],
    "created_in_deepnote_cell": true,
    "deepnote_cell_type": "markdown"
   }
  }
 ],
 "nbformat": 4,
 "nbformat_minor": 2,
 "metadata": {
  "orig_nbformat": 2,
  "deepnote": {
   "is_reactive": false
  },
  "deepnote_notebook_id": "21c14ad4-827e-4dd9-9274-66711107d2b7",
  "deepnote_execution_queue": []
 }
}
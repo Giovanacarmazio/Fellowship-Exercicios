{
 "cells": [
  {
   "cell_type": "markdown",
   "source": "<div>\n    <p style=\"float: right;\"><img src=\"https://media.swipepages.com/2021/2/sirius-logo-principal-tag-1-300.png\" height=\"80px\"border=\"1px\"></p>\n    \n</div>\n<h1>Nano Desafio 6 </h1>\n<h2> Exercícios usando a biblioteca Pandas </h2>\n\nAluno: Giovana Isabel Souza Carmazio    \n\nData: 27/10/2021",
   "metadata": {
    "tags": [],
    "cell_id": "00000-f5f3def9-080f-4fa0-bd4a-d152f4a68290",
    "deepnote_cell_type": "markdown"
   }
  },
  {
   "cell_type": "markdown",
   "source": "## Exercício 1",
   "metadata": {
    "tags": [],
    "is_collapsed": false,
    "cell_id": "00001-0f532477-8f07-42b2-9597-85254b141104",
    "deepnote_cell_type": "text-cell-h2"
   }
  },
  {
   "cell_type": "markdown",
   "source": "Carregue o módulo de pandas no notebook, para usar nos próximos exercícios",
   "metadata": {
    "tags": [],
    "is_collapsed": false,
    "cell_id": "00002-be5187f2-1276-4bf8-b03f-b30a35f00d09",
    "deepnote_cell_type": "text-cell-p"
   }
  },
  {
   "cell_type": "code",
   "metadata": {
    "tags": [],
    "cell_id": "00003-096b71ca-ae25-4b93-9fc6-d7accd81f1b9",
    "deepnote_to_be_reexecuted": false,
    "source_hash": "9b82ee11",
    "execution_start": 1635375379334,
    "execution_millis": 3,
    "deepnote_cell_type": "code"
   },
   "source": "import pandas as pd",
   "execution_count": null,
   "outputs": []
  },
  {
   "cell_type": "markdown",
   "source": "## Exercício 2",
   "metadata": {
    "tags": [],
    "is_collapsed": false,
    "cell_id": "00005-48b6d916-f940-4741-a41b-2a5c67f5ab9d",
    "deepnote_cell_type": "text-cell-h2"
   }
  },
  {
   "cell_type": "markdown",
   "source": "Utilizando a biblioteca Pandas, carregue a base de dados em CSV que está nesta pasta ('artists.csv') para uma variável",
   "metadata": {
    "tags": [],
    "is_collapsed": false,
    "cell_id": "00002-86e0ef93-01a9-4cc9-940f-c700380d34eb",
    "deepnote_cell_type": "text-cell-p"
   }
  },
  {
   "cell_type": "code",
   "metadata": {
    "tags": [],
    "cell_id": "00000-de18cfa8-2d1c-47c4-8298-06d150b78037",
    "deepnote_to_be_reexecuted": false,
    "source_hash": "a1b8085e",
    "execution_start": 1635375519257,
    "execution_millis": 401,
    "deepnote_cell_type": "code"
   },
   "source": "artists_df = pd.read_csv('artists.csv')\n\nartists_df.columns",
   "execution_count": null,
   "outputs": [
    {
     "output_type": "execute_result",
     "execution_count": 10,
     "data": {
      "text/plain": "Index(['id', 'real_name', 'art_name', 'role', 'year_of_birth', 'country',\n       'city', 'email', 'zip_code', 'first_release', 'latest_release',\n       'released_albums'],\n      dtype='object')"
     },
     "metadata": {}
    }
   ]
  },
  {
   "cell_type": "markdown",
   "source": "## Exercício 3",
   "metadata": {
    "tags": [],
    "is_collapsed": false,
    "cell_id": "00004-527d3337-767b-4943-b59e-5292411fe765",
    "deepnote_cell_type": "text-cell-h2"
   }
  },
  {
   "cell_type": "markdown",
   "source": "Exiba as primeiras 5 colunas do DataFrame",
   "metadata": {
    "tags": [],
    "is_collapsed": false,
    "cell_id": "00008-03ed32a9-a502-43f5-9308-4db935e1e801",
    "deepnote_cell_type": "text-cell-p"
   }
  },
  {
   "cell_type": "code",
   "metadata": {
    "tags": [],
    "cell_id": "00009-f5bd5c37-e88f-4c7f-a513-2c7a74328a03",
    "deepnote_to_be_reexecuted": false,
    "source_hash": "823a0673",
    "execution_start": 1635377120130,
    "execution_millis": 99,
    "deepnote_cell_type": "code"
   },
   "source": "#Colunas\n\nimport pandas as pd\nartists_df = pd.read_csv('artists.csv')\n\nartists_df.iloc[:5,5:]\n\n\n",
   "execution_count": null,
   "outputs": [
    {
     "output_type": "execute_result",
     "execution_count": 30,
     "data": {
      "application/vnd.deepnote.dataframe.v2+json": {
       "row_count": 5,
       "column_count": 7,
       "columns": [
        {
         "name": "country",
         "dtype": "object",
         "stats": {
          "unique_count": 5,
          "nan_count": 0,
          "categories": [
           {
            "name": "Slovenia",
            "count": 1
           },
           {
            "name": "Guernsey",
            "count": 1
           },
           {
            "name": "3 others",
            "count": 3
           }
          ]
         }
        },
        {
         "name": "city",
         "dtype": "object",
         "stats": {
          "unique_count": 5,
          "nan_count": 0,
          "categories": [
           {
            "name": "Vedrin",
            "count": 1
           },
           {
            "name": "Montigny-le-Tilleul",
            "count": 1
           },
           {
            "name": "3 others",
            "count": 3
           }
          ]
         }
        },
        {
         "name": "email",
         "dtype": "object",
         "stats": {
          "unique_count": 5,
          "nan_count": 0,
          "categories": [
           {
            "name": "lorem.tristique.aliquet@nonummyFusce.co.uk",
            "count": 1
           },
           {
            "name": "Sed@elementum.com",
            "count": 1
           },
           {
            "name": "3 others",
            "count": 3
           }
          ]
         }
        },
        {
         "name": "zip_code",
         "dtype": "object",
         "stats": {
          "unique_count": 5,
          "nan_count": 0,
          "categories": [
           {
            "name": "6914",
            "count": 1
           },
           {
            "name": "0568",
            "count": 1
           },
           {
            "name": "3 others",
            "count": 3
           }
          ]
         }
        },
        {
         "name": "first_release",
         "dtype": "int64",
         "stats": {
          "unique_count": 4,
          "nan_count": 0,
          "min": "2003",
          "max": "2017",
          "histogram": [
           {
            "bin_start": 2003,
            "bin_end": 2004.4,
            "count": 1
           },
           {
            "bin_start": 2004.4,
            "bin_end": 2005.8,
            "count": 0
           },
           {
            "bin_start": 2005.8,
            "bin_end": 2007.2,
            "count": 0
           },
           {
            "bin_start": 2007.2,
            "bin_end": 2008.6,
            "count": 2
           },
           {
            "bin_start": 2008.6,
            "bin_end": 2010,
            "count": 0
           },
           {
            "bin_start": 2010,
            "bin_end": 2011.4,
            "count": 0
           },
           {
            "bin_start": 2011.4,
            "bin_end": 2012.8,
            "count": 0
           },
           {
            "bin_start": 2012.8,
            "bin_end": 2014.2,
            "count": 1
           },
           {
            "bin_start": 2014.2,
            "bin_end": 2015.6,
            "count": 0
           },
           {
            "bin_start": 2015.6,
            "bin_end": 2017,
            "count": 1
           }
          ]
         }
        },
        {
         "name": "latest_release",
         "dtype": "int64",
         "stats": {
          "unique_count": 3,
          "nan_count": 0,
          "min": "2008",
          "max": "2018",
          "histogram": [
           {
            "bin_start": 2008,
            "bin_end": 2009,
            "count": 2
           },
           {
            "bin_start": 2009,
            "bin_end": 2010,
            "count": 0
           },
           {
            "bin_start": 2010,
            "bin_end": 2011,
            "count": 0
           },
           {
            "bin_start": 2011,
            "bin_end": 2012,
            "count": 0
           },
           {
            "bin_start": 2012,
            "bin_end": 2013,
            "count": 0
           },
           {
            "bin_start": 2013,
            "bin_end": 2014,
            "count": 2
           },
           {
            "bin_start": 2014,
            "bin_end": 2015,
            "count": 0
           },
           {
            "bin_start": 2015,
            "bin_end": 2016,
            "count": 0
           },
           {
            "bin_start": 2016,
            "bin_end": 2017,
            "count": 0
           },
           {
            "bin_start": 2017,
            "bin_end": 2018,
            "count": 1
           }
          ]
         }
        },
        {
         "name": "released_albums",
         "dtype": "int64",
         "stats": {
          "unique_count": 3,
          "nan_count": 0,
          "min": "1",
          "max": "4",
          "histogram": [
           {
            "bin_start": 1,
            "bin_end": 1.3,
            "count": 3
           },
           {
            "bin_start": 1.3,
            "bin_end": 1.6,
            "count": 0
           },
           {
            "bin_start": 1.6,
            "bin_end": 1.9,
            "count": 0
           },
           {
            "bin_start": 1.9,
            "bin_end": 2.2,
            "count": 1
           },
           {
            "bin_start": 2.2,
            "bin_end": 2.5,
            "count": 0
           },
           {
            "bin_start": 2.5,
            "bin_end": 2.8,
            "count": 0
           },
           {
            "bin_start": 2.8,
            "bin_end": 3.1,
            "count": 0
           },
           {
            "bin_start": 3.1,
            "bin_end": 3.4,
            "count": 0
           },
           {
            "bin_start": 3.4,
            "bin_end": 3.6999999999999997,
            "count": 0
           },
           {
            "bin_start": 3.6999999999999997,
            "bin_end": 4,
            "count": 1
           }
          ]
         }
        },
        {
         "name": "_deepnote_index_column",
         "dtype": "int64"
        }
       ],
       "rows_top": [
        {
         "country": "Slovenia",
         "city": "Vedrin",
         "email": "lorem.tristique.aliquet@nonummyFusce.co.uk",
         "zip_code": "6914",
         "first_release": 2008,
         "latest_release": 2008,
         "released_albums": 1,
         "_deepnote_index_column": 0
        },
        {
         "country": "Guernsey",
         "city": "Montigny-le-Tilleul",
         "email": "Sed@elementum.com",
         "zip_code": "0568",
         "first_release": 2008,
         "latest_release": 2008,
         "released_albums": 1,
         "_deepnote_index_column": 1
        },
        {
         "country": "Guinea-Bissau",
         "city": "Saint-Sébastien-sur-Loire",
         "email": "Integer.tincidunt.aliquam@libero.com",
         "zip_code": "813154",
         "first_release": 2013,
         "latest_release": 2013,
         "released_albums": 1,
         "_deepnote_index_column": 2
        },
        {
         "country": "Vanuatu",
         "city": "Dudzele",
         "email": "faucibus@euismodetcommodo.edu",
         "zip_code": "46418",
         "first_release": 2017,
         "latest_release": 2018,
         "released_albums": 2,
         "_deepnote_index_column": 3
        },
        {
         "country": "Niue",
         "city": "Moradabad",
         "email": "enim.Sed.nulla@In.net",
         "zip_code": "514533",
         "first_release": 2003,
         "latest_release": 2013,
         "released_albums": 4,
         "_deepnote_index_column": 4
        }
       ],
       "rows_bottom": null
      },
      "text/plain": "         country                       city  \\\n0       Slovenia                     Vedrin   \n1       Guernsey        Montigny-le-Tilleul   \n2  Guinea-Bissau  Saint-Sébastien-sur-Loire   \n3        Vanuatu                    Dudzele   \n4           Niue                  Moradabad   \n\n                                        email zip_code  first_release  \\\n0  lorem.tristique.aliquet@nonummyFusce.co.uk     6914           2008   \n1                           Sed@elementum.com     0568           2008   \n2        Integer.tincidunt.aliquam@libero.com   813154           2013   \n3               faucibus@euismodetcommodo.edu    46418           2017   \n4                       enim.Sed.nulla@In.net   514533           2003   \n\n   latest_release  released_albums  \n0            2008                1  \n1            2008                1  \n2            2013                1  \n3            2018                2  \n4            2013                4  ",
      "text/html": "<div>\n<style scoped>\n    .dataframe tbody tr th:only-of-type {\n        vertical-align: middle;\n    }\n\n    .dataframe tbody tr th {\n        vertical-align: top;\n    }\n\n    .dataframe thead th {\n        text-align: right;\n    }\n</style>\n<table border=\"1\" class=\"dataframe\">\n  <thead>\n    <tr style=\"text-align: right;\">\n      <th></th>\n      <th>country</th>\n      <th>city</th>\n      <th>email</th>\n      <th>zip_code</th>\n      <th>first_release</th>\n      <th>latest_release</th>\n      <th>released_albums</th>\n    </tr>\n  </thead>\n  <tbody>\n    <tr>\n      <th>0</th>\n      <td>Slovenia</td>\n      <td>Vedrin</td>\n      <td>lorem.tristique.aliquet@nonummyFusce.co.uk</td>\n      <td>6914</td>\n      <td>2008</td>\n      <td>2008</td>\n      <td>1</td>\n    </tr>\n    <tr>\n      <th>1</th>\n      <td>Guernsey</td>\n      <td>Montigny-le-Tilleul</td>\n      <td>Sed@elementum.com</td>\n      <td>0568</td>\n      <td>2008</td>\n      <td>2008</td>\n      <td>1</td>\n    </tr>\n    <tr>\n      <th>2</th>\n      <td>Guinea-Bissau</td>\n      <td>Saint-Sébastien-sur-Loire</td>\n      <td>Integer.tincidunt.aliquam@libero.com</td>\n      <td>813154</td>\n      <td>2013</td>\n      <td>2013</td>\n      <td>1</td>\n    </tr>\n    <tr>\n      <th>3</th>\n      <td>Vanuatu</td>\n      <td>Dudzele</td>\n      <td>faucibus@euismodetcommodo.edu</td>\n      <td>46418</td>\n      <td>2017</td>\n      <td>2018</td>\n      <td>2</td>\n    </tr>\n    <tr>\n      <th>4</th>\n      <td>Niue</td>\n      <td>Moradabad</td>\n      <td>enim.Sed.nulla@In.net</td>\n      <td>514533</td>\n      <td>2003</td>\n      <td>2013</td>\n      <td>4</td>\n    </tr>\n  </tbody>\n</table>\n</div>"
     },
     "metadata": {}
    }
   ]
  },
  {
   "cell_type": "code",
   "metadata": {
    "tags": [],
    "cell_id": "00010-a58d3d52-595a-47c2-8f05-8c8de63e2f42",
    "deepnote_to_be_reexecuted": false,
    "source_hash": "d82fa5d7",
    "execution_start": 1635377289996,
    "execution_millis": 164,
    "deepnote_cell_type": "code"
   },
   "source": "#linhas\n\nimport pandas as pd\nartists_df = pd.read_csv('artists.csv')\n\nartists_df.head(5)\n",
   "execution_count": null,
   "outputs": [
    {
     "output_type": "execute_result",
     "execution_count": 34,
     "data": {
      "application/vnd.deepnote.dataframe.v2+json": {
       "row_count": 5,
       "column_count": 12,
       "columns": [
        {
         "name": "id",
         "dtype": "int64",
         "stats": {
          "unique_count": 5,
          "nan_count": 0,
          "min": "1",
          "max": "6",
          "histogram": [
           {
            "bin_start": 1,
            "bin_end": 1.5,
            "count": 1
           },
           {
            "bin_start": 1.5,
            "bin_end": 2,
            "count": 0
           },
           {
            "bin_start": 2,
            "bin_end": 2.5,
            "count": 1
           },
           {
            "bin_start": 2.5,
            "bin_end": 3,
            "count": 0
           },
           {
            "bin_start": 3,
            "bin_end": 3.5,
            "count": 1
           },
           {
            "bin_start": 3.5,
            "bin_end": 4,
            "count": 0
           },
           {
            "bin_start": 4,
            "bin_end": 4.5,
            "count": 0
           },
           {
            "bin_start": 4.5,
            "bin_end": 5,
            "count": 0
           },
           {
            "bin_start": 5,
            "bin_end": 5.5,
            "count": 1
           },
           {
            "bin_start": 5.5,
            "bin_end": 6,
            "count": 1
           }
          ]
         }
        },
        {
         "name": "real_name",
         "dtype": "object",
         "stats": {
          "unique_count": 5,
          "nan_count": 0,
          "categories": [
           {
            "name": "Kameko Nelson",
            "count": 1
           },
           {
            "name": "Sacha Cameron",
            "count": 1
           },
           {
            "name": "3 others",
            "count": 3
           }
          ]
         }
        },
        {
         "name": "art_name",
         "dtype": "object",
         "stats": {
          "unique_count": 3,
          "nan_count": 2,
          "categories": [
           {
            "name": "Bianco Ibureno Chloride",
            "count": 1
           },
           {
            "name": "2 others",
            "count": 2
           },
           {
            "name": "Missing",
            "count": 2
           }
          ]
         }
        },
        {
         "name": "role",
         "dtype": "object",
         "stats": {
          "unique_count": 4,
          "nan_count": 0,
          "categories": [
           {
            "name": "rapper",
            "count": 2
           },
           {
            "name": "female voice",
            "count": 1
           },
           {
            "name": "2 others",
            "count": 2
           }
          ]
         }
        },
        {
         "name": "year_of_birth",
         "dtype": "int64",
         "stats": {
          "unique_count": 5,
          "nan_count": 0,
          "min": "1955",
          "max": "1993",
          "histogram": [
           {
            "bin_start": 1955,
            "bin_end": 1958.8,
            "count": 1
           },
           {
            "bin_start": 1958.8,
            "bin_end": 1962.6,
            "count": 0
           },
           {
            "bin_start": 1962.6,
            "bin_end": 1966.4,
            "count": 0
           },
           {
            "bin_start": 1966.4,
            "bin_end": 1970.2,
            "count": 0
           },
           {
            "bin_start": 1970.2,
            "bin_end": 1974,
            "count": 0
           },
           {
            "bin_start": 1974,
            "bin_end": 1977.8,
            "count": 0
           },
           {
            "bin_start": 1977.8,
            "bin_end": 1981.6,
            "count": 1
           },
           {
            "bin_start": 1981.6,
            "bin_end": 1985.4,
            "count": 0
           },
           {
            "bin_start": 1985.4,
            "bin_end": 1989.2,
            "count": 2
           },
           {
            "bin_start": 1989.2,
            "bin_end": 1993,
            "count": 1
           }
          ]
         }
        },
        {
         "name": "country",
         "dtype": "object",
         "stats": {
          "unique_count": 5,
          "nan_count": 0,
          "categories": [
           {
            "name": "Slovenia",
            "count": 1
           },
           {
            "name": "Guernsey",
            "count": 1
           },
           {
            "name": "3 others",
            "count": 3
           }
          ]
         }
        },
        {
         "name": "city",
         "dtype": "object",
         "stats": {
          "unique_count": 5,
          "nan_count": 0,
          "categories": [
           {
            "name": "Vedrin",
            "count": 1
           },
           {
            "name": "Montigny-le-Tilleul",
            "count": 1
           },
           {
            "name": "3 others",
            "count": 3
           }
          ]
         }
        },
        {
         "name": "email",
         "dtype": "object",
         "stats": {
          "unique_count": 5,
          "nan_count": 0,
          "categories": [
           {
            "name": "lorem.tristique.aliquet@nonummyFusce.co.uk",
            "count": 1
           },
           {
            "name": "Sed@elementum.com",
            "count": 1
           },
           {
            "name": "3 others",
            "count": 3
           }
          ]
         }
        },
        {
         "name": "zip_code",
         "dtype": "object",
         "stats": {
          "unique_count": 5,
          "nan_count": 0,
          "categories": [
           {
            "name": "6914",
            "count": 1
           },
           {
            "name": "0568",
            "count": 1
           },
           {
            "name": "3 others",
            "count": 3
           }
          ]
         }
        },
        {
         "name": "first_release",
         "dtype": "int64",
         "stats": {
          "unique_count": 4,
          "nan_count": 0,
          "min": "2003",
          "max": "2017",
          "histogram": [
           {
            "bin_start": 2003,
            "bin_end": 2004.4,
            "count": 1
           },
           {
            "bin_start": 2004.4,
            "bin_end": 2005.8,
            "count": 0
           },
           {
            "bin_start": 2005.8,
            "bin_end": 2007.2,
            "count": 0
           },
           {
            "bin_start": 2007.2,
            "bin_end": 2008.6,
            "count": 2
           },
           {
            "bin_start": 2008.6,
            "bin_end": 2010,
            "count": 0
           },
           {
            "bin_start": 2010,
            "bin_end": 2011.4,
            "count": 0
           },
           {
            "bin_start": 2011.4,
            "bin_end": 2012.8,
            "count": 0
           },
           {
            "bin_start": 2012.8,
            "bin_end": 2014.2,
            "count": 1
           },
           {
            "bin_start": 2014.2,
            "bin_end": 2015.6,
            "count": 0
           },
           {
            "bin_start": 2015.6,
            "bin_end": 2017,
            "count": 1
           }
          ]
         }
        },
        {
         "name": "latest_release",
         "dtype": "int64",
         "stats": {
          "unique_count": 3,
          "nan_count": 0,
          "min": "2008",
          "max": "2018",
          "histogram": [
           {
            "bin_start": 2008,
            "bin_end": 2009,
            "count": 2
           },
           {
            "bin_start": 2009,
            "bin_end": 2010,
            "count": 0
           },
           {
            "bin_start": 2010,
            "bin_end": 2011,
            "count": 0
           },
           {
            "bin_start": 2011,
            "bin_end": 2012,
            "count": 0
           },
           {
            "bin_start": 2012,
            "bin_end": 2013,
            "count": 0
           },
           {
            "bin_start": 2013,
            "bin_end": 2014,
            "count": 2
           },
           {
            "bin_start": 2014,
            "bin_end": 2015,
            "count": 0
           },
           {
            "bin_start": 2015,
            "bin_end": 2016,
            "count": 0
           },
           {
            "bin_start": 2016,
            "bin_end": 2017,
            "count": 0
           },
           {
            "bin_start": 2017,
            "bin_end": 2018,
            "count": 1
           }
          ]
         }
        },
        {
         "name": "released_albums",
         "dtype": "int64",
         "stats": {
          "unique_count": 3,
          "nan_count": 0,
          "min": "1",
          "max": "4",
          "histogram": [
           {
            "bin_start": 1,
            "bin_end": 1.3,
            "count": 3
           },
           {
            "bin_start": 1.3,
            "bin_end": 1.6,
            "count": 0
           },
           {
            "bin_start": 1.6,
            "bin_end": 1.9,
            "count": 0
           },
           {
            "bin_start": 1.9,
            "bin_end": 2.2,
            "count": 1
           },
           {
            "bin_start": 2.2,
            "bin_end": 2.5,
            "count": 0
           },
           {
            "bin_start": 2.5,
            "bin_end": 2.8,
            "count": 0
           },
           {
            "bin_start": 2.8,
            "bin_end": 3.1,
            "count": 0
           },
           {
            "bin_start": 3.1,
            "bin_end": 3.4,
            "count": 0
           },
           {
            "bin_start": 3.4,
            "bin_end": 3.6999999999999997,
            "count": 0
           },
           {
            "bin_start": 3.6999999999999997,
            "bin_end": 4,
            "count": 1
           }
          ]
         }
        },
        {
         "name": "_deepnote_index_column",
         "dtype": "int64"
        }
       ],
       "rows_top": [
        {
         "id": 1,
         "real_name": "Kameko Nelson",
         "art_name": "nan",
         "role": "female voice",
         "year_of_birth": 1981,
         "country": "Slovenia",
         "city": "Vedrin",
         "email": "lorem.tristique.aliquet@nonummyFusce.co.uk",
         "zip_code": "6914",
         "first_release": 2008,
         "latest_release": 2008,
         "released_albums": 1,
         "_deepnote_index_column": 0
        },
        {
         "id": 2,
         "real_name": "Sacha Cameron",
         "art_name": "Bianco Ibureno Chloride",
         "role": "artist",
         "year_of_birth": 1955,
         "country": "Guernsey",
         "city": "Montigny-le-Tilleul",
         "email": "Sed@elementum.com",
         "zip_code": "0568",
         "first_release": 2008,
         "latest_release": 2008,
         "released_albums": 1,
         "_deepnote_index_column": 1
        },
        {
         "id": 3,
         "real_name": "Thane E. Oliver",
         "art_name": "nan",
         "role": "rapper",
         "year_of_birth": 1993,
         "country": "Guinea-Bissau",
         "city": "Saint-Sébastien-sur-Loire",
         "email": "Integer.tincidunt.aliquam@libero.com",
         "zip_code": "813154",
         "first_release": 2013,
         "latest_release": 2013,
         "released_albums": 1,
         "_deepnote_index_column": 2
        },
        {
         "id": 5,
         "real_name": "Sonia U. Jensen",
         "art_name": "Asleep lonely Big Morgan",
         "role": "DJ",
         "year_of_birth": 1988,
         "country": "Vanuatu",
         "city": "Dudzele",
         "email": "faucibus@euismodetcommodo.edu",
         "zip_code": "46418",
         "first_release": 2017,
         "latest_release": 2018,
         "released_albums": 2,
         "_deepnote_index_column": 3
        },
        {
         "id": 6,
         "real_name": "Xanthus Wyatt",
         "art_name": "Paint of Heart Lorazepam",
         "role": "rapper",
         "year_of_birth": 1989,
         "country": "Niue",
         "city": "Moradabad",
         "email": "enim.Sed.nulla@In.net",
         "zip_code": "514533",
         "first_release": 2003,
         "latest_release": 2013,
         "released_albums": 4,
         "_deepnote_index_column": 4
        }
       ],
       "rows_bottom": null
      },
      "text/plain": "   id        real_name                  art_name          role  year_of_birth  \\\n0   1    Kameko Nelson                       NaN  female voice           1981   \n1   2    Sacha Cameron   Bianco Ibureno Chloride        artist           1955   \n2   3  Thane E. Oliver                       NaN        rapper           1993   \n3   5  Sonia U. Jensen  Asleep lonely Big Morgan            DJ           1988   \n4   6    Xanthus Wyatt  Paint of Heart Lorazepam        rapper           1989   \n\n         country                       city  \\\n0       Slovenia                     Vedrin   \n1       Guernsey        Montigny-le-Tilleul   \n2  Guinea-Bissau  Saint-Sébastien-sur-Loire   \n3        Vanuatu                    Dudzele   \n4           Niue                  Moradabad   \n\n                                        email zip_code  first_release  \\\n0  lorem.tristique.aliquet@nonummyFusce.co.uk     6914           2008   \n1                           Sed@elementum.com     0568           2008   \n2        Integer.tincidunt.aliquam@libero.com   813154           2013   \n3               faucibus@euismodetcommodo.edu    46418           2017   \n4                       enim.Sed.nulla@In.net   514533           2003   \n\n   latest_release  released_albums  \n0            2008                1  \n1            2008                1  \n2            2013                1  \n3            2018                2  \n4            2013                4  ",
      "text/html": "<div>\n<style scoped>\n    .dataframe tbody tr th:only-of-type {\n        vertical-align: middle;\n    }\n\n    .dataframe tbody tr th {\n        vertical-align: top;\n    }\n\n    .dataframe thead th {\n        text-align: right;\n    }\n</style>\n<table border=\"1\" class=\"dataframe\">\n  <thead>\n    <tr style=\"text-align: right;\">\n      <th></th>\n      <th>id</th>\n      <th>real_name</th>\n      <th>art_name</th>\n      <th>role</th>\n      <th>year_of_birth</th>\n      <th>country</th>\n      <th>city</th>\n      <th>email</th>\n      <th>zip_code</th>\n      <th>first_release</th>\n      <th>latest_release</th>\n      <th>released_albums</th>\n    </tr>\n  </thead>\n  <tbody>\n    <tr>\n      <th>0</th>\n      <td>1</td>\n      <td>Kameko Nelson</td>\n      <td>NaN</td>\n      <td>female voice</td>\n      <td>1981</td>\n      <td>Slovenia</td>\n      <td>Vedrin</td>\n      <td>lorem.tristique.aliquet@nonummyFusce.co.uk</td>\n      <td>6914</td>\n      <td>2008</td>\n      <td>2008</td>\n      <td>1</td>\n    </tr>\n    <tr>\n      <th>1</th>\n      <td>2</td>\n      <td>Sacha Cameron</td>\n      <td>Bianco Ibureno Chloride</td>\n      <td>artist</td>\n      <td>1955</td>\n      <td>Guernsey</td>\n      <td>Montigny-le-Tilleul</td>\n      <td>Sed@elementum.com</td>\n      <td>0568</td>\n      <td>2008</td>\n      <td>2008</td>\n      <td>1</td>\n    </tr>\n    <tr>\n      <th>2</th>\n      <td>3</td>\n      <td>Thane E. Oliver</td>\n      <td>NaN</td>\n      <td>rapper</td>\n      <td>1993</td>\n      <td>Guinea-Bissau</td>\n      <td>Saint-Sébastien-sur-Loire</td>\n      <td>Integer.tincidunt.aliquam@libero.com</td>\n      <td>813154</td>\n      <td>2013</td>\n      <td>2013</td>\n      <td>1</td>\n    </tr>\n    <tr>\n      <th>3</th>\n      <td>5</td>\n      <td>Sonia U. Jensen</td>\n      <td>Asleep lonely Big Morgan</td>\n      <td>DJ</td>\n      <td>1988</td>\n      <td>Vanuatu</td>\n      <td>Dudzele</td>\n      <td>faucibus@euismodetcommodo.edu</td>\n      <td>46418</td>\n      <td>2017</td>\n      <td>2018</td>\n      <td>2</td>\n    </tr>\n    <tr>\n      <th>4</th>\n      <td>6</td>\n      <td>Xanthus Wyatt</td>\n      <td>Paint of Heart Lorazepam</td>\n      <td>rapper</td>\n      <td>1989</td>\n      <td>Niue</td>\n      <td>Moradabad</td>\n      <td>enim.Sed.nulla@In.net</td>\n      <td>514533</td>\n      <td>2003</td>\n      <td>2013</td>\n      <td>4</td>\n    </tr>\n  </tbody>\n</table>\n</div>"
     },
     "metadata": {}
    }
   ]
  },
  {
   "cell_type": "markdown",
   "source": "Exiba as últimas 5 colunas do DataFrame",
   "metadata": {
    "tags": [],
    "is_collapsed": false,
    "cell_id": "00010-1274e382-5705-4579-aa7d-04e033f1c7df",
    "deepnote_cell_type": "text-cell-p"
   }
  },
  {
   "cell_type": "code",
   "metadata": {
    "tags": [],
    "cell_id": "00011-dea19d13-5622-461b-9b7a-15be2b2e92a5",
    "deepnote_to_be_reexecuted": false,
    "source_hash": "9671c8a0",
    "execution_start": 1635377154747,
    "execution_millis": 71,
    "deepnote_cell_type": "code"
   },
   "source": "#colunas\nimport pandas as pd\nartists_df = pd.read_csv('artists.csv')\n\nartists_df.iloc[:5,-5:]\n\n\n",
   "execution_count": null,
   "outputs": [
    {
     "output_type": "execute_result",
     "execution_count": 32,
     "data": {
      "application/vnd.deepnote.dataframe.v2+json": {
       "row_count": 5,
       "column_count": 5,
       "columns": [
        {
         "name": "email",
         "dtype": "object",
         "stats": {
          "unique_count": 5,
          "nan_count": 0,
          "categories": [
           {
            "name": "lorem.tristique.aliquet@nonummyFusce.co.uk",
            "count": 1
           },
           {
            "name": "Sed@elementum.com",
            "count": 1
           },
           {
            "name": "3 others",
            "count": 3
           }
          ]
         }
        },
        {
         "name": "zip_code",
         "dtype": "object",
         "stats": {
          "unique_count": 5,
          "nan_count": 0,
          "categories": [
           {
            "name": "6914",
            "count": 1
           },
           {
            "name": "0568",
            "count": 1
           },
           {
            "name": "3 others",
            "count": 3
           }
          ]
         }
        },
        {
         "name": "first_release",
         "dtype": "int64",
         "stats": {
          "unique_count": 4,
          "nan_count": 0,
          "min": "2003",
          "max": "2017",
          "histogram": [
           {
            "bin_start": 2003,
            "bin_end": 2004.4,
            "count": 1
           },
           {
            "bin_start": 2004.4,
            "bin_end": 2005.8,
            "count": 0
           },
           {
            "bin_start": 2005.8,
            "bin_end": 2007.2,
            "count": 0
           },
           {
            "bin_start": 2007.2,
            "bin_end": 2008.6,
            "count": 2
           },
           {
            "bin_start": 2008.6,
            "bin_end": 2010,
            "count": 0
           },
           {
            "bin_start": 2010,
            "bin_end": 2011.4,
            "count": 0
           },
           {
            "bin_start": 2011.4,
            "bin_end": 2012.8,
            "count": 0
           },
           {
            "bin_start": 2012.8,
            "bin_end": 2014.2,
            "count": 1
           },
           {
            "bin_start": 2014.2,
            "bin_end": 2015.6,
            "count": 0
           },
           {
            "bin_start": 2015.6,
            "bin_end": 2017,
            "count": 1
           }
          ]
         }
        },
        {
         "name": "latest_release",
         "dtype": "int64",
         "stats": {
          "unique_count": 3,
          "nan_count": 0,
          "min": "2008",
          "max": "2018",
          "histogram": [
           {
            "bin_start": 2008,
            "bin_end": 2009,
            "count": 2
           },
           {
            "bin_start": 2009,
            "bin_end": 2010,
            "count": 0
           },
           {
            "bin_start": 2010,
            "bin_end": 2011,
            "count": 0
           },
           {
            "bin_start": 2011,
            "bin_end": 2012,
            "count": 0
           },
           {
            "bin_start": 2012,
            "bin_end": 2013,
            "count": 0
           },
           {
            "bin_start": 2013,
            "bin_end": 2014,
            "count": 2
           },
           {
            "bin_start": 2014,
            "bin_end": 2015,
            "count": 0
           },
           {
            "bin_start": 2015,
            "bin_end": 2016,
            "count": 0
           },
           {
            "bin_start": 2016,
            "bin_end": 2017,
            "count": 0
           },
           {
            "bin_start": 2017,
            "bin_end": 2018,
            "count": 1
           }
          ]
         }
        },
        {
         "name": "released_albums",
         "dtype": "int64",
         "stats": {
          "unique_count": 3,
          "nan_count": 0,
          "min": "1",
          "max": "4",
          "histogram": [
           {
            "bin_start": 1,
            "bin_end": 1.3,
            "count": 3
           },
           {
            "bin_start": 1.3,
            "bin_end": 1.6,
            "count": 0
           },
           {
            "bin_start": 1.6,
            "bin_end": 1.9,
            "count": 0
           },
           {
            "bin_start": 1.9,
            "bin_end": 2.2,
            "count": 1
           },
           {
            "bin_start": 2.2,
            "bin_end": 2.5,
            "count": 0
           },
           {
            "bin_start": 2.5,
            "bin_end": 2.8,
            "count": 0
           },
           {
            "bin_start": 2.8,
            "bin_end": 3.1,
            "count": 0
           },
           {
            "bin_start": 3.1,
            "bin_end": 3.4,
            "count": 0
           },
           {
            "bin_start": 3.4,
            "bin_end": 3.6999999999999997,
            "count": 0
           },
           {
            "bin_start": 3.6999999999999997,
            "bin_end": 4,
            "count": 1
           }
          ]
         }
        },
        {
         "name": "_deepnote_index_column",
         "dtype": "int64"
        }
       ],
       "rows_top": [
        {
         "email": "lorem.tristique.aliquet@nonummyFusce.co.uk",
         "zip_code": "6914",
         "first_release": 2008,
         "latest_release": 2008,
         "released_albums": 1,
         "_deepnote_index_column": 0
        },
        {
         "email": "Sed@elementum.com",
         "zip_code": "0568",
         "first_release": 2008,
         "latest_release": 2008,
         "released_albums": 1,
         "_deepnote_index_column": 1
        },
        {
         "email": "Integer.tincidunt.aliquam@libero.com",
         "zip_code": "813154",
         "first_release": 2013,
         "latest_release": 2013,
         "released_albums": 1,
         "_deepnote_index_column": 2
        },
        {
         "email": "faucibus@euismodetcommodo.edu",
         "zip_code": "46418",
         "first_release": 2017,
         "latest_release": 2018,
         "released_albums": 2,
         "_deepnote_index_column": 3
        },
        {
         "email": "enim.Sed.nulla@In.net",
         "zip_code": "514533",
         "first_release": 2003,
         "latest_release": 2013,
         "released_albums": 4,
         "_deepnote_index_column": 4
        }
       ],
       "rows_bottom": null
      },
      "text/plain": "                                        email zip_code  first_release  \\\n0  lorem.tristique.aliquet@nonummyFusce.co.uk     6914           2008   \n1                           Sed@elementum.com     0568           2008   \n2        Integer.tincidunt.aliquam@libero.com   813154           2013   \n3               faucibus@euismodetcommodo.edu    46418           2017   \n4                       enim.Sed.nulla@In.net   514533           2003   \n\n   latest_release  released_albums  \n0            2008                1  \n1            2008                1  \n2            2013                1  \n3            2018                2  \n4            2013                4  ",
      "text/html": "<div>\n<style scoped>\n    .dataframe tbody tr th:only-of-type {\n        vertical-align: middle;\n    }\n\n    .dataframe tbody tr th {\n        vertical-align: top;\n    }\n\n    .dataframe thead th {\n        text-align: right;\n    }\n</style>\n<table border=\"1\" class=\"dataframe\">\n  <thead>\n    <tr style=\"text-align: right;\">\n      <th></th>\n      <th>email</th>\n      <th>zip_code</th>\n      <th>first_release</th>\n      <th>latest_release</th>\n      <th>released_albums</th>\n    </tr>\n  </thead>\n  <tbody>\n    <tr>\n      <th>0</th>\n      <td>lorem.tristique.aliquet@nonummyFusce.co.uk</td>\n      <td>6914</td>\n      <td>2008</td>\n      <td>2008</td>\n      <td>1</td>\n    </tr>\n    <tr>\n      <th>1</th>\n      <td>Sed@elementum.com</td>\n      <td>0568</td>\n      <td>2008</td>\n      <td>2008</td>\n      <td>1</td>\n    </tr>\n    <tr>\n      <th>2</th>\n      <td>Integer.tincidunt.aliquam@libero.com</td>\n      <td>813154</td>\n      <td>2013</td>\n      <td>2013</td>\n      <td>1</td>\n    </tr>\n    <tr>\n      <th>3</th>\n      <td>faucibus@euismodetcommodo.edu</td>\n      <td>46418</td>\n      <td>2017</td>\n      <td>2018</td>\n      <td>2</td>\n    </tr>\n    <tr>\n      <th>4</th>\n      <td>enim.Sed.nulla@In.net</td>\n      <td>514533</td>\n      <td>2003</td>\n      <td>2013</td>\n      <td>4</td>\n    </tr>\n  </tbody>\n</table>\n</div>"
     },
     "metadata": {}
    }
   ]
  },
  {
   "cell_type": "code",
   "metadata": {
    "tags": [],
    "cell_id": "00013-e58bdb04-4d69-492f-8725-a5f2a27e3df7",
    "deepnote_to_be_reexecuted": false,
    "source_hash": "a1b74581",
    "execution_start": 1635377341234,
    "execution_millis": 694,
    "deepnote_cell_type": "code"
   },
   "source": "#linhas\n\nimport pandas as pd\nartists_df = pd.read_csv('artists.csv')\n\nartists_df.head(-5)\n\n",
   "execution_count": null,
   "outputs": [
    {
     "output_type": "execute_result",
     "execution_count": 35,
     "data": {
      "application/vnd.deepnote.dataframe.v2+json": {
       "row_count": 27531,
       "column_count": 12,
       "columns": [
        {
         "name": "id",
         "dtype": "int64",
         "stats": {
          "unique_count": 27531,
          "nan_count": 0,
          "min": "1",
          "max": "49991",
          "histogram": [
           {
            "bin_start": 1,
            "bin_end": 5000,
            "count": 2836
           },
           {
            "bin_start": 5000,
            "bin_end": 9999,
            "count": 2781
           },
           {
            "bin_start": 9999,
            "bin_end": 14998,
            "count": 2708
           },
           {
            "bin_start": 14998,
            "bin_end": 19997,
            "count": 2787
           },
           {
            "bin_start": 19997,
            "bin_end": 24996,
            "count": 2777
           },
           {
            "bin_start": 24996,
            "bin_end": 29995,
            "count": 2740
           },
           {
            "bin_start": 29995,
            "bin_end": 34994,
            "count": 2709
           },
           {
            "bin_start": 34994,
            "bin_end": 39993,
            "count": 2734
           },
           {
            "bin_start": 39993,
            "bin_end": 44992,
            "count": 2673
           },
           {
            "bin_start": 44992,
            "bin_end": 49991,
            "count": 2786
           }
          ]
         }
        },
        {
         "name": "real_name",
         "dtype": "object",
         "stats": {
          "unique_count": 27448,
          "nan_count": 0,
          "categories": [
           {
            "name": "Xyla Blackburn",
            "count": 2
           },
           {
            "name": "Mallory Miller",
            "count": 2
           },
           {
            "name": "27446 others",
            "count": 27527
           }
          ]
         }
        },
        {
         "name": "art_name",
         "dtype": "object",
         "stats": {
          "unique_count": 12795,
          "nan_count": 9109,
          "categories": [
           {
            "name": "Pleasant",
            "count": 26
           },
           {
            "name": "12794 others",
            "count": 18396
           },
           {
            "name": "Missing",
            "count": 9109
           }
          ]
         }
        },
        {
         "name": "role",
         "dtype": "object"
        },
        {
         "name": "year_of_birth",
         "dtype": "int64"
        },
        {
         "name": "country",
         "dtype": "object"
        },
        {
         "name": "city",
         "dtype": "object"
        },
        {
         "name": "email",
         "dtype": "object"
        },
        {
         "name": "zip_code",
         "dtype": "object"
        },
        {
         "name": "first_release",
         "dtype": "int64"
        },
        {
         "name": "latest_release",
         "dtype": "int64"
        },
        {
         "name": "released_albums",
         "dtype": "int64"
        },
        {
         "name": "_deepnote_index_column",
         "dtype": "int64"
        }
       ],
       "rows_top": [
        {
         "id": 1,
         "real_name": "Kameko Nelson",
         "art_name": "nan",
         "role": "female voice",
         "year_of_birth": 1981,
         "country": "Slovenia",
         "city": "Vedrin",
         "email": "lorem.tristique.aliquet@nonummyFusce.co.uk",
         "zip_code": "6914",
         "first_release": 2008,
         "latest_release": 2008,
         "released_albums": 1,
         "_deepnote_index_column": 0
        },
        {
         "id": 2,
         "real_name": "Sacha Cameron",
         "art_name": "Bianco Ibureno Chloride",
         "role": "artist",
         "year_of_birth": 1955,
         "country": "Guernsey",
         "city": "Montigny-le-Tilleul",
         "email": "Sed@elementum.com",
         "zip_code": "0568",
         "first_release": 2008,
         "latest_release": 2008,
         "released_albums": 1,
         "_deepnote_index_column": 1
        },
        {
         "id": 3,
         "real_name": "Thane E. Oliver",
         "art_name": "nan",
         "role": "rapper",
         "year_of_birth": 1993,
         "country": "Guinea-Bissau",
         "city": "Saint-Sébastien-sur-Loire",
         "email": "Integer.tincidunt.aliquam@libero.com",
         "zip_code": "813154",
         "first_release": 2013,
         "latest_release": 2013,
         "released_albums": 1,
         "_deepnote_index_column": 2
        },
        {
         "id": 5,
         "real_name": "Sonia U. Jensen",
         "art_name": "Asleep lonely Big Morgan",
         "role": "DJ",
         "year_of_birth": 1988,
         "country": "Vanuatu",
         "city": "Dudzele",
         "email": "faucibus@euismodetcommodo.edu",
         "zip_code": "46418",
         "first_release": 2017,
         "latest_release": 2018,
         "released_albums": 2,
         "_deepnote_index_column": 3
        },
        {
         "id": 6,
         "real_name": "Xanthus Wyatt",
         "art_name": "Paint of Heart Lorazepam",
         "role": "rapper",
         "year_of_birth": 1989,
         "country": "Niue",
         "city": "Moradabad",
         "email": "enim.Sed.nulla@In.net",
         "zip_code": "514533",
         "first_release": 2003,
         "latest_release": 2013,
         "released_albums": 4,
         "_deepnote_index_column": 4
        },
        {
         "id": 7,
         "real_name": "Guinevere L. Fitzpatrick",
         "art_name": "Global The Africa Times",
         "role": "violinist",
         "year_of_birth": 1958,
         "country": "Tunisia",
         "city": "Cassaro",
         "email": "mi@Crassedleo.ca",
         "zip_code": "892637",
         "first_release": 2006,
         "latest_release": 2010,
         "released_albums": 2,
         "_deepnote_index_column": 5
        },
        {
         "id": 9,
         "real_name": "Bell G. Riggs",
         "art_name": "Actos Evelyn Fluoxetine",
         "role": "female voice",
         "year_of_birth": 1992,
         "country": "Indonesia",
         "city": "Overrepen",
         "email": "Aliquam.nisl@adipiscinglobortisrisus.co.uk",
         "zip_code": "UT0P 8WQ",
         "first_release": 2010,
         "latest_release": 2017,
         "released_albums": 3,
         "_deepnote_index_column": 6
        },
        {
         "id": 10,
         "real_name": "Mannix Z. Burton",
         "art_name": "Propionate Recent",
         "role": "pianist",
         "year_of_birth": 1969,
         "country": "Jersey",
         "city": "Baricella",
         "email": "consectetuer.ipsum.nunc@amet.net",
         "zip_code": "593573",
         "first_release": 2013,
         "latest_release": 2014,
         "released_albums": 2,
         "_deepnote_index_column": 7
        },
        {
         "id": 11,
         "real_name": "Chancellor F. Dudley",
         "art_name": "Swedish Jayda Developer Farmer",
         "role": "singer",
         "year_of_birth": 1957,
         "country": "Turks and Caicos Islands",
         "city": "Sannazzaro de' Burgondi",
         "email": "non@Phasellusin.net",
         "zip_code": "884435",
         "first_release": 2010,
         "latest_release": 2011,
         "released_albums": 2,
         "_deepnote_index_column": 8
        },
        {
         "id": 14,
         "real_name": "Willow Mckee",
         "art_name": "nan",
         "role": "trapper",
         "year_of_birth": 1963,
         "country": "Bolivia",
         "city": "Berlin",
         "email": "aliquam@CraspellentesqueSed.co.uk",
         "zip_code": "1907 HW",
         "first_release": 2002,
         "latest_release": 2002,
         "released_albums": 1,
         "_deepnote_index_column": 9
        },
        {
         "id": 15,
         "real_name": "Blythe Eaton",
         "art_name": "Saudi Pakistan Eastern",
         "role": "violinist",
         "year_of_birth": 1957,
         "country": "South Sudan",
         "city": "Wetteren",
         "email": "blandit.Nam.nulla@nequeNullam.co.uk",
         "zip_code": "962986",
         "first_release": 2007,
         "latest_release": 2019,
         "released_albums": 3,
         "_deepnote_index_column": 10
        },
        {
         "id": 17,
         "real_name": "Maxwell Wright",
         "art_name": "F.A.I.R.Y.",
         "role": "chorist",
         "year_of_birth": 1995,
         "country": "Singapore",
         "city": "Ospedaletto Lodigiano",
         "email": "sem.magna.nec@etmagna.ca",
         "zip_code": "6494 TU",
         "first_release": 2011,
         "latest_release": 2011,
         "released_albums": 1,
         "_deepnote_index_column": 11
        },
        {
         "id": 18,
         "real_name": "Stone Downs",
         "art_name": "Search Malay",
         "role": "songwriter",
         "year_of_birth": 1992,
         "country": "Kiribati",
         "city": "El Bosque",
         "email": "interdum.libero.dui@eliterat.org",
         "zip_code": "74-603",
         "first_release": 2006,
         "latest_release": 2012,
         "released_albums": 3,
         "_deepnote_index_column": 12
        },
        {
         "id": 19,
         "real_name": "Charlotte B. Mercado",
         "art_name": "nan",
         "role": "violinist",
         "year_of_birth": 1991,
         "country": "Indonesia",
         "city": "Los Angeles",
         "email": "metus.In@sapienmolestieorci.org",
         "zip_code": "981109",
         "first_release": 2012,
         "latest_release": 2018,
         "released_albums": 2,
         "_deepnote_index_column": 13
        },
        {
         "id": 20,
         "real_name": "Imani E. Morgan",
         "art_name": "Accommodation X Haslava",
         "role": "guitarist",
         "year_of_birth": 1991,
         "country": "Greenland",
         "city": "São João de Meriti",
         "email": "eget.ipsum.Donec@risus.ca",
         "zip_code": "GW4 2JH",
         "first_release": 2002,
         "latest_release": 2012,
         "released_albums": 2,
         "_deepnote_index_column": 14
        },
        {
         "id": 21,
         "real_name": "Jin A. Hamilton",
         "art_name": "nan",
         "role": "pop singer",
         "year_of_birth": 1965,
         "country": "Ecuador",
         "city": "Saint-Denis",
         "email": "Vivamus@portaelit.org",
         "zip_code": "13213",
         "first_release": 2007,
         "latest_release": 2019,
         "released_albums": 2,
         "_deepnote_index_column": 15
        },
        {
         "id": 22,
         "real_name": "Eaton F. Fischer",
         "art_name": "Car tapir",
         "role": "singer",
         "year_of_birth": 1978,
         "country": "Syria",
         "city": "San Clemente",
         "email": "Lorem.ipsum@ipsumDonec.ca",
         "zip_code": "21026",
         "first_release": 2001,
         "latest_release": 2018,
         "released_albums": 5,
         "_deepnote_index_column": 16
        },
        {
         "id": 24,
         "real_name": "Jordan G. Duffy",
         "art_name": "Turkey",
         "role": "pop singer",
         "year_of_birth": 1996,
         "country": "Viet Nam",
         "city": "Limal",
         "email": "ullamcorper.eu.euismod@velvulputate.org",
         "zip_code": "HO6J 4XE",
         "first_release": 2000,
         "latest_release": 2014,
         "released_albums": 2,
         "_deepnote_index_column": 17
        },
        {
         "id": 27,
         "real_name": "Kirby Whitley",
         "art_name": "Guilty",
         "role": "artist",
         "year_of_birth": 1968,
         "country": "Russian Federation",
         "city": "Braunschweig",
         "email": "dictum.eu.eleifend@auctor.ca",
         "zip_code": "383949",
         "first_release": 2018,
         "latest_release": 2018,
         "released_albums": 1,
         "_deepnote_index_column": 18
        },
        {
         "id": 30,
         "real_name": "Finn F. Bass",
         "art_name": "Tartarugose",
         "role": "singer",
         "year_of_birth": 1981,
         "country": "Tunisia",
         "city": "Selva di Cadore",
         "email": "et.netus@blanditat.ca",
         "zip_code": "5576 ED",
         "first_release": 2014,
         "latest_release": 2014,
         "released_albums": 1,
         "_deepnote_index_column": 19
        },
        {
         "id": 31,
         "real_name": "Gemma Farley",
         "art_name": "nan",
         "role": "dancer",
         "year_of_birth": 1992,
         "country": "Botswana",
         "city": "Tarragona",
         "email": "sit.amet@sitametmetus.com",
         "zip_code": "L9G 4N3",
         "first_release": 2009,
         "latest_release": 2018,
         "released_albums": 2,
         "_deepnote_index_column": 20
        },
        {
         "id": 32,
         "real_name": "Dora Short",
         "art_name": "Miss",
         "role": "violoncellist",
         "year_of_birth": 1956,
         "country": "Sri Lanka",
         "city": "Puerto Varas",
         "email": "sagittis.augue.eu@dolor.org",
         "zip_code": "87608",
         "first_release": 2005,
         "latest_release": 2015,
         "released_albums": 3,
         "_deepnote_index_column": 21
        },
        {
         "id": 34,
         "real_name": "Nell Decker",
         "art_name": "Pure Teenage Crazy White Spoons",
         "role": "guitarist",
         "year_of_birth": 1982,
         "country": "Burkina Faso",
         "city": "Villa Agnedo",
         "email": "Etiam.ligula.tortor@Aliquamrutrum.co.uk",
         "zip_code": "89011",
         "first_release": 2016,
         "latest_release": 2016,
         "released_albums": 1,
         "_deepnote_index_column": 22
        },
        {
         "id": 37,
         "real_name": "Timothy T. Harris",
         "art_name": "nan",
         "role": "soprano",
         "year_of_birth": 1977,
         "country": "Bermuda",
         "city": "Wrexham",
         "email": "justo@vulputatelacusCras.co.uk",
         "zip_code": "11108",
         "first_release": 2011,
         "latest_release": 2011,
         "released_albums": 2,
         "_deepnote_index_column": 23
        },
        {
         "id": 38,
         "real_name": "Alice Cervantes",
         "art_name": "nan",
         "role": "artist",
         "year_of_birth": 1993,
         "country": "New Caledonia",
         "city": "Orosei",
         "email": "Aenean.eget@dictumPhasellus.ca",
         "zip_code": "6882",
         "first_release": 2016,
         "latest_release": 2016,
         "released_albums": 2,
         "_deepnote_index_column": 24
        },
        {
         "id": 39,
         "real_name": "Yoshi R. Gonzalez",
         "art_name": "nan",
         "role": "soprano",
         "year_of_birth": 1986,
         "country": "Christmas Island",
         "city": "Söderhamn",
         "email": "Sed@ornarefacilisis.org",
         "zip_code": "57187",
         "first_release": 2004,
         "latest_release": 2004,
         "released_albums": 1,
         "_deepnote_index_column": 25
        },
        {
         "id": 41,
         "real_name": "Jesse Foreman",
         "art_name": "nan",
         "role": "female voice",
         "year_of_birth": 1967,
         "country": "Hungary",
         "city": "Jamioulx",
         "email": "leo@justonecante.net",
         "zip_code": "11612",
         "first_release": 2002,
         "latest_release": 2004,
         "released_albums": 2,
         "_deepnote_index_column": 26
        },
        {
         "id": 42,
         "real_name": "Geoffrey Cabrera",
         "art_name": "nan",
         "role": "violinist",
         "year_of_birth": 1994,
         "country": "Ghana",
         "city": "Dijon",
         "email": "Duis.gravida@liberolacusvarius.net",
         "zip_code": "760212",
         "first_release": 2001,
         "latest_release": 2001,
         "released_albums": 1,
         "_deepnote_index_column": 27
        },
        {
         "id": 43,
         "real_name": "Philip W. Caldwell",
         "art_name": "Urdu",
         "role": "chorister",
         "year_of_birth": 1987,
         "country": "Nigeria",
         "city": "Göttingen",
         "email": "ornare.lectus.ante@hendrerit.org",
         "zip_code": "G0H 4N3",
         "first_release": 2006,
         "latest_release": 2014,
         "released_albums": 2,
         "_deepnote_index_column": 28
        },
        {
         "id": 45,
         "real_name": "Melyssa P. Owen",
         "art_name": "Sounds authoritative Fade",
         "role": "drummer",
         "year_of_birth": 1996,
         "country": "Mayotte",
         "city": "Schwalbach",
         "email": "risus.Duis.a@ligulaeu.com",
         "zip_code": "16412",
         "first_release": 2000,
         "latest_release": 2019,
         "released_albums": 2,
         "_deepnote_index_column": 29
        },
        {
         "id": 47,
         "real_name": "Beck W. Cooper",
         "art_name": "Namenda Prednisone",
         "role": "artist",
         "year_of_birth": 1962,
         "country": "Norfolk Island",
         "city": "Neuss",
         "email": "adipiscing.elit@eu.ca",
         "zip_code": "WR3 7QZ",
         "first_release": 2010,
         "latest_release": 2010,
         "released_albums": 1,
         "_deepnote_index_column": 30
        },
        {
         "id": 50,
         "real_name": "Orla X. Coffey",
         "art_name": "Pig Latin support Succinatex Giselle",
         "role": "chorist",
         "year_of_birth": 1972,
         "country": "Brazil",
         "city": "Nuraminis",
         "email": "pulvinar.arcu.et@Duis.ca",
         "zip_code": "31418",
         "first_release": 2008,
         "latest_release": 2009,
         "released_albums": 2,
         "_deepnote_index_column": 31
        },
        {
         "id": 51,
         "real_name": "Kaitlin Riddle",
         "art_name": "Hook Algeria Responsible",
         "role": "songwriter",
         "year_of_birth": 1976,
         "country": "Saint Lucia",
         "city": "Weymouth",
         "email": "amet.risus.Donec@parturientmontesnascetur.com",
         "zip_code": "37324",
         "first_release": 2014,
         "latest_release": 2014,
         "released_albums": 1,
         "_deepnote_index_column": 32
        },
        {
         "id": 55,
         "real_name": "Erasmus G. Talley",
         "art_name": "nan",
         "role": "DJ",
         "year_of_birth": 1975,
         "country": "Tokelau",
         "city": "Nagpur",
         "email": "facilisis.eget.ipsum@molestietellusAenean.edu",
         "zip_code": "5295",
         "first_release": 2010,
         "latest_release": 2010,
         "released_albums": 1,
         "_deepnote_index_column": 33
        },
        {
         "id": 56,
         "real_name": "Jaden Hart",
         "art_name": "Besylate Kierra",
         "role": "band member",
         "year_of_birth": 1977,
         "country": "Saint Kitts and Nevis",
         "city": "Ulloa (Barrial)",
         "email": "et.ultrices.posuere@Nullatincidunt.ca",
         "zip_code": "V7J 0K2",
         "first_release": 2004,
         "latest_release": 2017,
         "released_albums": 4,
         "_deepnote_index_column": 34
        },
        {
         "id": 59,
         "real_name": "Cathleen Morris",
         "art_name": "Tramadol Kelsie",
         "role": "drummer",
         "year_of_birth": 1976,
         "country": "Laos",
         "city": "Bridgeport",
         "email": "tellus.lorem@Nullasemper.ca",
         "zip_code": "21516",
         "first_release": 2018,
         "latest_release": 2018,
         "released_albums": 1,
         "_deepnote_index_column": 35
        },
        {
         "id": 60,
         "real_name": "Ira Charles",
         "art_name": "Pakistan",
         "role": "chorist",
         "year_of_birth": 1992,
         "country": "Kenya",
         "city": "Waterloo",
         "email": "est.mauris.rhoncus@consequat.com",
         "zip_code": "76275-123",
         "first_release": 2007,
         "latest_release": 2007,
         "released_albums": 1,
         "_deepnote_index_column": 36
        },
        {
         "id": 61,
         "real_name": "Violet Q. Holcomb",
         "art_name": "nan",
         "role": "artist",
         "year_of_birth": 1960,
         "country": "Madagascar",
         "city": "Roccabruna",
         "email": "ullamcorper@ipsum.ca",
         "zip_code": "32-717",
         "first_release": 2001,
         "latest_release": 2018,
         "released_albums": 3,
         "_deepnote_index_column": 37
        },
        {
         "id": 62,
         "real_name": "Francesca Y. Hendricks",
         "art_name": "nan",
         "role": "drummer",
         "year_of_birth": 1989,
         "country": "Bangladesh",
         "city": "Cunco",
         "email": "tempus.risus.Donec@ullamcorper.net",
         "zip_code": "4439",
         "first_release": 2006,
         "latest_release": 2018,
         "released_albums": 2,
         "_deepnote_index_column": 38
        },
        {
         "id": 63,
         "real_name": "Cheyenne Morton",
         "art_name": "Hook Sapper Soprano",
         "role": "rapper",
         "year_of_birth": 1991,
         "country": "United Kingdom (Great Britain)",
         "city": "Forchies-la-Marche",
         "email": "eu.nulla@nascetur.co.uk",
         "zip_code": "52740",
         "first_release": 2001,
         "latest_release": 2017,
         "released_albums": 4,
         "_deepnote_index_column": 39
        },
        {
         "id": 64,
         "real_name": "Kato Y. Ball",
         "art_name": "Gutierretha Mix bless",
         "role": "soprano",
         "year_of_birth": 1989,
         "country": "Antigua and Barbuda",
         "city": "Lota",
         "email": "odio@iaculisnec.edu",
         "zip_code": "78589",
         "first_release": 2007,
         "latest_release": 2013,
         "released_albums": 3,
         "_deepnote_index_column": 40
        }
       ],
       "rows_bottom": [
        {
         "id": 49917,
         "real_name": "Barrett U. Gill",
         "art_name": "nan",
         "role": "drummer",
         "year_of_birth": 1990,
         "country": "Curaçao",
         "city": "Termeno sulla strada del vino/Tramin an der Weinstrasse",
         "email": "massa@sitametornare.com",
         "zip_code": "85563",
         "first_release": 2011,
         "latest_release": 2014,
         "released_albums": 2,
         "_deepnote_index_column": 27489
        },
        {
         "id": 49919,
         "real_name": "Chester Ross",
         "art_name": "nan",
         "role": "singer",
         "year_of_birth": 1975,
         "country": "Peru",
         "city": "Lozzo Atestino",
         "email": "felis.orci.adipiscing@etmagnisdis.co.uk",
         "zip_code": "O5 9FG",
         "first_release": 2001,
         "latest_release": 2004,
         "released_albums": 2,
         "_deepnote_index_column": 27490
        },
        {
         "id": 49921,
         "real_name": "Aspen D. Caldwell",
         "art_name": "56 Lia Eli",
         "role": "drummer",
         "year_of_birth": 1995,
         "country": "Heard Island and Mcdonald Islands",
         "city": "Quesada",
         "email": "euismod.in@odioNaminterdum.com",
         "zip_code": "2933",
         "first_release": 2012,
         "latest_release": 2019,
         "released_albums": 3,
         "_deepnote_index_column": 27491
        },
        {
         "id": 49922,
         "real_name": "Hall Ross",
         "art_name": "Tartarugose",
         "role": "bassist",
         "year_of_birth": 1965,
         "country": "China",
         "city": "Hawera",
         "email": "enim.Sed.nulla@egestas.org",
         "zip_code": "53644",
         "first_release": 2007,
         "latest_release": 2007,
         "released_albums": 1,
         "_deepnote_index_column": 27492
        },
        {
         "id": 49923,
         "real_name": "Zane Hernandez",
         "art_name": "Simvastatin",
         "role": "singer",
         "year_of_birth": 1986,
         "country": "Jamaica",
         "city": "Gosselies",
         "email": "eget.lacus.Mauris@aliquetmagnaa.net",
         "zip_code": "298657",
         "first_release": 2002,
         "latest_release": 2002,
         "released_albums": 1,
         "_deepnote_index_column": 27493
        },
        {
         "id": 49925,
         "real_name": "Cherokee Q. Beard",
         "art_name": "Rare Star Trek",
         "role": "violoncellist",
         "year_of_birth": 1985,
         "country": "Micronesia",
         "city": "Radom",
         "email": "Mauris.ut.quam@Uttincidunt.co.uk",
         "zip_code": "5468 WN",
         "first_release": 2001,
         "latest_release": 2015,
         "released_albums": 5,
         "_deepnote_index_column": 27494
        },
        {
         "id": 49926,
         "real_name": "Jack S. Bell",
         "art_name": "nan",
         "role": "composer",
         "year_of_birth": 1962,
         "country": "Palestine State of",
         "city": "Oyo",
         "email": "Sed@feugiatnecdiam.net",
         "zip_code": "62595",
         "first_release": 2004,
         "latest_release": 2008,
         "released_albums": 3,
         "_deepnote_index_column": 27495
        },
        {
         "id": 49927,
         "real_name": "Neve Head",
         "art_name": "Allopurinol Pharmacist Bison",
         "role": "guitarist",
         "year_of_birth": 1965,
         "country": "Palau",
         "city": "Falmouth",
         "email": "libero.at@vehicularisusNulla.edu",
         "zip_code": "70175",
         "first_release": 2018,
         "latest_release": 2018,
         "released_albums": 1,
         "_deepnote_index_column": 27496
        },
        {
         "id": 49929,
         "real_name": "Ariana R. Pratt",
         "art_name": "nan",
         "role": "chorist",
         "year_of_birth": 1966,
         "country": "Dominican Republic",
         "city": "Sint-Agatha-Berchem",
         "email": "ultricies.sem@Phasellusdolorelit.com",
         "zip_code": "Y2H 1T7",
         "first_release": 2019,
         "latest_release": 2019,
         "released_albums": 1,
         "_deepnote_index_column": 27497
        },
        {
         "id": 49930,
         "real_name": "Ila Meadows",
         "art_name": "Andorid",
         "role": "poet",
         "year_of_birth": 1994,
         "country": "Djibouti",
         "city": "Pulderbos",
         "email": "ut.erat.Sed@Fuscealiquetmagna.com",
         "zip_code": "5768",
         "first_release": 2010,
         "latest_release": 2016,
         "released_albums": 2,
         "_deepnote_index_column": 27498
        },
        {
         "id": 49931,
         "real_name": "Jin Wilkins",
         "art_name": "nan",
         "role": "guitarist",
         "year_of_birth": 1956,
         "country": "Spain",
         "city": "Salem",
         "email": "in.sodales@loremvehiculaet.ca",
         "zip_code": "08794",
         "first_release": 2001,
         "latest_release": 2007,
         "released_albums": 2,
         "_deepnote_index_column": 27499
        },
        {
         "id": 49933,
         "real_name": "Mechelle Butler",
         "art_name": "nan",
         "role": "violoncellist",
         "year_of_birth": 1962,
         "country": "Barbados",
         "city": "Tranås",
         "email": "velit.Pellentesque.ultricies@posuerecubiliaCurae.net",
         "zip_code": "3747",
         "first_release": 2007,
         "latest_release": 2013,
         "released_albums": 2,
         "_deepnote_index_column": 27500
        },
        {
         "id": 49936,
         "real_name": "Rooney F. Perry",
         "art_name": "Malaysia color",
         "role": "trapper",
         "year_of_birth": 1996,
         "country": "Sweden",
         "city": "Redcliffe",
         "email": "erat.Vivamus@Integeraliquam.org",
         "zip_code": "6341",
         "first_release": 2012,
         "latest_release": 2016,
         "released_albums": 2,
         "_deepnote_index_column": 27501
        },
        {
         "id": 49937,
         "real_name": "Odysseus J. Quinn",
         "art_name": "Pakistan Tetum",
         "role": "poet",
         "year_of_birth": 1969,
         "country": "Angola",
         "city": "Annan",
         "email": "lorem@cursus.edu",
         "zip_code": "79298",
         "first_release": 2015,
         "latest_release": 2015,
         "released_albums": 1,
         "_deepnote_index_column": 27502
        },
        {
         "id": 49943,
         "real_name": "Henry K. Bullock",
         "art_name": "Clarissa Dottore",
         "role": "chorist",
         "year_of_birth": 1965,
         "country": "Australia",
         "city": "Pozo Almonte",
         "email": "Sed@tellus.net",
         "zip_code": "6912",
         "first_release": 2006,
         "latest_release": 2012,
         "released_albums": 2,
         "_deepnote_index_column": 27503
        },
        {
         "id": 49944,
         "real_name": "Ryan Estes",
         "art_name": "Hungry",
         "role": "bassist",
         "year_of_birth": 1981,
         "country": "Romania",
         "city": "Vernon",
         "email": "et.eros.Proin@vel.net",
         "zip_code": "13067",
         "first_release": 2000,
         "latest_release": 2016,
         "released_albums": 4,
         "_deepnote_index_column": 27504
        },
        {
         "id": 49945,
         "real_name": "Alisa Buchanan",
         "art_name": "Lyrica practical",
         "role": "guitarist",
         "year_of_birth": 1986,
         "country": "Vanuatu",
         "city": "Cerreto di Spoleto",
         "email": "semper.et.lacinia@estmollisnon.ca",
         "zip_code": "1194 TM",
         "first_release": 2010,
         "latest_release": 2010,
         "released_albums": 1,
         "_deepnote_index_column": 27505
        },
        {
         "id": 49947,
         "real_name": "Felix Mcmahon",
         "art_name": "Pig Latin support",
         "role": "chorist",
         "year_of_birth": 1966,
         "country": "Egypt",
         "city": "San Isidro de El General",
         "email": "amet.consectetuer.adipiscing@magnaPhasellus.org",
         "zip_code": "60153-569",
         "first_release": 2002,
         "latest_release": 2002,
         "released_albums": 1,
         "_deepnote_index_column": 27506
        },
        {
         "id": 49948,
         "real_name": "Rama Parker",
         "art_name": "Desperate Critical",
         "role": "DJ",
         "year_of_birth": 1983,
         "country": "Malaysia",
         "city": "Gent",
         "email": "ornare.egestas.ligula@lacus.com",
         "zip_code": "23077",
         "first_release": 2005,
         "latest_release": 2014,
         "released_albums": 4,
         "_deepnote_index_column": 27507
        },
        {
         "id": 49952,
         "real_name": "Laura B. Steele",
         "art_name": "nan",
         "role": "bassist",
         "year_of_birth": 1978,
         "country": "Cayman Islands",
         "city": "Rhisnes",
         "email": "ornare.Fusce.mollis@magnaPhasellus.edu",
         "zip_code": "30917-306",
         "first_release": 2001,
         "latest_release": 2016,
         "released_albums": 3,
         "_deepnote_index_column": 27508
        },
        {
         "id": 49953,
         "real_name": "Grant U. Pierce",
         "art_name": "Gambu financial Warfarin",
         "role": "artist",
         "year_of_birth": 1985,
         "country": "Peru",
         "city": "Melipeuco",
         "email": "mi.tempor@diam.ca",
         "zip_code": "9107",
         "first_release": 2010,
         "latest_release": 2010,
         "released_albums": 1,
         "_deepnote_index_column": 27509
        },
        {
         "id": 49956,
         "real_name": "Quon Goodman",
         "art_name": "Mongolia willing Discovery",
         "role": "songwriter",
         "year_of_birth": 1965,
         "country": "Congo (Brazzaville)",
         "city": "Jamnagar",
         "email": "interdum.Curabitur@feugiatnon.ca",
         "zip_code": "0543",
         "first_release": 2001,
         "latest_release": 2013,
         "released_albums": 3,
         "_deepnote_index_column": 27510
        },
        {
         "id": 49959,
         "real_name": "Wing Y. Velez",
         "art_name": "Dirlene Pencil",
         "role": "dancer",
         "year_of_birth": 1975,
         "country": "Seychelles",
         "city": "Susegana",
         "email": "ultrices.posuere@odioa.com",
         "zip_code": "51145",
         "first_release": 2002,
         "latest_release": 2011,
         "released_albums": 4,
         "_deepnote_index_column": 27511
        },
        {
         "id": 49960,
         "real_name": "Grant G. Nguyen",
         "art_name": "Kneel Matter cultural",
         "role": "chorist",
         "year_of_birth": 1993,
         "country": "Virgin Islands British",
         "city": "Appleby",
         "email": "arcu.Vestibulum@nonduinec.org",
         "zip_code": "2006",
         "first_release": 2011,
         "latest_release": 2013,
         "released_albums": 3,
         "_deepnote_index_column": 27512
        },
        {
         "id": 49963,
         "real_name": "Chaney Neal",
         "art_name": "nan",
         "role": "composer",
         "year_of_birth": 1965,
         "country": "Sudan",
         "city": "Cles",
         "email": "massa@mus.ca",
         "zip_code": "17275",
         "first_release": 2000,
         "latest_release": 2011,
         "released_albums": 3,
         "_deepnote_index_column": 27513
        },
        {
         "id": 49966,
         "real_name": "Signe K. Osborn",
         "art_name": "Tots-Fluffy",
         "role": "chorister",
         "year_of_birth": 1955,
         "country": "Djibouti",
         "city": "Kaaskerke",
         "email": "ipsum.nunc@ipsum.net",
         "zip_code": "Y9W 6R0",
         "first_release": 2002,
         "latest_release": 2017,
         "released_albums": 2,
         "_deepnote_index_column": 27514
        },
        {
         "id": 49968,
         "real_name": "Silas M. Cortez",
         "art_name": "Spacearmstrong Tots-Intuitive",
         "role": "artist",
         "year_of_birth": 1998,
         "country": "Switzerland",
         "city": "Aisén",
         "email": "mollis.Phasellus.libero@Nunc.ca",
         "zip_code": "7033",
         "first_release": 2002,
         "latest_release": 2014,
         "released_albums": 6,
         "_deepnote_index_column": 27515
        },
        {
         "id": 49969,
         "real_name": "Barrett Casey",
         "art_name": "nan",
         "role": "violinist",
         "year_of_birth": 1979,
         "country": "Bahrain",
         "city": "Valcourt",
         "email": "pharetra.sed@In.co.uk",
         "zip_code": "7502",
         "first_release": 2000,
         "latest_release": 2019,
         "released_albums": 5,
         "_deepnote_index_column": 27516
        },
        {
         "id": 49970,
         "real_name": "Bethany Baker",
         "art_name": "Miss Allisson",
         "role": "DJ",
         "year_of_birth": 1986,
         "country": "Isle of Man",
         "city": "Tropea",
         "email": "In.at.pede@doloregestasrhoncus.com",
         "zip_code": "5760",
         "first_release": 2018,
         "latest_release": 2018,
         "released_albums": 1,
         "_deepnote_index_column": 27517
        },
        {
         "id": 49971,
         "real_name": "Hector Frost",
         "art_name": "Painting Stair-Rods",
         "role": "drummer",
         "year_of_birth": 1977,
         "country": "Montserrat",
         "city": "Santo Stefano Quisquina",
         "email": "sit.amet.faucibus@montes.edu",
         "zip_code": "898941",
         "first_release": 2005,
         "latest_release": 2019,
         "released_albums": 3,
         "_deepnote_index_column": 27518
        },
        {
         "id": 49972,
         "real_name": "Wynne Morgan",
         "art_name": "nan",
         "role": "artist",
         "year_of_birth": 1995,
         "country": "Congo (Brazzaville)",
         "city": "Cropalati",
         "email": "vel.venenatis@iderat.org",
         "zip_code": "14666",
         "first_release": 2000,
         "latest_release": 2013,
         "released_albums": 3,
         "_deepnote_index_column": 27519
        },
        {
         "id": 49973,
         "real_name": "Phelan Valencia",
         "art_name": "Ugly Chef Olartin",
         "role": "artist",
         "year_of_birth": 1955,
         "country": "Finland",
         "city": "Oristano",
         "email": "purus@lacusQuisquepurus.net",
         "zip_code": "H1P 5K5",
         "first_release": 2002,
         "latest_release": 2018,
         "released_albums": 3,
         "_deepnote_index_column": 27520
        },
        {
         "id": 49976,
         "real_name": "Gisela C. Barr",
         "art_name": "Cooya",
         "role": "soprano",
         "year_of_birth": 1982,
         "country": "Ireland",
         "city": "Stokrooie",
         "email": "In.scelerisque.scelerisque@venenatisamagna.net",
         "zip_code": "G4B 0W8",
         "first_release": 2003,
         "latest_release": 2017,
         "released_albums": 3,
         "_deepnote_index_column": 27521
        },
        {
         "id": 49977,
         "real_name": "Eliana Knapp",
         "art_name": "nan",
         "role": "soprano",
         "year_of_birth": 1976,
         "country": "Netherlands",
         "city": "Codigoro",
         "email": "sit.amet.nulla@dolor.org",
         "zip_code": "457503",
         "first_release": 2014,
         "latest_release": 2014,
         "released_albums": 1,
         "_deepnote_index_column": 27522
        },
        {
         "id": 49978,
         "real_name": "Richard Shelton",
         "art_name": "nan",
         "role": "chorister",
         "year_of_birth": 1991,
         "country": "Denmark",
         "city": "Cawdor",
         "email": "enim.nec.tempus@Aliquamnec.ca",
         "zip_code": "00990",
         "first_release": 2001,
         "latest_release": 2019,
         "released_albums": 4,
         "_deepnote_index_column": 27523
        },
        {
         "id": 49980,
         "real_name": "Hilel Chen",
         "art_name": "Incredible Little Jacks",
         "role": "chorist",
         "year_of_birth": 1966,
         "country": "Israel",
         "city": "Great Yarmouth",
         "email": "nec.imperdiet@ac.ca",
         "zip_code": "20203",
         "first_release": 2002,
         "latest_release": 2018,
         "released_albums": 3,
         "_deepnote_index_column": 27524
        },
        {
         "id": 49982,
         "real_name": "Cedric U. Reilly",
         "art_name": "Hararriet",
         "role": "DJ",
         "year_of_birth": 1962,
         "country": "Pakistan",
         "city": "Port Pirie",
         "email": "luctus@quis.ca",
         "zip_code": "9917",
         "first_release": 2008,
         "latest_release": 2008,
         "released_albums": 1,
         "_deepnote_index_column": 27525
        },
        {
         "id": 49984,
         "real_name": "Rafael Giles",
         "art_name": "nan",
         "role": "female voice",
         "year_of_birth": 1978,
         "country": "Turkey",
         "city": "Ingraj Bazar",
         "email": "in.dolor.Fusce@vitaedolorDonec.net",
         "zip_code": "737159",
         "first_release": 2011,
         "latest_release": 2015,
         "released_albums": 2,
         "_deepnote_index_column": 27526
        },
        {
         "id": 49985,
         "real_name": "Ciara Dickson",
         "art_name": "nan",
         "role": "tenor",
         "year_of_birth": 1979,
         "country": "Cayman Islands",
         "city": "Kieldrecht",
         "email": "Class.aptent@ipsumDonec.org",
         "zip_code": "8523",
         "first_release": 2012,
         "latest_release": 2012,
         "released_albums": 1,
         "_deepnote_index_column": 27527
        },
        {
         "id": 49988,
         "real_name": "Brenna J. Padilla",
         "art_name": "nan",
         "role": "tenor",
         "year_of_birth": 1985,
         "country": "Slovakia",
         "city": "Épinal",
         "email": "sapien.molestie@sem.org",
         "zip_code": "85638",
         "first_release": 2001,
         "latest_release": 2014,
         "released_albums": 4,
         "_deepnote_index_column": 27528
        },
        {
         "id": 49989,
         "real_name": "Rebecca Ferrell",
         "art_name": "Kassandra bless Eliza Indonesia",
         "role": "rapper",
         "year_of_birth": 1977,
         "country": "Belgium",
         "city": "Landshut",
         "email": "elit.pretium@Fuscemollis.co.uk",
         "zip_code": "242557",
         "first_release": 2016,
         "latest_release": 2016,
         "released_albums": 1,
         "_deepnote_index_column": 27529
        },
        {
         "id": 49991,
         "real_name": "Sean Torres",
         "art_name": "nan",
         "role": "composer",
         "year_of_birth": 1998,
         "country": "Spain",
         "city": "Rebecq",
         "email": "eget.magna.Suspendisse@acrisusMorbi.net",
         "zip_code": "40102",
         "first_release": 2000,
         "latest_release": 2006,
         "released_albums": 3,
         "_deepnote_index_column": 27530
        }
       ]
      },
      "text/plain": "          id          real_name                         art_name  \\\n0          1      Kameko Nelson                              NaN   \n1          2      Sacha Cameron          Bianco Ibureno Chloride   \n2          3    Thane E. Oliver                              NaN   \n3          5    Sonia U. Jensen         Asleep lonely Big Morgan   \n4          6      Xanthus Wyatt         Paint of Heart Lorazepam   \n...      ...                ...                              ...   \n27526  49984       Rafael Giles                              NaN   \n27527  49985      Ciara Dickson                              NaN   \n27528  49988  Brenna J. Padilla                              NaN   \n27529  49989    Rebecca Ferrell  Kassandra bless Eliza Indonesia   \n27530  49991        Sean Torres                              NaN   \n\n               role  year_of_birth         country                       city  \\\n0      female voice           1981        Slovenia                     Vedrin   \n1            artist           1955        Guernsey        Montigny-le-Tilleul   \n2            rapper           1993   Guinea-Bissau  Saint-Sébastien-sur-Loire   \n3                DJ           1988         Vanuatu                    Dudzele   \n4            rapper           1989            Niue                  Moradabad   \n...             ...            ...             ...                        ...   \n27526  female voice           1978          Turkey               Ingraj Bazar   \n27527         tenor           1979  Cayman Islands                 Kieldrecht   \n27528         tenor           1985        Slovakia                     Épinal   \n27529        rapper           1977         Belgium                   Landshut   \n27530      composer           1998           Spain                     Rebecq   \n\n                                            email zip_code  first_release  \\\n0      lorem.tristique.aliquet@nonummyFusce.co.uk     6914           2008   \n1                               Sed@elementum.com     0568           2008   \n2            Integer.tincidunt.aliquam@libero.com   813154           2013   \n3                   faucibus@euismodetcommodo.edu    46418           2017   \n4                           enim.Sed.nulla@In.net   514533           2003   \n...                                           ...      ...            ...   \n27526          in.dolor.Fusce@vitaedolorDonec.net   737159           2011   \n27527                 Class.aptent@ipsumDonec.org     8523           2012   \n27528                     sapien.molestie@sem.org    85638           2001   \n27529              elit.pretium@Fuscemollis.co.uk   242557           2016   \n27530     eget.magna.Suspendisse@acrisusMorbi.net    40102           2000   \n\n       latest_release  released_albums  \n0                2008                1  \n1                2008                1  \n2                2013                1  \n3                2018                2  \n4                2013                4  \n...               ...              ...  \n27526            2015                2  \n27527            2012                1  \n27528            2014                4  \n27529            2016                1  \n27530            2006                3  \n\n[27531 rows x 12 columns]",
      "text/html": "<div>\n<style scoped>\n    .dataframe tbody tr th:only-of-type {\n        vertical-align: middle;\n    }\n\n    .dataframe tbody tr th {\n        vertical-align: top;\n    }\n\n    .dataframe thead th {\n        text-align: right;\n    }\n</style>\n<table border=\"1\" class=\"dataframe\">\n  <thead>\n    <tr style=\"text-align: right;\">\n      <th></th>\n      <th>id</th>\n      <th>real_name</th>\n      <th>art_name</th>\n      <th>role</th>\n      <th>year_of_birth</th>\n      <th>country</th>\n      <th>city</th>\n      <th>email</th>\n      <th>zip_code</th>\n      <th>first_release</th>\n      <th>latest_release</th>\n      <th>released_albums</th>\n    </tr>\n  </thead>\n  <tbody>\n    <tr>\n      <th>0</th>\n      <td>1</td>\n      <td>Kameko Nelson</td>\n      <td>NaN</td>\n      <td>female voice</td>\n      <td>1981</td>\n      <td>Slovenia</td>\n      <td>Vedrin</td>\n      <td>lorem.tristique.aliquet@nonummyFusce.co.uk</td>\n      <td>6914</td>\n      <td>2008</td>\n      <td>2008</td>\n      <td>1</td>\n    </tr>\n    <tr>\n      <th>1</th>\n      <td>2</td>\n      <td>Sacha Cameron</td>\n      <td>Bianco Ibureno Chloride</td>\n      <td>artist</td>\n      <td>1955</td>\n      <td>Guernsey</td>\n      <td>Montigny-le-Tilleul</td>\n      <td>Sed@elementum.com</td>\n      <td>0568</td>\n      <td>2008</td>\n      <td>2008</td>\n      <td>1</td>\n    </tr>\n    <tr>\n      <th>2</th>\n      <td>3</td>\n      <td>Thane E. Oliver</td>\n      <td>NaN</td>\n      <td>rapper</td>\n      <td>1993</td>\n      <td>Guinea-Bissau</td>\n      <td>Saint-Sébastien-sur-Loire</td>\n      <td>Integer.tincidunt.aliquam@libero.com</td>\n      <td>813154</td>\n      <td>2013</td>\n      <td>2013</td>\n      <td>1</td>\n    </tr>\n    <tr>\n      <th>3</th>\n      <td>5</td>\n      <td>Sonia U. Jensen</td>\n      <td>Asleep lonely Big Morgan</td>\n      <td>DJ</td>\n      <td>1988</td>\n      <td>Vanuatu</td>\n      <td>Dudzele</td>\n      <td>faucibus@euismodetcommodo.edu</td>\n      <td>46418</td>\n      <td>2017</td>\n      <td>2018</td>\n      <td>2</td>\n    </tr>\n    <tr>\n      <th>4</th>\n      <td>6</td>\n      <td>Xanthus Wyatt</td>\n      <td>Paint of Heart Lorazepam</td>\n      <td>rapper</td>\n      <td>1989</td>\n      <td>Niue</td>\n      <td>Moradabad</td>\n      <td>enim.Sed.nulla@In.net</td>\n      <td>514533</td>\n      <td>2003</td>\n      <td>2013</td>\n      <td>4</td>\n    </tr>\n    <tr>\n      <th>...</th>\n      <td>...</td>\n      <td>...</td>\n      <td>...</td>\n      <td>...</td>\n      <td>...</td>\n      <td>...</td>\n      <td>...</td>\n      <td>...</td>\n      <td>...</td>\n      <td>...</td>\n      <td>...</td>\n      <td>...</td>\n    </tr>\n    <tr>\n      <th>27526</th>\n      <td>49984</td>\n      <td>Rafael Giles</td>\n      <td>NaN</td>\n      <td>female voice</td>\n      <td>1978</td>\n      <td>Turkey</td>\n      <td>Ingraj Bazar</td>\n      <td>in.dolor.Fusce@vitaedolorDonec.net</td>\n      <td>737159</td>\n      <td>2011</td>\n      <td>2015</td>\n      <td>2</td>\n    </tr>\n    <tr>\n      <th>27527</th>\n      <td>49985</td>\n      <td>Ciara Dickson</td>\n      <td>NaN</td>\n      <td>tenor</td>\n      <td>1979</td>\n      <td>Cayman Islands</td>\n      <td>Kieldrecht</td>\n      <td>Class.aptent@ipsumDonec.org</td>\n      <td>8523</td>\n      <td>2012</td>\n      <td>2012</td>\n      <td>1</td>\n    </tr>\n    <tr>\n      <th>27528</th>\n      <td>49988</td>\n      <td>Brenna J. Padilla</td>\n      <td>NaN</td>\n      <td>tenor</td>\n      <td>1985</td>\n      <td>Slovakia</td>\n      <td>Épinal</td>\n      <td>sapien.molestie@sem.org</td>\n      <td>85638</td>\n      <td>2001</td>\n      <td>2014</td>\n      <td>4</td>\n    </tr>\n    <tr>\n      <th>27529</th>\n      <td>49989</td>\n      <td>Rebecca Ferrell</td>\n      <td>Kassandra bless Eliza Indonesia</td>\n      <td>rapper</td>\n      <td>1977</td>\n      <td>Belgium</td>\n      <td>Landshut</td>\n      <td>elit.pretium@Fuscemollis.co.uk</td>\n      <td>242557</td>\n      <td>2016</td>\n      <td>2016</td>\n      <td>1</td>\n    </tr>\n    <tr>\n      <th>27530</th>\n      <td>49991</td>\n      <td>Sean Torres</td>\n      <td>NaN</td>\n      <td>composer</td>\n      <td>1998</td>\n      <td>Spain</td>\n      <td>Rebecq</td>\n      <td>eget.magna.Suspendisse@acrisusMorbi.net</td>\n      <td>40102</td>\n      <td>2000</td>\n      <td>2006</td>\n      <td>3</td>\n    </tr>\n  </tbody>\n</table>\n<p>27531 rows × 12 columns</p>\n</div>"
     },
     "metadata": {}
    }
   ]
  },
  {
   "cell_type": "markdown",
   "source": "## Exercício 4",
   "metadata": {
    "tags": [],
    "is_collapsed": false,
    "cell_id": "00013-b05122c0-b5b6-4f04-9a85-528be5396888",
    "deepnote_cell_type": "text-cell-h2"
   }
  },
  {
   "cell_type": "markdown",
   "source": "Crie um novo DataFrame, contendo apenas artistas cujo ano de nascimento seja após os anos 1995. Quantos artistas se encaixam nessa descrição?",
   "metadata": {
    "tags": [],
    "is_collapsed": false,
    "cell_id": "00014-f3066e25-d1b9-4626-bbcf-6edef56f6adf",
    "deepnote_cell_type": "text-cell-p"
   }
  },
  {
   "cell_type": "code",
   "metadata": {
    "tags": [],
    "cell_id": "00014-d19c71f4-52d3-4dab-bef4-fe108609d8e8",
    "deepnote_to_be_reexecuted": false,
    "source_hash": "9f380ced",
    "execution_start": 1635377517943,
    "execution_millis": 158,
    "deepnote_cell_type": "code"
   },
   "source": "import pandas as pd\ndf_novos_artist=pd.read_csv('artists.csv')\n\ndf_novos_artist[df_novos_artist[\"year_of_birth\"] > 1995].shape\n",
   "execution_count": null,
   "outputs": [
    {
     "output_type": "execute_result",
     "execution_count": 38,
     "data": {
      "text/plain": "(3027, 12)"
     },
     "metadata": {}
    }
   ]
  },
  {
   "cell_type": "markdown",
   "source": "## Exercício 5",
   "metadata": {
    "tags": [],
    "is_collapsed": false,
    "cell_id": "00015-2955dc91-22ba-4975-8cdb-d2d7f843e2ff",
    "deepnote_cell_type": "text-cell-h2"
   }
  },
  {
   "cell_type": "markdown",
   "source": "Crie um novo DataFrame, contendo apenas artistas com 1 álbum lançado, cuja último lançamento seja antes de 2010. Quantos artistas se encaixam nessa descrição?",
   "metadata": {
    "tags": [],
    "is_collapsed": false,
    "cell_id": "00016-4f178a2f-0530-4b5e-8694-0ed3588500e9",
    "deepnote_cell_type": "text-cell-p"
   }
  },
  {
   "cell_type": "code",
   "metadata": {
    "tags": [],
    "cell_id": "00015-2d2407e3-120b-41a3-a32e-724d3ee3ce0f",
    "deepnote_to_be_reexecuted": false,
    "source_hash": "b9680519",
    "execution_start": 1635377630427,
    "execution_millis": 2,
    "deepnote_cell_type": "code"
   },
   "source": "df = artists_df.loc[(artists_df['released_albums'] == 1) & (artists_df['latest_release'] < 2010)]\ndf.shape[0]",
   "execution_count": null,
   "outputs": [
    {
     "output_type": "execute_result",
     "execution_count": 39,
     "data": {
      "text/plain": "4210"
     },
     "metadata": {}
    }
   ]
  },
  {
   "cell_type": "markdown",
   "source": "## Exercício 6",
   "metadata": {
    "tags": [],
    "is_collapsed": false,
    "cell_id": "00018-16cd9fc2-b10a-4a5e-b128-49f23eb99475",
    "deepnote_cell_type": "text-cell-h2"
   }
  },
  {
   "cell_type": "markdown",
   "source": "Ordene sua base de dados por ano de nascimento. Qual o ano dos artistas mais velhos? ",
   "metadata": {
    "tags": [],
    "is_collapsed": false,
    "cell_id": "00019-b532f512-a8e9-418c-abbc-12ce402fa41d",
    "deepnote_cell_type": "text-cell-p"
   }
  },
  {
   "cell_type": "code",
   "metadata": {
    "tags": [],
    "cell_id": "00018-af66de02-df8b-4e9a-b5ad-014a27e6ac86",
    "deepnote_to_be_reexecuted": false,
    "source_hash": "bcfaa18",
    "execution_start": 1635377789484,
    "execution_millis": 21,
    "deepnote_cell_type": "code"
   },
   "source": "artists_df.sort_values(by='year_of_birth', ascending=True).head()",
   "execution_count": null,
   "outputs": [
    {
     "output_type": "execute_result",
     "execution_count": 40,
     "data": {
      "application/vnd.deepnote.dataframe.v2+json": {
       "row_count": 5,
       "column_count": 12,
       "columns": [
        {
         "name": "id",
         "dtype": "int64",
         "stats": {
          "unique_count": 5,
          "nan_count": 0,
          "min": "1418",
          "max": "47078",
          "histogram": [
           {
            "bin_start": 1418,
            "bin_end": 5984,
            "count": 1
           },
           {
            "bin_start": 5984,
            "bin_end": 10550,
            "count": 0
           },
           {
            "bin_start": 10550,
            "bin_end": 15116,
            "count": 0
           },
           {
            "bin_start": 15116,
            "bin_end": 19682,
            "count": 1
           },
           {
            "bin_start": 19682,
            "bin_end": 24248,
            "count": 0
           },
           {
            "bin_start": 24248,
            "bin_end": 28814,
            "count": 1
           },
           {
            "bin_start": 28814,
            "bin_end": 33380,
            "count": 0
           },
           {
            "bin_start": 33380,
            "bin_end": 37946,
            "count": 0
           },
           {
            "bin_start": 37946,
            "bin_end": 42512,
            "count": 1
           },
           {
            "bin_start": 42512,
            "bin_end": 47078,
            "count": 1
           }
          ]
         }
        },
        {
         "name": "real_name",
         "dtype": "object",
         "stats": {
          "unique_count": 5,
          "nan_count": 0,
          "categories": [
           {
            "name": "Colt P. Romero",
            "count": 1
           },
           {
            "name": "Lilah Morris",
            "count": 1
           },
           {
            "name": "3 others",
            "count": 3
           }
          ]
         }
        },
        {
         "name": "art_name",
         "dtype": "object",
         "stats": {
          "unique_count": 5,
          "nan_count": 0,
          "categories": [
           {
            "name": "Significant Vyvanse Believe",
            "count": 1
           },
           {
            "name": "Waterbuck",
            "count": 1
           },
           {
            "name": "3 others",
            "count": 3
           }
          ]
         }
        },
        {
         "name": "role",
         "dtype": "object",
         "stats": {
          "unique_count": 4,
          "nan_count": 0,
          "categories": [
           {
            "name": "singer",
            "count": 2
           },
           {
            "name": "soprano",
            "count": 1
           },
           {
            "name": "2 others",
            "count": 2
           }
          ]
         }
        },
        {
         "name": "year_of_birth",
         "dtype": "int64",
         "stats": {
          "unique_count": 1,
          "nan_count": 0,
          "min": "1955",
          "max": "1955",
          "histogram": [
           {
            "bin_start": 1954.5,
            "bin_end": 1954.6,
            "count": 0
           },
           {
            "bin_start": 1954.6,
            "bin_end": 1954.7,
            "count": 0
           },
           {
            "bin_start": 1954.7,
            "bin_end": 1954.8,
            "count": 0
           },
           {
            "bin_start": 1954.8,
            "bin_end": 1954.9,
            "count": 0
           },
           {
            "bin_start": 1954.9,
            "bin_end": 1955,
            "count": 0
           },
           {
            "bin_start": 1955,
            "bin_end": 1955.1,
            "count": 5
           },
           {
            "bin_start": 1955.1,
            "bin_end": 1955.2,
            "count": 0
           },
           {
            "bin_start": 1955.2,
            "bin_end": 1955.3,
            "count": 0
           },
           {
            "bin_start": 1955.3,
            "bin_end": 1955.4,
            "count": 0
           },
           {
            "bin_start": 1955.4,
            "bin_end": 1955.5,
            "count": 0
           }
          ]
         }
        },
        {
         "name": "country",
         "dtype": "object",
         "stats": {
          "unique_count": 5,
          "nan_count": 0,
          "categories": [
           {
            "name": "Burkina Faso",
            "count": 1
           },
           {
            "name": "Saudi Arabia",
            "count": 1
           },
           {
            "name": "3 others",
            "count": 3
           }
          ]
         }
        },
        {
         "name": "city",
         "dtype": "object",
         "stats": {
          "unique_count": 5,
          "nan_count": 0,
          "categories": [
           {
            "name": "Lens-Saint-Remy",
            "count": 1
           },
           {
            "name": "Thorn",
            "count": 1
           },
           {
            "name": "3 others",
            "count": 3
           }
          ]
         }
        },
        {
         "name": "email",
         "dtype": "object",
         "stats": {
          "unique_count": 5,
          "nan_count": 0,
          "categories": [
           {
            "name": "urna.suscipit@diam.com",
            "count": 1
           },
           {
            "name": "ipsum.Suspendisse@sodalespurus.com",
            "count": 1
           },
           {
            "name": "3 others",
            "count": 3
           }
          ]
         }
        },
        {
         "name": "zip_code",
         "dtype": "object",
         "stats": {
          "unique_count": 5,
          "nan_count": 0,
          "categories": [
           {
            "name": "952737",
            "count": 1
           },
           {
            "name": "8505 SK",
            "count": 1
           },
           {
            "name": "3 others",
            "count": 3
           }
          ]
         }
        },
        {
         "name": "first_release",
         "dtype": "int64",
         "stats": {
          "unique_count": 4,
          "nan_count": 0,
          "min": "2000",
          "max": "2014",
          "histogram": [
           {
            "bin_start": 2000,
            "bin_end": 2001.4,
            "count": 2
           },
           {
            "bin_start": 2001.4,
            "bin_end": 2002.8,
            "count": 1
           },
           {
            "bin_start": 2002.8,
            "bin_end": 2004.2,
            "count": 0
           },
           {
            "bin_start": 2004.2,
            "bin_end": 2005.6,
            "count": 0
           },
           {
            "bin_start": 2005.6,
            "bin_end": 2007,
            "count": 0
           },
           {
            "bin_start": 2007,
            "bin_end": 2008.4,
            "count": 0
           },
           {
            "bin_start": 2008.4,
            "bin_end": 2009.8,
            "count": 0
           },
           {
            "bin_start": 2009.8,
            "bin_end": 2011.2,
            "count": 0
           },
           {
            "bin_start": 2011.2,
            "bin_end": 2012.6,
            "count": 0
           },
           {
            "bin_start": 2012.6,
            "bin_end": 2014,
            "count": 2
           }
          ]
         }
        },
        {
         "name": "latest_release",
         "dtype": "int64",
         "stats": {
          "unique_count": 4,
          "nan_count": 0,
          "min": "2013",
          "max": "2018",
          "histogram": [
           {
            "bin_start": 2013,
            "bin_end": 2013.5,
            "count": 2
           },
           {
            "bin_start": 2013.5,
            "bin_end": 2014,
            "count": 0
           },
           {
            "bin_start": 2014,
            "bin_end": 2014.5,
            "count": 1
           },
           {
            "bin_start": 2014.5,
            "bin_end": 2015,
            "count": 0
           },
           {
            "bin_start": 2015,
            "bin_end": 2015.5,
            "count": 0
           },
           {
            "bin_start": 2015.5,
            "bin_end": 2016,
            "count": 0
           },
           {
            "bin_start": 2016,
            "bin_end": 2016.5,
            "count": 1
           },
           {
            "bin_start": 2016.5,
            "bin_end": 2017,
            "count": 0
           },
           {
            "bin_start": 2017,
            "bin_end": 2017.5,
            "count": 0
           },
           {
            "bin_start": 2017.5,
            "bin_end": 2018,
            "count": 1
           }
          ]
         }
        },
        {
         "name": "released_albums",
         "dtype": "int64",
         "stats": {
          "unique_count": 4,
          "nan_count": 0,
          "min": "1",
          "max": "4",
          "histogram": [
           {
            "bin_start": 1,
            "bin_end": 1.3,
            "count": 2
           },
           {
            "bin_start": 1.3,
            "bin_end": 1.6,
            "count": 0
           },
           {
            "bin_start": 1.6,
            "bin_end": 1.9,
            "count": 0
           },
           {
            "bin_start": 1.9,
            "bin_end": 2.2,
            "count": 1
           },
           {
            "bin_start": 2.2,
            "bin_end": 2.5,
            "count": 0
           },
           {
            "bin_start": 2.5,
            "bin_end": 2.8,
            "count": 0
           },
           {
            "bin_start": 2.8,
            "bin_end": 3.1,
            "count": 1
           },
           {
            "bin_start": 3.1,
            "bin_end": 3.4,
            "count": 0
           },
           {
            "bin_start": 3.4,
            "bin_end": 3.6999999999999997,
            "count": 0
           },
           {
            "bin_start": 3.6999999999999997,
            "bin_end": 4,
            "count": 1
           }
          ]
         }
        },
        {
         "name": "_deepnote_index_column",
         "dtype": "int64"
        }
       ],
       "rows_top": [
        {
         "id": 18656,
         "real_name": "Colt P. Romero",
         "art_name": "Significant Vyvanse Believe",
         "role": "soprano",
         "year_of_birth": 1955,
         "country": "Burkina Faso",
         "city": "Lens-Saint-Remy",
         "email": "urna.suscipit@diam.com",
         "zip_code": "952737",
         "first_release": 2013,
         "latest_release": 2013,
         "released_albums": 1,
         "_deepnote_index_column": 10350
        },
        {
         "id": 40289,
         "real_name": "Lilah Morris",
         "art_name": "Waterbuck",
         "role": "band member",
         "year_of_birth": 1955,
         "country": "Saudi Arabia",
         "city": "Thorn",
         "email": "ipsum.Suspendisse@sodalespurus.com",
         "zip_code": "8505 SK",
         "first_release": 2014,
         "latest_release": 2014,
         "released_albums": 1,
         "_deepnote_index_column": 22227
        },
        {
         "id": 26284,
         "real_name": "Fredericka C. Sykes",
         "art_name": "Zackary",
         "role": "singer",
         "year_of_birth": 1955,
         "country": "Maldives",
         "city": "PiŽtrain",
         "email": "nisl@malesuadaaugueut.edu",
         "zip_code": "EW2 1ZK",
         "first_release": 2000,
         "latest_release": 2013,
         "released_albums": 3,
         "_deepnote_index_column": 14607
        },
        {
         "id": 1418,
         "real_name": "Lane N. Ferrell",
         "art_name": "Ponfo scarce Toad",
         "role": "singer",
         "year_of_birth": 1955,
         "country": "Senegal",
         "city": "Barahanagar",
         "email": "amet.luctus.vulputate@volutpatornare.com",
         "zip_code": "WX3R 7BD",
         "first_release": 2000,
         "latest_release": 2016,
         "released_albums": 4,
         "_deepnote_index_column": 803
        },
        {
         "id": 47078,
         "real_name": "Cheyenne Ayers",
         "art_name": "Complete Jewel boring",
         "role": "rapper",
         "year_of_birth": 1955,
         "country": "South Sudan",
         "city": "Westport",
         "email": "a@Sed.edu",
         "zip_code": "763924",
         "first_release": 2002,
         "latest_release": 2018,
         "released_albums": 2,
         "_deepnote_index_column": 25894
        }
       ],
       "rows_bottom": null
      },
      "text/plain": "          id            real_name                     art_name         role  \\\n10350  18656       Colt P. Romero  Significant Vyvanse Believe      soprano   \n22227  40289         Lilah Morris                    Waterbuck  band member   \n14607  26284  Fredericka C. Sykes                      Zackary       singer   \n803     1418      Lane N. Ferrell            Ponfo scarce Toad       singer   \n25894  47078       Cheyenne Ayers        Complete Jewel boring       rapper   \n\n       year_of_birth       country             city  \\\n10350           1955  Burkina Faso  Lens-Saint-Remy   \n22227           1955  Saudi Arabia            Thorn   \n14607           1955      Maldives         PiŽtrain   \n803             1955       Senegal      Barahanagar   \n25894           1955   South Sudan         Westport   \n\n                                          email  zip_code  first_release  \\\n10350                    urna.suscipit@diam.com    952737           2013   \n22227        ipsum.Suspendisse@sodalespurus.com   8505 SK           2014   \n14607                 nisl@malesuadaaugueut.edu   EW2 1ZK           2000   \n803    amet.luctus.vulputate@volutpatornare.com  WX3R 7BD           2000   \n25894                                 a@Sed.edu    763924           2002   \n\n       latest_release  released_albums  \n10350            2013                1  \n22227            2014                1  \n14607            2013                3  \n803              2016                4  \n25894            2018                2  ",
      "text/html": "<div>\n<style scoped>\n    .dataframe tbody tr th:only-of-type {\n        vertical-align: middle;\n    }\n\n    .dataframe tbody tr th {\n        vertical-align: top;\n    }\n\n    .dataframe thead th {\n        text-align: right;\n    }\n</style>\n<table border=\"1\" class=\"dataframe\">\n  <thead>\n    <tr style=\"text-align: right;\">\n      <th></th>\n      <th>id</th>\n      <th>real_name</th>\n      <th>art_name</th>\n      <th>role</th>\n      <th>year_of_birth</th>\n      <th>country</th>\n      <th>city</th>\n      <th>email</th>\n      <th>zip_code</th>\n      <th>first_release</th>\n      <th>latest_release</th>\n      <th>released_albums</th>\n    </tr>\n  </thead>\n  <tbody>\n    <tr>\n      <th>10350</th>\n      <td>18656</td>\n      <td>Colt P. Romero</td>\n      <td>Significant Vyvanse Believe</td>\n      <td>soprano</td>\n      <td>1955</td>\n      <td>Burkina Faso</td>\n      <td>Lens-Saint-Remy</td>\n      <td>urna.suscipit@diam.com</td>\n      <td>952737</td>\n      <td>2013</td>\n      <td>2013</td>\n      <td>1</td>\n    </tr>\n    <tr>\n      <th>22227</th>\n      <td>40289</td>\n      <td>Lilah Morris</td>\n      <td>Waterbuck</td>\n      <td>band member</td>\n      <td>1955</td>\n      <td>Saudi Arabia</td>\n      <td>Thorn</td>\n      <td>ipsum.Suspendisse@sodalespurus.com</td>\n      <td>8505 SK</td>\n      <td>2014</td>\n      <td>2014</td>\n      <td>1</td>\n    </tr>\n    <tr>\n      <th>14607</th>\n      <td>26284</td>\n      <td>Fredericka C. Sykes</td>\n      <td>Zackary</td>\n      <td>singer</td>\n      <td>1955</td>\n      <td>Maldives</td>\n      <td>PiŽtrain</td>\n      <td>nisl@malesuadaaugueut.edu</td>\n      <td>EW2 1ZK</td>\n      <td>2000</td>\n      <td>2013</td>\n      <td>3</td>\n    </tr>\n    <tr>\n      <th>803</th>\n      <td>1418</td>\n      <td>Lane N. Ferrell</td>\n      <td>Ponfo scarce Toad</td>\n      <td>singer</td>\n      <td>1955</td>\n      <td>Senegal</td>\n      <td>Barahanagar</td>\n      <td>amet.luctus.vulputate@volutpatornare.com</td>\n      <td>WX3R 7BD</td>\n      <td>2000</td>\n      <td>2016</td>\n      <td>4</td>\n    </tr>\n    <tr>\n      <th>25894</th>\n      <td>47078</td>\n      <td>Cheyenne Ayers</td>\n      <td>Complete Jewel boring</td>\n      <td>rapper</td>\n      <td>1955</td>\n      <td>South Sudan</td>\n      <td>Westport</td>\n      <td>a@Sed.edu</td>\n      <td>763924</td>\n      <td>2002</td>\n      <td>2018</td>\n      <td>2</td>\n    </tr>\n  </tbody>\n</table>\n</div>"
     },
     "metadata": {}
    }
   ]
  },
  {
   "cell_type": "markdown",
   "source": "## Exercício 7",
   "metadata": {
    "tags": [],
    "is_collapsed": false,
    "cell_id": "00021-25ebe542-a260-4602-9a38-a5d139abf398",
    "deepnote_cell_type": "text-cell-h2"
   }
  },
  {
   "cell_type": "markdown",
   "source": "Agrupe sua base de dados por função (role). Qual a função com menos artistas? ",
   "metadata": {
    "tags": [],
    "is_collapsed": false,
    "cell_id": "00022-32f88982-414b-485f-9c8d-d26f37a1b3d5",
    "deepnote_cell_type": "text-cell-p"
   }
  },
  {
   "cell_type": "code",
   "metadata": {
    "tags": [],
    "cell_id": "00021-206bb4dc-c903-40f5-b9ce-cf0df3f0f8a6",
    "deepnote_to_be_reexecuted": false,
    "source_hash": "7aae2b05",
    "execution_start": 1635377995347,
    "execution_millis": 1,
    "deepnote_cell_type": "code"
   },
   "source": "artists_df.groupby(['role']).agg({'id':'count'}).sort_values(by='id').head()",
   "execution_count": null,
   "outputs": [
    {
     "output_type": "execute_result",
     "execution_count": 41,
     "data": {
      "application/vnd.deepnote.dataframe.v2+json": {
       "row_count": 5,
       "column_count": 1,
       "columns": [
        {
         "name": "id",
         "dtype": "int64",
         "stats": {
          "unique_count": 5,
          "nan_count": 0,
          "min": "842",
          "max": "855",
          "histogram": [
           {
            "bin_start": 842,
            "bin_end": 843.3,
            "count": 1
           },
           {
            "bin_start": 843.3,
            "bin_end": 844.6,
            "count": 0
           },
           {
            "bin_start": 844.6,
            "bin_end": 845.9,
            "count": 0
           },
           {
            "bin_start": 845.9,
            "bin_end": 847.2,
            "count": 2
           },
           {
            "bin_start": 847.2,
            "bin_end": 848.5,
            "count": 1
           },
           {
            "bin_start": 848.5,
            "bin_end": 849.8,
            "count": 0
           },
           {
            "bin_start": 849.8,
            "bin_end": 851.1,
            "count": 0
           },
           {
            "bin_start": 851.1,
            "bin_end": 852.4,
            "count": 0
           },
           {
            "bin_start": 852.4,
            "bin_end": 853.7,
            "count": 0
           },
           {
            "bin_start": 853.7,
            "bin_end": 855,
            "count": 1
           }
          ]
         }
        },
        {
         "name": "_deepnote_index_column",
         "dtype": "object"
        }
       ],
       "rows_top": [
        {
         "id": 842,
         "_deepnote_index_column": "trapper"
        },
        {
         "id": 846,
         "_deepnote_index_column": "poet"
        },
        {
         "id": 847,
         "_deepnote_index_column": "composer"
        },
        {
         "id": 848,
         "_deepnote_index_column": "bassist"
        },
        {
         "id": 855,
         "_deepnote_index_column": "pianist"
        }
       ],
       "rows_bottom": null
      },
      "text/plain": "           id\nrole         \ntrapper   842\npoet      846\ncomposer  847\nbassist   848\npianist   855",
      "text/html": "<div>\n<style scoped>\n    .dataframe tbody tr th:only-of-type {\n        vertical-align: middle;\n    }\n\n    .dataframe tbody tr th {\n        vertical-align: top;\n    }\n\n    .dataframe thead th {\n        text-align: right;\n    }\n</style>\n<table border=\"1\" class=\"dataframe\">\n  <thead>\n    <tr style=\"text-align: right;\">\n      <th></th>\n      <th>id</th>\n    </tr>\n    <tr>\n      <th>role</th>\n      <th></th>\n    </tr>\n  </thead>\n  <tbody>\n    <tr>\n      <th>trapper</th>\n      <td>842</td>\n    </tr>\n    <tr>\n      <th>poet</th>\n      <td>846</td>\n    </tr>\n    <tr>\n      <th>composer</th>\n      <td>847</td>\n    </tr>\n    <tr>\n      <th>bassist</th>\n      <td>848</td>\n    </tr>\n    <tr>\n      <th>pianist</th>\n      <td>855</td>\n    </tr>\n  </tbody>\n</table>\n</div>"
     },
     "metadata": {}
    }
   ]
  },
  {
   "cell_type": "markdown",
   "source": "<a style='text-decoration:none;line-height:16px;display:flex;color:#5B5B62;padding:10px;justify-content:end;' href='https://deepnote.com?utm_source=created-in-deepnote-cell&projectId=d969c721-cae7-4ea8-9f48-e4064058d9e5' target=\"_blank\">\n<img alt='Created in deepnote.com' style='display:inline;max-height:16px;margin:0px;margin-right:7.5px;' src='data:image/svg+xml;base64,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' > </img>\nCreated in <span style='font-weight:600;margin-left:4px;'>Deepnote</span></a>",
   "metadata": {
    "tags": [],
    "created_in_deepnote_cell": true,
    "deepnote_cell_type": "markdown"
   }
  }
 ],
 "nbformat": 4,
 "nbformat_minor": 2,
 "metadata": {
  "orig_nbformat": 2,
  "deepnote": {
   "is_reactive": false
  },
  "deepnote_notebook_id": "afa4eda9-42aa-4843-965e-b3793d5e9082",
  "deepnote_execution_queue": []
 }
}
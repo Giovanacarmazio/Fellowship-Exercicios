{
 "cells": [
  {
   "cell_type": "markdown",
   "source": "",
   "metadata": {
    "tags": [],
    "cell_id": "00000-d4e28303-0ef7-44f9-991c-d90f410bcc2a",
    "deepnote_cell_type": "markdown"
   }
  },
  {
   "cell_type": "markdown",
   "source": "<div>\n    <p style=\"float: right;\"><img src=\"https://media.swipepages.com/2021/2/sirius-logo-principal-tag-1-300.png\" height=\"80px\"border=\"1px\"></p>\n    \n</div>\n<h1>Nano Desafio 3 </h1>\n<h2> Exercícios de IF, FOR e While </h2>\n\nAluno: Giovana Carmazio\n\nData: 18/10/2021\n",
   "metadata": {
    "tags": [],
    "cell_id": "00001-e5471c54-9d2e-4d7d-9e07-83364509e931",
    "deepnote_cell_type": "markdown"
   }
  },
  {
   "cell_type": "markdown",
   "source": "### Exercício 1",
   "metadata": {
    "tags": [],
    "cell_id": "00002-c9c5a900-328b-499e-8b89-7bb5dd64b456",
    "deepnote_cell_type": "markdown"
   }
  },
  {
   "cell_type": "code",
   "metadata": {
    "tags": [],
    "cell_id": "00000-491c6e01-0497-43c0-a0c4-b37c4477f639",
    "deepnote_to_be_reexecuted": false,
    "source_hash": "a1554a9a",
    "execution_start": 1634598831034,
    "execution_millis": 13,
    "deepnote_cell_type": "code"
   },
   "source": "# Complete o código abaixo para verificar se a idade armazenada na variável idade tem o valor maior ou igual a 18 anos.\n\nidade = 21\n\nif ...:\n    print(\"O usuário é maior de idade\")",
   "execution_count": null,
   "outputs": [
    {
     "name": "stdout",
     "text": "O usuário é maior de idade\n",
     "output_type": "stream"
    }
   ]
  },
  {
   "cell_type": "code",
   "metadata": {
    "tags": [],
    "cell_id": "00004-5e039a51-da20-4b29-b81c-52c3427a5424",
    "deepnote_to_be_reexecuted": false,
    "source_hash": "e88574f0",
    "execution_start": 1634598831051,
    "execution_millis": 9,
    "deepnote_cell_type": "code"
   },
   "source": "\nidade = 18\n\nif idade >= 18:\n    print(\"A pessoa é maior de idade\")",
   "execution_count": null,
   "outputs": [
    {
     "name": "stdout",
     "text": "A pessoa é maior de idade\n",
     "output_type": "stream"
    }
   ]
  },
  {
   "cell_type": "markdown",
   "source": "Para os demais exercícios iremos utilizar a função INPUT da linguagem python. O método INPUT permite interagir com os usuários para obter dados.\nVocê deve declarar uma variável para receber o valor digitado pelo usuário. por padrão, os valores obtidos através do método input serão do tipo STRING.",
   "metadata": {
    "tags": [],
    "cell_id": "00005-37a2c26e-0636-4b33-8de3-dc03fd6dc13e",
    "deepnote_cell_type": "markdown"
   }
  },
  {
   "cell_type": "code",
   "metadata": {
    "tags": [],
    "cell_id": "00007-b32af9ed-3e72-416b-a83f-ed03a97e61a4",
    "deepnote_to_be_reexecuted": false,
    "source_hash": "467f9f14",
    "execution_start": 1634598962592,
    "execution_millis": 6054,
    "deepnote_cell_type": "code"
   },
   "source": "name = input(\"Wat's your name?\")\nprint(name)",
   "execution_count": null,
   "outputs": [
    {
     "name": "stdout",
     "text": "gi\n",
     "output_type": "stream"
    }
   ]
  },
  {
   "cell_type": "markdown",
   "source": "Caso você precise utilizar a entrada do usuário com um tipo diferente de STRING, a conversão é feita como no exemplo abaixo:",
   "metadata": {
    "tags": [],
    "cell_id": "00008-0f4c9dab-f218-4840-83ae-92c77ed53b07",
    "deepnote_cell_type": "markdown"
   }
  },
  {
   "cell_type": "code",
   "metadata": {
    "tags": [],
    "cell_id": "00010-dfe60bd9-7543-401b-9e84-280c19cc9984",
    "deepnote_to_be_reexecuted": false,
    "source_hash": "988b2b",
    "execution_start": 1634598973515,
    "execution_millis": 3000,
    "deepnote_cell_type": "code"
   },
   "source": "numero = int(input(\"Digite um número:\"))\nmultiplicacao = numero*2\n\nprint(f\"o dobro de {numero} é {multiplicacao}\")",
   "execution_count": null,
   "outputs": [
    {
     "name": "stdout",
     "text": "o dobro de 12 é 24\n",
     "output_type": "stream"
    }
   ]
  },
  {
   "cell_type": "markdown",
   "source": "### Exercício 2",
   "metadata": {
    "tags": [],
    "is_collapsed": false,
    "cell_id": "00005-7dd31155-bec4-4c8c-b498-110ef44a02be",
    "deepnote_cell_type": "text-cell-h3"
   }
  },
  {
   "cell_type": "markdown",
   "source": "Pergunte ao usuário qual a sua idade e caso a idade seja menor que 18 anos imprima na tela \"Usuário menor de idade\".\nCaso a idade seja maior ou igual, imprima \"Usuário maior de idade\"",
   "metadata": {
    "tags": [],
    "cell_id": "00009-2d5fbab3-6b70-4a16-a773-c32b77d45603",
    "deepnote_cell_type": "markdown"
   }
  },
  {
   "cell_type": "code",
   "metadata": {
    "tags": [],
    "cell_id": "00014-538ecc50-abc9-4d57-9ef5-6692584f8e60",
    "deepnote_to_be_reexecuted": false,
    "source_hash": "56a170d9",
    "execution_start": 1634599034151,
    "execution_millis": 3657,
    "deepnote_cell_type": "code"
   },
   "source": "idade = int(input(\"Qual a sua idade?\"))\n\nif(idade <= 18):\n    print(\"usuário menor de idade\")\nelse:\n     print(\"Usuario maior de idade\")\n   ",
   "execution_count": null,
   "outputs": [
    {
     "name": "stdout",
     "text": "Usuario maior de idade\n",
     "output_type": "stream"
    }
   ]
  },
  {
   "cell_type": "markdown",
   "source": "### Exercício 3",
   "metadata": {
    "tags": [],
    "cell_id": "00010-145e6c5e-17b0-401f-94a9-6f5b5b996670",
    "deepnote_cell_type": "markdown"
   }
  },
  {
   "cell_type": "markdown",
   "source": "Peça 2 números para o usuário. em seguida imprima o maior deles",
   "metadata": {
    "tags": [],
    "cell_id": "00011-c3f85835-0840-4614-b943-5e216b791a91",
    "deepnote_cell_type": "markdown"
   }
  },
  {
   "cell_type": "code",
   "metadata": {
    "tags": [],
    "cell_id": "00012-ff300f23-0c88-4d21-8db4-d9f37e712388",
    "deepnote_to_be_reexecuted": false,
    "source_hash": "7f29f679",
    "execution_start": 1634599070222,
    "execution_millis": 4988,
    "deepnote_cell_type": "code"
   },
   "source": "n1 = int(input(\"digite o um número\"))\nn2 = int(input(\"digite outro número\"))\n\nif(n1 > n2):\n    print(\"O primeiro número é maior\")\nelif(n2 > n1):\n    print(\"O segundo número é maior\")\nelse:\n    print(\"Os números são iguais\")",
   "execution_count": null,
   "outputs": [
    {
     "name": "stdout",
     "text": "O segundo número é maior\n",
     "output_type": "stream"
    }
   ]
  },
  {
   "cell_type": "markdown",
   "source": "### Exercício 4",
   "metadata": {
    "tags": [],
    "cell_id": "00012-4a0ad0f8-fa42-415b-a9dc-812c1dd5889c",
    "deepnote_cell_type": "markdown"
   }
  },
  {
   "cell_type": "markdown",
   "source": "Peça ao usuário 3 idedes distintas ao usuário, em seguida, imprima a idade mais velha e a mais nova",
   "metadata": {
    "tags": [],
    "cell_id": "00014-ba590d84-fe1c-45a9-9415-d2362f10dba9",
    "deepnote_cell_type": "markdown"
   }
  },
  {
   "cell_type": "code",
   "metadata": {
    "tags": [],
    "cell_id": "00016-2d739eeb-ced4-486c-8cc6-c59c91fa6d3c",
    "deepnote_to_be_reexecuted": false,
    "source_hash": "fa3a34a7",
    "execution_start": 1634599079090,
    "execution_millis": 6866,
    "deepnote_cell_type": "code"
   },
   "source": "num1 = int(input(\"digite um numero\"))\nnum2 = int(input(\"digite outro numero\"))\nnum3 = int(input(\"digite outro numero\"))\n\nif(num1 > num2 and num1 > num3):\n    print(\"O primeiro número é maior\")\nelif(num2 > num1 and num2 > num3):\n    print(\"O segundo número é maior\")\nelif(num3 > num1 and numero_3 > num2):\n    print(\"O terceiro número é maior\")\nelse:\n    print(\"Os números são iguais\")",
   "execution_count": null,
   "outputs": [
    {
     "name": "stdout",
     "text": "O primeiro número é maior\n",
     "output_type": "stream"
    }
   ]
  },
  {
   "cell_type": "markdown",
   "source": "### Exercício 5",
   "metadata": {
    "tags": [],
    "cell_id": "00016-f695a68e-b671-4dff-94a6-7286a88056b8",
    "deepnote_cell_type": "markdown"
   }
  },
  {
   "cell_type": "markdown",
   "source": "Peça ao usuário um número, em seguida, imprima se o número é impar ou par",
   "metadata": {
    "tags": [],
    "cell_id": "00017-7f716231-4a29-4bbf-bba1-685a2bccfed1",
    "deepnote_cell_type": "markdown"
   }
  },
  {
   "cell_type": "code",
   "metadata": {
    "tags": [],
    "cell_id": "00023-6e115111-dedb-4aed-aae9-ca1b4571937e",
    "deepnote_to_be_reexecuted": false,
    "source_hash": "3037f7c4",
    "execution_start": 1634599099228,
    "execution_millis": 2245,
    "deepnote_cell_type": "code"
   },
   "source": "n = int(input('Digite um número: '))\nif (n%2) == 0:\n    print(f'{n} é um número par.')\nelse:\n    print(f'{n} é um número ímpar.')",
   "execution_count": null,
   "outputs": [
    {
     "name": "stdout",
     "text": "1 é um número ímpar.\n",
     "output_type": "stream"
    }
   ]
  },
  {
   "cell_type": "markdown",
   "source": "### Exercício 6",
   "metadata": {
    "tags": [],
    "cell_id": "00019-0e4c309d-c2b5-4ddd-b7ce-460bf44c7b87",
    "deepnote_cell_type": "markdown"
   }
  },
  {
   "cell_type": "markdown",
   "source": "Dada a variável palavra abaixo, imprima cada letra separadamente",
   "metadata": {
    "tags": [],
    "cell_id": "00020-4567f3b0-f5dc-457b-a15a-d05c1c79ec93",
    "deepnote_cell_type": "markdown"
   }
  },
  {
   "cell_type": "code",
   "metadata": {
    "tags": [],
    "cell_id": "00027-63589f58-6823-48ca-9045-47608204c5a3",
    "deepnote_to_be_reexecuted": false,
    "source_hash": "79fc9cdb",
    "execution_start": 1634599116618,
    "execution_millis": 5,
    "deepnote_cell_type": "code"
   },
   "source": "x1 = \"PYTHON\"\n\nfor letra in x1:\n    print(letra)",
   "execution_count": null,
   "outputs": [
    {
     "name": "stdout",
     "text": "P\nY\nT\nH\nO\nN\n",
     "output_type": "stream"
    }
   ]
  },
  {
   "cell_type": "markdown",
   "source": "### Exercício 7",
   "metadata": {
    "tags": [],
    "cell_id": "00022-dcc1c398-a7f1-4a54-8d7e-2814122a2820",
    "deepnote_cell_type": "markdown"
   }
  },
  {
   "cell_type": "markdown",
   "source": "Imprima números de 0 a 20 na sequência",
   "metadata": {
    "tags": [],
    "cell_id": "00023-8e966924-08a5-4da0-946d-f320b19222d2",
    "deepnote_cell_type": "markdown"
   }
  },
  {
   "cell_type": "code",
   "metadata": {
    "tags": [],
    "cell_id": "00030-ee52aee7-e282-4917-976e-240063c2dd70",
    "deepnote_to_be_reexecuted": false,
    "source_hash": "8d4f3bfc",
    "execution_start": 1634599121806,
    "execution_millis": 13,
    "deepnote_cell_type": "code"
   },
   "source": "list(range(21))",
   "execution_count": null,
   "outputs": [
    {
     "output_type": "execute_result",
     "execution_count": 19,
     "data": {
      "text/plain": "[0, 1, 2, 3, 4, 5, 6, 7, 8, 9, 10, 11, 12, 13, 14, 15, 16, 17, 18, 19, 20]"
     },
     "metadata": {}
    }
   ]
  },
  {
   "cell_type": "code",
   "metadata": {
    "tags": [],
    "cell_id": "00024-1ca88aae-acc1-4c36-b104-243c11c6efda",
    "deepnote_to_be_reexecuted": false,
    "source_hash": "c4d735ce",
    "execution_start": 1634599155760,
    "execution_millis": 3,
    "deepnote_cell_type": "code"
   },
   "source": "#Dada a lista abaixo, calcule a quantidade de números pares:",
   "execution_count": null,
   "outputs": []
  },
  {
   "cell_type": "code",
   "metadata": {
    "tags": [],
    "cell_id": "00025-f793c961-5de2-4649-bf04-1cfedeea3f74",
    "deepnote_to_be_reexecuted": false,
    "source_hash": "f94ae852",
    "execution_start": 1634599165432,
    "execution_millis": 1,
    "deepnote_cell_type": "code"
   },
   "source": "#lista = [0,2,7,12,98,222,567,1098]\n",
   "execution_count": null,
   "outputs": []
  },
  {
   "cell_type": "code",
   "metadata": {
    "tags": [],
    "cell_id": "00031-794112d7-178c-414e-b852-7e32077596de",
    "deepnote_to_be_reexecuted": false,
    "source_hash": "b2b99ba6",
    "execution_start": 1634599168300,
    "execution_millis": 8,
    "deepnote_cell_type": "code"
   },
   "source": "lista1 = [0,2,7,12,98,222,567,1098]\nlista2 = []\nfor valor in lista1:\n    if valor % 2 == 0:\n        lista2.append(valor)\n\nprint(lista2)\nprint(len(lista2))",
   "execution_count": null,
   "outputs": [
    {
     "name": "stdout",
     "text": "[0, 2, 12, 98, 222, 1098]\n6\n",
     "output_type": "stream"
    }
   ]
  },
  {
   "cell_type": "markdown",
   "source": "Dada a lista abaixo, calcule a soma dos números ímpares:",
   "metadata": {
    "tags": [],
    "cell_id": "00026-f78114f3-12cd-46e6-ade3-851e4e781389",
    "deepnote_cell_type": "markdown"
   }
  },
  {
   "cell_type": "code",
   "metadata": {
    "tags": [],
    "cell_id": "00027-b5c476ef-f20a-40da-bf55-671fa5a05a41",
    "deepnote_to_be_reexecuted": false,
    "source_hash": "8a72f22d",
    "execution_start": 1634599173115,
    "execution_millis": 1,
    "deepnote_cell_type": "code"
   },
   "source": "lista = [0,2,7,12,98,222,567,1098]",
   "execution_count": null,
   "outputs": []
  },
  {
   "cell_type": "code",
   "metadata": {
    "tags": [],
    "cell_id": "00034-00576e26-09d0-442f-bdb1-25586be80f8a",
    "deepnote_to_be_reexecuted": false,
    "source_hash": "62b4dd15",
    "execution_start": 1634599178913,
    "execution_millis": 5,
    "deepnote_cell_type": "code"
   },
   "source": "lista = [0,2,7,12,98,222,567,1098]\n\nsoma = 0 \nfor numero in lista:\n    if(numero%2 == 1):\n        soma+=numero\n    \nprint(soma)",
   "execution_count": null,
   "outputs": [
    {
     "name": "stdout",
     "text": "574\n",
     "output_type": "stream"
    }
   ]
  },
  {
   "cell_type": "markdown",
   "source": "### Exercício 8",
   "metadata": {
    "tags": [],
    "cell_id": "00028-285aa97b-af4e-4e7d-add1-d98a6f3129f5",
    "deepnote_to_be_reexecuted": false,
    "source_hash": "496370fa",
    "execution_start": 1630464944436,
    "execution_millis": 0,
    "deepnote_cell_type": "markdown"
   }
  },
  {
   "cell_type": "markdown",
   "source": "Utilizando WHILE, imprima os números de 0 a 10",
   "metadata": {
    "tags": [],
    "cell_id": "00029-abf9f803-7989-41cf-a3f6-15cdadf390bf",
    "deepnote_to_be_reexecuted": false,
    "source_hash": "3096edf6",
    "execution_start": 1630464999279,
    "execution_millis": 8,
    "deepnote_cell_type": "markdown"
   }
  },
  {
   "cell_type": "code",
   "metadata": {
    "tags": [],
    "cell_id": "00030-72cef590-ee15-4677-9437-117c536127d0",
    "deepnote_to_be_reexecuted": false,
    "source_hash": "70a1920d",
    "execution_start": 1634599186224,
    "execution_millis": 6,
    "deepnote_cell_type": "code"
   },
   "source": "x = 0\nwhile x < 11:\n\tprint(x)\n\tx = x + 1",
   "execution_count": null,
   "outputs": [
    {
     "name": "stdout",
     "text": "0\n1\n2\n3\n4\n5\n6\n7\n8\n9\n10\n",
     "output_type": "stream"
    }
   ]
  },
  {
   "cell_type": "markdown",
   "source": "Dada a palavra abaixo armazenada na variável palavra, peça ao usuário para tentar acertar qual é a palavra em 5 tentativas. Caso o usuário erre, deve-se retirar uma tentativa e perguntar novamente mostrando o número de tentativas restantes. Caso estas tentativas zerem, o programa deve ser encerrado com uma mensagem negativa, caso o usuário acerte, uma mensagem de parabéns deve aparecer e o programa deve ser encerrado.",
   "metadata": {
    "tags": [],
    "cell_id": "00032-56cb8431-36dd-4a38-8265-4f3eef95a2ed",
    "deepnote_to_be_reexecuted": false,
    "source_hash": "11cac883",
    "execution_start": 1630465941535,
    "execution_millis": 7,
    "deepnote_cell_type": "markdown"
   }
  },
  {
   "cell_type": "code",
   "metadata": {
    "tags": [],
    "cell_id": "00033-f3631257-fc0a-4e56-ae92-d79c8f947961",
    "deepnote_to_be_reexecuted": false,
    "source_hash": "74deae11",
    "execution_start": 1634599220147,
    "execution_millis": 0,
    "deepnote_cell_type": "code"
   },
   "source": "#palavra = \"banana\"\n",
   "execution_count": null,
   "outputs": []
  },
  {
   "cell_type": "code",
   "metadata": {
    "tags": [],
    "cell_id": "00040-cbcecdff-a909-4bc9-80c1-ad1f63f3780b",
    "deepnote_to_be_reexecuted": false,
    "source_hash": "5f6d97e6",
    "execution_start": 1634599197165,
    "execution_millis": 17722,
    "deepnote_cell_type": "code"
   },
   "source": "palavra = \"banana\"\nvezes = 5\nadivinha = \"\"\n\nwhile adivinha is not palavra:\n    if vezes > 0 and adivinha != palavra:\n        adivinha = input(f\"tente novamente, você tem mais {vezes} chances\")\n        vezes -= 1\n    elif adivinha == palavra:\n        print(\"parabéns!\")\n        break\n    else:\n        print(\"acabaram suas chances\")\n        break\n",
   "execution_count": null,
   "outputs": [
    {
     "name": "stdout",
     "text": "parabéns!\n",
     "output_type": "stream"
    }
   ]
  },
  {
   "cell_type": "markdown",
   "source": "### Exercício 9",
   "metadata": {
    "tags": [],
    "cell_id": "00034-e9aa3d0a-e2b6-43a2-bf2c-fbc2842a1897",
    "deepnote_cell_type": "markdown"
   }
  },
  {
   "cell_type": "markdown",
   "source": "Utilizando CONTINUE no loop, imprima apenas os números primos",
   "metadata": {
    "tags": [],
    "cell_id": "00035-75357728-6aa0-4f3a-a2d2-423249a048b5",
    "deepnote_cell_type": "markdown"
   }
  },
  {
   "cell_type": "code",
   "metadata": {
    "tags": [],
    "cell_id": "00036-61e2b67c-cda0-43ee-b6ac-e2cc272439a2",
    "deepnote_to_be_reexecuted": false,
    "source_hash": "5e9959b6",
    "execution_start": 1634599226242,
    "execution_millis": 11,
    "deepnote_cell_type": "code"
   },
   "source": "numbers = [1,3,5213,123,44,50,60,80,13,563]",
   "execution_count": null,
   "outputs": []
  },
  {
   "cell_type": "code",
   "metadata": {
    "tags": [],
    "cell_id": "00044-d8823870-89ca-4fb9-ac1e-59f6d639c00b",
    "deepnote_to_be_reexecuted": false,
    "source_hash": "539f76e",
    "execution_start": 1634599230150,
    "execution_millis": 6,
    "deepnote_cell_type": "code"
   },
   "source": "x1 = [1,3,5213,123,44,50,60,80,13,563]\n\nfor numero in x1:\n    if(numero % 2 != 0):\n        continue\n    print(numero)",
   "execution_count": null,
   "outputs": [
    {
     "name": "stdout",
     "text": "44\n50\n60\n80\n",
     "output_type": "stream"
    }
   ]
  },
  {
   "cell_type": "markdown",
   "source": "### Exercício 10",
   "metadata": {
    "tags": [],
    "cell_id": "00037-1d29c3c5-b20d-45a2-824d-186f67ab89f5",
    "deepnote_cell_type": "markdown"
   }
  },
  {
   "cell_type": "markdown",
   "source": "Dado o número alvo, peça um input para o usuário tentar acertar o número. Avise o usuário se o número chutado está abaixo ou acima do número alvo.",
   "metadata": {
    "tags": [],
    "cell_id": "00038-5a8c9720-326d-4d56-be48-9c8796b6d348",
    "deepnote_cell_type": "markdown"
   }
  },
  {
   "cell_type": "code",
   "metadata": {
    "tags": [],
    "cell_id": "00039-d6ed62a3-6134-418b-9f1b-8a4cdb6f5a89",
    "deepnote_to_be_reexecuted": false,
    "source_hash": "46dc4d86",
    "execution_start": 1634599234425,
    "execution_millis": 2,
    "deepnote_cell_type": "code"
   },
   "source": "target_number = 47",
   "execution_count": null,
   "outputs": []
  },
  {
   "cell_type": "code",
   "metadata": {
    "tags": [],
    "cell_id": "00048-3d0f8d37-6735-4022-a38d-75257e700d94",
    "deepnote_to_be_reexecuted": false,
    "source_hash": "aa3324b8",
    "execution_start": 1634599238244,
    "execution_millis": 5946,
    "deepnote_cell_type": "code"
   },
   "source": "random = 47\npessoa = int(input(\"Insira um número: \"))\n\nwhile pessoa != random:\n\tif pessoa> random:\n\t\tprint(\"Muito alto!\")\n\telse:\n\t\tprint(\"Muito baixo!\")\n\n\tpessoa = int(input(\"Insira um número: \"))\n\nprint(\"Acertou!\")",
   "execution_count": null,
   "outputs": [
    {
     "name": "stdout",
     "text": "Acertou!\n",
     "output_type": "stream"
    }
   ]
  },
  {
   "cell_type": "markdown",
   "source": "### Exercício 11",
   "metadata": {
    "tags": [],
    "cell_id": "00040-74335001-4d62-47a7-a967-0ee8af647910",
    "deepnote_cell_type": "markdown"
   }
  },
  {
   "cell_type": "markdown",
   "source": "Dado o número de cartão abaixo, imprima o número mascarando com * os dígitos, deixando visível apenas os 4 últimos. Por exemplo '587454787547' -> ********7547\n",
   "metadata": {
    "tags": [],
    "cell_id": "00041-5253bd8b-ec0f-4c55-b449-8a2e93e6feae",
    "deepnote_cell_type": "markdown"
   }
  },
  {
   "cell_type": "code",
   "metadata": {
    "tags": [],
    "cell_id": "00042-53958267-fb60-46da-a422-81a5c3fc0069",
    "deepnote_to_be_reexecuted": false,
    "source_hash": "a6c00731",
    "execution_start": 1634599249275,
    "execution_millis": 7,
    "deepnote_cell_type": "code"
   },
   "source": "numero_cartao = '587454787547'",
   "execution_count": null,
   "outputs": []
  },
  {
   "cell_type": "code",
   "metadata": {
    "tags": [],
    "cell_id": "00052-2d1ce043-0aeb-4d67-9892-add53751468b",
    "deepnote_to_be_reexecuted": false,
    "source_hash": "c5cffdbd",
    "execution_start": 1634598838299,
    "execution_millis": 2,
    "deepnote_cell_type": "code"
   },
   "source": "cartao = '587454787547'\n\nprint('*' * (len(cartao)-4) + cartao[-4:])",
   "execution_count": null,
   "outputs": [
    {
     "name": "stdout",
     "text": "********7547\n",
     "output_type": "stream"
    }
   ]
  },
  {
   "cell_type": "markdown",
   "source": "### Exercício 12",
   "metadata": {
    "tags": [],
    "cell_id": "00043-30dd04b6-878e-4186-90cf-da41c4dd0abf",
    "deepnote_cell_type": "markdown"
   }
  },
  {
   "cell_type": "markdown",
   "source": "Peça ao usuário um número N, imprima na tela a sequência de fibonacci até o número N.",
   "metadata": {
    "tags": [],
    "cell_id": "00044-c7b5e43a-b3e4-494e-be1e-100994d36b90",
    "deepnote_to_be_reexecuted": false,
    "source_hash": "1670f4da",
    "execution_start": 1634591816172,
    "execution_millis": 273,
    "deepnote_cell_type": "markdown"
   }
  },
  {
   "cell_type": "code",
   "metadata": {
    "tags": [],
    "cell_id": "00045-97223b8e-05cf-4613-9ac8-905da74cc78b",
    "deepnote_to_be_reexecuted": false,
    "source_hash": "44b652c3",
    "execution_start": 1634599253781,
    "execution_millis": 2597,
    "deepnote_cell_type": "code"
   },
   "source": "x1 = int(input(\"digite o valor de x1\"))\nx2, x3 = 0, 1\nwhile x2 <= x1:\n    print(x2, end=' ')\n    x2, x3 = x3, x1+x2",
   "execution_count": null,
   "outputs": [
    {
     "name": "stdout",
     "text": "0 1 5 ",
     "output_type": "stream"
    }
   ]
  },
  {
   "cell_type": "markdown",
   "source": "<a style='text-decoration:none;line-height:16px;display:flex;color:#5B5B62;padding:10px;justify-content:end;' href='https://deepnote.com?utm_source=created-in-deepnote-cell&projectId=938d41c1-7ef0-4e0a-94e2-88ddb0213bd2' target=\"_blank\">\n<img alt='Created in deepnote.com' style='display:inline;max-height:16px;margin:0px;margin-right:7.5px;' src='data:image/svg+xml;base64,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' > </img>\nCreated in <span style='font-weight:600;margin-left:4px;'>Deepnote</span></a>",
   "metadata": {
    "tags": [],
    "created_in_deepnote_cell": true,
    "deepnote_cell_type": "markdown"
   }
  }
 ],
 "nbformat": 4,
 "nbformat_minor": 2,
 "metadata": {
  "orig_nbformat": 2,
  "deepnote": {
   "is_reactive": false
  },
  "deepnote_notebook_id": "f68ef9f2-3c8b-46c0-b252-c65b2c51b44c",
  "deepnote_execution_queue": []
 }
}
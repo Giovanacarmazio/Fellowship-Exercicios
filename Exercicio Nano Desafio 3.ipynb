{
 "cells": [
  {
   "cell_type": "code",
   "metadata": {
    "tags": [],
    "cell_id": "00000-97e8ad43-83c2-46f0-a6c5-c38db63262a1",
    "deepnote_cell_type": "code"
   },
   "source": "",
   "execution_count": null,
   "outputs": []
  },
  {
   "cell_type": "markdown",
   "source": "<div>\n    <p style=\"float: right;\"><img src=\"https://media.swipepages.com/2021/2/sirius-logo-principal-tag-1-300.png\" height=\"80px\"border=\"1px\"></p>\n    \n</div>\n<h1>Nano Desafio 4 </h1>\n<h2> Exercícios sobre funções e módulos  </h2>\n\nAluno: Giovana Isabel Souza Carmazio\n\nData:20/10/2021\n",
   "metadata": {
    "tags": [],
    "cell_id": "00001-bd9419d4-4f12-4f92-8bae-f2184e12b88b",
    "deepnote_cell_type": "markdown"
   }
  },
  {
   "cell_type": "markdown",
   "source": "No Python, assim como outras linguagens, existem algumas funções que estão sempre disponíveis sem a necessidade de importação de nenhum módulo. Você pode ler mais sobre elas navegando na documentação oficial do python: https://docs.python.org/pt-br/3.9/library/functions.html. Iremos fazer alguns exercícios para aprendermos como utilizá-las.",
   "metadata": {
    "tags": [],
    "cell_id": "00002-9ae5b76c-2f30-4ea4-bfe2-2e95a2beaebd",
    "deepnote_cell_type": "markdown"
   }
  },
  {
   "cell_type": "markdown",
   "source": "# Exercício 1\nEscreva uma função que receba uma string como argumento e imprima essa string na tela",
   "metadata": {
    "tags": [],
    "cell_id": "00003-cd2ddc65-49e1-4f68-8dcd-8e7e8e8f19a7",
    "deepnote_cell_type": "markdown"
   }
  },
  {
   "cell_type": "code",
   "metadata": {
    "tags": [],
    "cell_id": "00004-35515ee1-cefd-44fa-8af1-841079a6a200",
    "deepnote_to_be_reexecuted": false,
    "source_hash": "ab5d1a51",
    "execution_start": 1634776343566,
    "execution_millis": 6,
    "deepnote_cell_type": "code"
   },
   "source": "def fruit():\n    fruit=\"Banana\"\n    print(fruit)",
   "execution_count": null,
   "outputs": []
  },
  {
   "cell_type": "markdown",
   "source": "# Exercício 2\nEscreva uma função que recebe uma lista de números e imprime o menor valor entre eles",
   "metadata": {
    "tags": [],
    "cell_id": "00004-e3c1c7a0-c2c7-4fea-8923-019eb8e0f62e",
    "deepnote_cell_type": "markdown"
   }
  },
  {
   "cell_type": "code",
   "metadata": {
    "tags": [],
    "cell_id": "00006-154897d0-a1b1-4ec1-a568-c5adb6f6edd0",
    "deepnote_to_be_reexecuted": false,
    "source_hash": "bdc77606",
    "execution_start": 1634825933534,
    "execution_millis": 10,
    "deepnote_cell_type": "code"
   },
   "source": "def menor(lista):\n    print(min(lista))\n\nmin([10,20,30,40,2])",
   "execution_count": null,
   "outputs": [
    {
     "output_type": "execute_result",
     "execution_count": 8,
     "data": {
      "text/plain": "2"
     },
     "metadata": {}
    }
   ]
  },
  {
   "cell_type": "markdown",
   "source": "# Exercício 3\nDada a lista abaixo, escreva uma função capaz de imprimir a quantidade de itens nela. <br>\nlista = [1,5,4,6,12,5,0]",
   "metadata": {
    "tags": [],
    "cell_id": "00005-d1c37362-047b-4d84-9ea2-0fa6d1614103",
    "deepnote_cell_type": "markdown"
   }
  },
  {
   "cell_type": "code",
   "metadata": {
    "tags": [],
    "cell_id": "00008-f321828d-3216-43c5-a228-6273c9f777cb",
    "deepnote_to_be_reexecuted": false,
    "source_hash": "3138b19c",
    "execution_start": 1635186781878,
    "execution_millis": 349139428,
    "deepnote_cell_type": "code"
   },
   "source": "lista = [1,5,4,6,12,5,0]\n\ndef qty(lista):\n    print(len(lista))\n\nqty(lista)",
   "outputs": [
    {
     "name": "stdout",
     "text": "7\n",
     "output_type": "stream"
    }
   ],
   "execution_count": null
  },
  {
   "cell_type": "markdown",
   "source": "# Exercício 4\nCrie uma função que imprime o último elemento de uma lista utilizando len() <br>\nlista = [\"João\", \"Maria\", \"José\"]\n",
   "metadata": {
    "tags": [],
    "cell_id": "00006-2037f87b-bba5-4d3b-aa29-a6df4a846ac1",
    "deepnote_cell_type": "markdown"
   }
  },
  {
   "cell_type": "code",
   "metadata": {
    "tags": [],
    "cell_id": "00010-f0a44dbf-a2f8-4a0c-b386-83274450bdbc",
    "deepnote_to_be_reexecuted": false,
    "source_hash": "e180a32c",
    "execution_start": 1634776029965,
    "execution_millis": 2,
    "deepnote_cell_type": "code"
   },
   "source": "lista = [\"João\", \"Maria\", \"José\"]\nfuncao = len(lista) - 1\nultimo = lista[funcao]\nprint(ultimo)\n# 5",
   "execution_count": null,
   "outputs": [
    {
     "name": "stdout",
     "text": "José\n",
     "output_type": "stream"
    }
   ]
  },
  {
   "cell_type": "markdown",
   "source": "# Exercício 5\nEscreva uma função que ordene uma lista de números e a imprime. <br>\nlista_numeros = [100, 2, 3, 500, 24, 10]",
   "metadata": {
    "tags": [],
    "cell_id": "00007-5629433f-6a8c-426b-95a3-f62ebb0941c5",
    "deepnote_cell_type": "markdown"
   }
  },
  {
   "cell_type": "code",
   "metadata": {
    "tags": [],
    "cell_id": "00012-1389bc57-e2d7-4222-9856-f7451e5288db",
    "deepnote_to_be_reexecuted": false,
    "source_hash": "d7ce7161",
    "execution_start": 1634769641432,
    "execution_millis": 6,
    "deepnote_cell_type": "code"
   },
   "source": "lista = [1,5,4,6,12,5,0]\nlista_ordenadas = sorted(lista)\nprint(lista_ordenadas)",
   "execution_count": null,
   "outputs": [
    {
     "name": "stdout",
     "text": "[0, 1, 4, 5, 5, 6, 12]\n",
     "output_type": "stream"
    }
   ]
  },
  {
   "cell_type": "markdown",
   "source": "# Exercício 6\nEscreva uma função que ordene uma lista de números e a imprime em ordem reversa. <br>\nlista_numeros = [100, 2, 3, 500, 24, 10]\n",
   "metadata": {
    "tags": [],
    "cell_id": "00008-cd8066b2-e12b-445e-9353-c28e38a51638",
    "deepnote_cell_type": "markdown"
   }
  },
  {
   "cell_type": "code",
   "metadata": {
    "tags": [],
    "cell_id": "00014-f1a553ef-7fba-4341-905c-b26ed1e866ae",
    "deepnote_to_be_reexecuted": false,
    "source_hash": "9a750693",
    "execution_start": 1634769920546,
    "execution_millis": 6,
    "deepnote_cell_type": "code"
   },
   "source": "lista = [1,5,4,6,12,5,0]\nnovalista = list(reversed(lista))\nprint(novalista)\n",
   "execution_count": null,
   "outputs": [
    {
     "name": "stdout",
     "text": "[0, 5, 12, 6, 4, 5, 1]\n",
     "output_type": "stream"
    }
   ]
  },
  {
   "cell_type": "markdown",
   "source": "# Exercício 7\nEscreva uma função que receba um input (variável tipo int) e divida esse número por 2, arredondando o valor final. <br>\n\n",
   "metadata": {
    "tags": [],
    "cell_id": "00009-0ff3f73f-24c0-42f0-9a42-b75a96cc70a1",
    "deepnote_cell_type": "markdown"
   }
  },
  {
   "cell_type": "code",
   "metadata": {
    "tags": [],
    "cell_id": "00016-f5550f58-e144-41c3-ab76-cc9d1bfe605e",
    "deepnote_to_be_reexecuted": false,
    "source_hash": "4f02ea79",
    "execution_start": 1634770455755,
    "execution_millis": 10606,
    "deepnote_cell_type": "code"
   },
   "source": "funcao = int(input('Numero : '))\nresulfuncao= funcao / 2\nprint(\"Arredondado pra baixo: \", round(resulfuncao-0.5) )\nprint(\"Arredondado pra cima : \", round(resulfuncao+0.5) )",
   "execution_count": null,
   "outputs": [
    {
     "name": "stdout",
     "text": "Arredondado pra baixo:  6\nArredondado pra cima :  7\n",
     "output_type": "stream"
    }
   ]
  },
  {
   "cell_type": "markdown",
   "source": "# Exercício 8\nDada a lista abaixo, para cada item contido nela, imprima o seu tipo <br>\n\nlista = ['1', 1, True, 23.5, [1,2], {\"age\": 12}]\n",
   "metadata": {
    "tags": [],
    "cell_id": "00010-cd8785f5-ed7d-461f-ba27-f08ca2bef6e1",
    "deepnote_cell_type": "markdown"
   }
  },
  {
   "cell_type": "code",
   "metadata": {
    "tags": [],
    "cell_id": "00018-f4ca4135-c371-4a7f-9507-2ca114cfcba0",
    "deepnote_to_be_reexecuted": false,
    "source_hash": "1a6ad59",
    "execution_start": 1634771517196,
    "execution_millis": 10,
    "deepnote_cell_type": "code"
   },
   "source": "lista = ['1', 1, True, 23.5, [1,2], {\"age\": 12}]\n\nprint(type('1'))\nprint(type(1))\nprint(type(True))\nprint(type(23.5))\nprint(type(\"1,2\"))\nprint(type('age\": 12'))\n",
   "execution_count": null,
   "outputs": [
    {
     "name": "stdout",
     "text": "<class 'str'>\n<class 'int'>\n<class 'bool'>\n<class 'float'>\n<class 'str'>\n<class 'str'>\n",
     "output_type": "stream"
    }
   ]
  },
  {
   "cell_type": "markdown",
   "source": "# Exercícios 9",
   "metadata": {
    "tags": [],
    "cell_id": "00011-da557707-8726-4490-a53c-90af57967cd8",
    "deepnote_cell_type": "markdown"
   }
  },
  {
   "cell_type": "markdown",
   "source": "Dada as duas tuplas abaixo, junte as retornando: ((1,\"janeiro\"), (2,\"fevereiro\"), (3,\"março\"))",
   "metadata": {
    "tags": [],
    "cell_id": "00012-1809816b-f953-4a8a-bf80-e02ff9b7c2bc",
    "deepnote_cell_type": "markdown"
   }
  },
  {
   "cell_type": "code",
   "metadata": {
    "tags": [],
    "cell_id": "00013-b02d8d2c-31f9-429f-90f3-9e13effbca5a",
    "deepnote_to_be_reexecuted": false,
    "source_hash": "285a181a",
    "execution_start": 1634771101953,
    "execution_millis": 6,
    "deepnote_cell_type": "code"
   },
   "source": "mes = (\"janeiro\", \"fevereiro\", \"março\")\nnumero = (1,2,3)\n\njuncao=[(numero[i],mes[i]) for i in range(0,len(mes))]\n\nprint(juncao)",
   "execution_count": null,
   "outputs": [
    {
     "name": "stdout",
     "text": "[(1, 'janeiro'), (2, 'fevereiro'), (3, 'março')]\n",
     "output_type": "stream"
    }
   ]
  },
  {
   "cell_type": "markdown",
   "source": "# Exercício 10\nImporte o módulo math do python, em seguida, peça um número ao usuário e retorne a raiz quadrada do mesmo.",
   "metadata": {
    "tags": [],
    "cell_id": "00014-6dc9b06f-0bc8-4340-830d-c99dedda7420",
    "deepnote_cell_type": "markdown"
   }
  },
  {
   "cell_type": "markdown",
   "source": "### Criação de arquivos no Deepnote",
   "metadata": {
    "tags": [],
    "cell_id": "00012-cc2eae09-a8ce-4e1a-9ccb-2f6aeca4c4b0",
    "deepnote_cell_type": "markdown"
   }
  },
  {
   "cell_type": "markdown",
   "source": "Você pode criar scripts em python no Deepnote para serem utilizados como módulos. Selecione o botão + no menu a esquerda e selecione NEW FILE. Renomeie o arquivo para o nome que você quiser dar a seu módulo e não se esqueça de adicionar .py no final.",
   "metadata": {
    "tags": [],
    "cell_id": "00012-d758486b-1b40-4df3-ab73-f55ecc35c9c9",
    "deepnote_cell_type": "markdown"
   }
  },
  {
   "cell_type": "markdown",
   "source": "![create file](/work/images/print.png)",
   "metadata": {
    "tags": [],
    "cell_id": "00013-72a1a9a2-bc75-4ffd-aefc-00fe6c82376d",
    "deepnote_cell_type": "markdown"
   }
  },
  {
   "cell_type": "markdown",
   "source": "# Exercício 11\nCrie um arquivo com o nome de calculadora.py. Nele você deve criar um módulo com uma função que recebe dois números e retorna a soma. Importe a calculadora abaixo e utilize o método soma dela.",
   "metadata": {
    "tags": [],
    "cell_id": "00015-2b49c6c3-b9de-4cee-89b7-8cbc2c63fe81",
    "deepnote_cell_type": "markdown"
   }
  },
  {
   "cell_type": "markdown",
   "source": "",
   "metadata": {
    "tags": [],
    "cell_id": "00019-5bd73692-56c1-4f4b-9581-df1776984236",
    "deepnote_cell_type": "markdown"
   }
  },
  {
   "cell_type": "code",
   "metadata": {
    "tags": [],
    "cell_id": "00028-97a27fdc-d764-42ac-9985-1be6ee39c374",
    "deepnote_to_be_reexecuted": false,
    "source_hash": "4ad6382b",
    "execution_start": 1634776957418,
    "execution_millis": 3,
    "deepnote_cell_type": "code"
   },
   "source": "import calculadora\n\nresul = calculadora.somar(2,7)\nprint(resul)\n",
   "execution_count": null,
   "outputs": [
    {
     "name": "stdout",
     "text": "9\n",
     "output_type": "stream"
    }
   ]
  },
  {
   "cell_type": "markdown",
   "source": "<a style='text-decoration:none;line-height:16px;display:flex;color:#5B5B62;padding:10px;justify-content:end;' href='https://deepnote.com?utm_source=created-in-deepnote-cell&projectId=51f892ee-7d9f-4237-8416-4fc56a92dd94' target=\"_blank\">\n<img alt='Created in deepnote.com' style='display:inline;max-height:16px;margin:0px;margin-right:7.5px;' src='data:image/svg+xml;base64,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' > </img>\nCreated in <span style='font-weight:600;margin-left:4px;'>Deepnote</span></a>",
   "metadata": {
    "tags": [],
    "created_in_deepnote_cell": true,
    "deepnote_cell_type": "markdown"
   }
  }
 ],
 "nbformat": 4,
 "nbformat_minor": 2,
 "metadata": {
  "orig_nbformat": 2,
  "deepnote": {
   "is_reactive": false
  },
  "deepnote_notebook_id": "f487c5d0-6d82-425a-870b-538186b3e7a9",
  "deepnote_execution_queue": []
 }
}